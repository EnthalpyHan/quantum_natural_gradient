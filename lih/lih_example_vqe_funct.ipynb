{
 "cells": [
  {
   "cell_type": "code",
   "execution_count": 4,
   "metadata": {
    "colab": {},
    "colab_type": "code",
    "id": "JK_gVKFbS3mR"
   },
   "outputs": [],
   "source": [
    "#import packages\n",
    "import numpy as np\n",
    "import pennylane as qml\n",
    "from pennylane import expval, var, device, VQECost\n",
    "from run_vqe import run_vqe\n",
    "pi = np.pi"
   ]
  },
  {
   "cell_type": "code",
   "execution_count": 5,
   "metadata": {
    "colab": {
     "base_uri": "https://localhost:8080/",
     "height": 1000
    },
    "colab_type": "code",
    "id": "v3agYICYWLuq",
    "outputId": "0deef5fc-5fb9-4d07-a816-dba53d777223"
   },
   "outputs": [
    {
     "name": "stdout",
     "output_type": "stream",
     "text": [
      "4\n"
     ]
    }
   ],
   "source": [
    "name ='LiH';charge = 0;multiplicity=1;basis= 'sto-3g';geometry = 'lih.xyz';\n",
    "h, nr_qubits = qml.qchem.generate_hamiltonian(\n",
    "    name,\n",
    "    geometry,\n",
    "    charge,\n",
    "    multiplicity,\n",
    "    basis,\n",
    "    mapping='jordan_wigner',\n",
    "    n_active_orbitals=2,\n",
    "    n_active_electrons=2,\n",
    ")\n",
    "print(nr_qubits)"
   ]
  },
  {
   "cell_type": "code",
   "execution_count": 6,
   "metadata": {
    "colab": {},
    "colab_type": "code",
    "id": "Uej1Hp1cS74d"
   },
   "outputs": [],
   "source": [
    "dev = qml.device(\"default.qubit\", wires=4)\n",
    "def ansatz(params, wires=[0,1,2,3]):\n",
    "    for i in wires:\n",
    "        qml.RY(params[i], wires=wires[i])\n",
    "    qml.CNOT(wires=[wires[0], wires[1]])\n",
    "    qml.CNOT(wires=[wires[2], wires[3]])\n",
    "    qml.CNOT(wires=[wires[1], wires[2]])\n",
    "    for i in wires:\n",
    "        qml.RY(params[i+4], wires=wires[i])\n",
    "    qml.CNOT(wires=[wires[0], wires[1]])\n",
    "    qml.CNOT(wires=[wires[2], wires[3]])\n",
    "    qml.CNOT(wires=[wires[1], wires[2]])"
   ]
  },
  {
   "cell_type": "code",
   "execution_count": 7,
   "metadata": {
    "colab": {},
    "colab_type": "code",
    "id": "b7zx1-VGXo2e"
   },
   "outputs": [],
   "source": [
    "cost = VQECost(ansatz, h, dev)"
   ]
  },
  {
   "cell_type": "code",
   "execution_count": 8,
   "metadata": {
    "colab": {
     "base_uri": "https://localhost:8080/",
     "height": 1000
    },
    "colab_type": "code",
    "id": "7Kz1HQIc44UQ",
    "outputId": "646dbb51-e5a1-472e-9af8-38174dddead1"
   },
   "outputs": [
    {
     "name": "stdout",
     "output_type": "stream",
     "text": [
      "QNG\n",
      "Iteration = 0,  Ground-state energy = -7.36058201 Ha,  Convergence parameter = 0.03386023 Ha\n",
      "Iteration = 20,  Ground-state energy = -7.60995302 Ha,  Convergence parameter = 0.00261710 Ha\n",
      "Iteration = 40,  Ground-state energy = -7.64552000 Ha,  Convergence parameter = 0.00129223 Ha\n",
      "Iteration = 60,  Ground-state energy = -7.66473266 Ha,  Convergence parameter = 0.00072327 Ha\n",
      "Iteration = 80,  Ground-state energy = -7.67599575 Ha,  Convergence parameter = 0.00044978 Ha\n",
      "Iteration = 100,  Ground-state energy = -7.68336948 Ha,  Convergence parameter = 0.00030753 Ha\n",
      "Iteration = 120,  Ground-state energy = -7.68852673 Ha,  Convergence parameter = 0.00021883 Ha\n",
      "Iteration = 140,  Ground-state energy = -7.69226291 Ha,  Convergence parameter = 0.00016242 Ha\n",
      "Iteration = 160,  Ground-state energy = -7.69516001 Ha,  Convergence parameter = 0.00013289 Ha\n",
      "Iteration = 180,  Ground-state energy = -7.69771041 Ha,  Convergence parameter = 0.00012587 Ha\n",
      "Vanilla\n",
      "Iteration = 0,  Ground-state energy = -7.33239907 Ha,  Convergence parameter = 0.00567729 Ha\n",
      "Iteration = 20,  Ground-state energy = -7.43991185 Ha,  Convergence parameter = 0.00492767 Ha\n",
      "Iteration = 40,  Ground-state energy = -7.52354090 Ha,  Convergence parameter = 0.00346581 Ha\n",
      "Iteration = 60,  Ground-state energy = -7.57813740 Ha,  Convergence parameter = 0.00213045 Ha\n",
      "Iteration = 80,  Ground-state energy = -7.61095028 Ha,  Convergence parameter = 0.00127241 Ha\n",
      "Iteration = 100,  Ground-state energy = -7.63096280 Ha,  Convergence parameter = 0.00080156 Ha\n",
      "Iteration = 120,  Ground-state energy = -7.64409106 Ha,  Convergence parameter = 0.00054889 Ha\n",
      "Iteration = 140,  Ground-state energy = -7.65342518 Ha,  Convergence parameter = 0.00040383 Ha\n",
      "Iteration = 160,  Ground-state energy = -7.66047039 Ha,  Convergence parameter = 0.00031140 Ha\n",
      "Iteration = 180,  Ground-state energy = -7.66598552 Ha,  Convergence parameter = 0.00024677 Ha\n"
     ]
    }
   ],
   "source": [
    "max_iterations = 200\n",
    "step_size = 0.05\n",
    "conv_tol = 1e-06\n",
    "initial_params = np.random.uniform(low=0, high=2*np.pi, size=8)\n",
    "\n",
    "print(\"QNG\")\n",
    "qng_run = run_vqe(cost, max_iterations, initial_params, 'QNGOptimizer', step_size, diag_approx=False)\n",
    "\n",
    "print(\"Vanilla\")\n",
    "vanilla_run = run_vqe(cost, max_iterations, initial_params, 'GradientDescentOptimizer', step_size)"
   ]
  },
  {
   "cell_type": "code",
   "execution_count": 10,
   "metadata": {
    "colab": {
     "base_uri": "https://localhost:8080/",
     "height": 279
    },
    "colab_type": "code",
    "id": "4tDMZhD045nO",
    "outputId": "6c1281c3-7c9f-4a19-8089-09f091dbfebc"
   },
   "outputs": [
    {
     "data": {
      "image/png": "[encoded data removed]",
      "text/plain": [
       "<Figure size 432x288 with 1 Axes>"
      ]
     },
     "metadata": {
      "needs_background": "light"
     },
     "output_type": "display_data"
    }
   ],
   "source": [
    "from matplotlib import pyplot as plt\n",
    "plt.plot(qng_run, \"black\", label=\"quantum natural gradient descent\")\n",
    "plt.plot(vanilla_run, \"pink\", label=\"vanilla natural gradient descent\")\n",
    "\n",
    "plt.ylabel(\"Energy\")\n",
    "plt.xlabel(\"Step\")\n",
    "plt.legend()\n",
    "plt.show()"
   ]
  },
  {
   "cell_type": "code",
   "execution_count": 0,
   "metadata": {
    "colab": {},
    "colab_type": "code",
    "id": "bwIk0dqkBMJa"
   },
   "outputs": [],
   "source": []
  }
 ],
 "metadata": {
  "colab": {
   "name": "lih_example.ipynb",
   "provenance": []
  },
  "kernelspec": {
   "display_name": "Python 3",
   "language": "python",
   "name": "python3"
  },
  "language_info": {
   "codemirror_mode": {
    "name": "ipython",
    "version": 3
   },
   "file_extension": ".py",
   "mimetype": "text/x-python",
   "name": "python",
   "nbconvert_exporter": "python",
   "pygments_lexer": "ipython3",
   "version": "3.7.4"
  }
 },
 "nbformat": 4,
 "nbformat_minor": 1
}
