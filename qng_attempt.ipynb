{
  "nbformat": 4,
  "nbformat_minor": 0,
  "metadata": {
    "colab": {
      "name": "qng attempt ",
      "provenance": []
    },
    "kernelspec": {
      "name": "python3",
      "display_name": "Python 3"
    }
  },
  "cells": [
    {
      "cell_type": "code",
      "metadata": {
        "id": "Iq4LqaN1jLB-",
        "colab_type": "code",
        "colab": {
          "base_uri": "https://localhost:8080/",
          "height": 437
        },
        "outputId": "36dfd505-9695-4f0c-8de7-22730d859712"
      },
      "source": [
        "!pip install pennylane-sf --upgrade"
      ],
      "execution_count": 1,
      "outputs": [
        {
          "output_type": "stream",
          "text": [
            "Requirement already up-to-date: pennylane-sf in /usr/local/lib/python3.6/dist-packages (0.8.0)\n",
            "Requirement already satisfied, skipping upgrade: pennylane>=0.6 in /usr/local/lib/python3.6/dist-packages (from pennylane-sf) (0.8.1)\n",
            "Requirement already satisfied, skipping upgrade: strawberryfields>=0.11 in /usr/local/lib/python3.6/dist-packages (from pennylane-sf) (0.12.1)\n",
            "Requirement already satisfied, skipping upgrade: autograd in /usr/local/lib/python3.6/dist-packages (from pennylane>=0.6->pennylane-sf) (1.3)\n",
            "Requirement already satisfied, skipping upgrade: appdirs in /usr/local/lib/python3.6/dist-packages (from pennylane>=0.6->pennylane-sf) (1.4.3)\n",
            "Requirement already satisfied, skipping upgrade: numpy in /usr/local/lib/python3.6/dist-packages (from pennylane>=0.6->pennylane-sf) (1.18.2)\n",
            "Requirement already satisfied, skipping upgrade: scipy in /usr/local/lib/python3.6/dist-packages (from pennylane>=0.6->pennylane-sf) (1.4.1)\n",
            "Requirement already satisfied, skipping upgrade: toml in /usr/local/lib/python3.6/dist-packages (from pennylane>=0.6->pennylane-sf) (0.10.0)\n",
            "Requirement already satisfied, skipping upgrade: semantic-version==2.6 in /usr/local/lib/python3.6/dist-packages (from pennylane>=0.6->pennylane-sf) (2.6.0)\n",
            "Requirement already satisfied, skipping upgrade: networkx in /usr/local/lib/python3.6/dist-packages (from pennylane>=0.6->pennylane-sf) (2.4)\n",
            "Requirement already satisfied, skipping upgrade: quantum-blackbird>=0.2.0 in /usr/local/lib/python3.6/dist-packages (from strawberryfields>=0.11->pennylane-sf) (0.2.3)\n",
            "Requirement already satisfied, skipping upgrade: thewalrus>=0.10 in /usr/local/lib/python3.6/dist-packages (from strawberryfields>=0.11->pennylane-sf) (0.12.0)\n",
            "Requirement already satisfied, skipping upgrade: future>=0.15.2 in /usr/local/lib/python3.6/dist-packages (from autograd->pennylane>=0.6->pennylane-sf) (0.16.0)\n",
            "Requirement already satisfied, skipping upgrade: decorator>=4.3.0 in /usr/local/lib/python3.6/dist-packages (from networkx->pennylane>=0.6->pennylane-sf) (4.4.2)\n",
            "Requirement already satisfied, skipping upgrade: sympy in /usr/local/lib/python3.6/dist-packages (from quantum-blackbird>=0.2.0->strawberryfields>=0.11->pennylane-sf) (1.1.1)\n",
            "Requirement already satisfied, skipping upgrade: antlr4-python3-runtime>=4.7.2 in /usr/local/lib/python3.6/dist-packages (from quantum-blackbird>=0.2.0->strawberryfields>=0.11->pennylane-sf) (4.8)\n",
            "Requirement already satisfied, skipping upgrade: dask[delayed] in /usr/local/lib/python3.6/dist-packages (from thewalrus>=0.10->strawberryfields>=0.11->pennylane-sf) (2.12.0)\n",
            "Requirement already satisfied, skipping upgrade: numba>=0.43.1 in /usr/local/lib/python3.6/dist-packages (from thewalrus>=0.10->strawberryfields>=0.11->pennylane-sf) (0.47.0)\n",
            "Requirement already satisfied, skipping upgrade: mpmath>=0.19 in /usr/local/lib/python3.6/dist-packages (from sympy->quantum-blackbird>=0.2.0->strawberryfields>=0.11->pennylane-sf) (1.1.0)\n",
            "Requirement already satisfied, skipping upgrade: toolz>=0.7.3; extra == \"delayed\" in /usr/local/lib/python3.6/dist-packages (from dask[delayed]->thewalrus>=0.10->strawberryfields>=0.11->pennylane-sf) (0.10.0)\n",
            "Requirement already satisfied, skipping upgrade: cloudpickle>=0.2.1; extra == \"delayed\" in /usr/local/lib/python3.6/dist-packages (from dask[delayed]->thewalrus>=0.10->strawberryfields>=0.11->pennylane-sf) (1.3.0)\n",
            "Requirement already satisfied, skipping upgrade: setuptools in /usr/local/lib/python3.6/dist-packages (from numba>=0.43.1->thewalrus>=0.10->strawberryfields>=0.11->pennylane-sf) (46.0.0)\n",
            "Requirement already satisfied, skipping upgrade: llvmlite>=0.31.0dev0 in /usr/local/lib/python3.6/dist-packages (from numba>=0.43.1->thewalrus>=0.10->strawberryfields>=0.11->pennylane-sf) (0.31.0)\n"
          ],
          "name": "stdout"
        }
      ]
    },
    {
      "cell_type": "code",
      "metadata": {
        "id": "_XxlMDcyjOad",
        "colab_type": "code",
        "colab": {}
      },
      "source": [
        "import numpy as np\n",
        "import pennylane as qml\n",
        "from pennylane import expval, var"
      ],
      "execution_count": 0,
      "outputs": []
    },
    {
      "cell_type": "code",
      "metadata": {
        "id": "ngn7GRo7m6p4",
        "colab_type": "code",
        "colab": {
          "base_uri": "https://localhost:8080/",
          "height": 34
        },
        "outputId": "1529d1b4-17ee-4842-b687-d9ce29ce7b4a"
      },
      "source": [
        "dev = qml.device(\"default.qubit\", wires=1)\n",
        "\n",
        "@qml.qnode(dev)\n",
        "\n",
        "# create circuit, pauli-x and pauli-y operators\n",
        "def circuit(params):\n",
        "    qml.RX(params[0], wires=0)\n",
        "    qml.RY(params[1], wires=0)\n",
        "\n",
        "    # expectation value of pauli-z operator\n",
        "    return qml.expval(qml.PauliZ(0))\n",
        "\n",
        "# what are the appropriate numerical inputs??\n",
        "print(circuit([0.54, 0.12]))"
      ],
      "execution_count": 19,
      "outputs": [
        {
          "output_type": "stream",
          "text": [
            "0.8515405859048366\n"
          ],
          "name": "stdout"
        }
      ]
    },
    {
      "cell_type": "code",
      "metadata": {
        "id": "QYc6OFM9YyCF",
        "colab_type": "code",
        "colab": {
          "base_uri": "https://localhost:8080/",
          "height": 34
        },
        "outputId": "4af92442-b205-4235-e8bc-c5c18c028f24"
      },
      "source": [
        "# calculuate gradient for quantum circuit function (the qnode) for parameters 0 and 1 \n",
        "@qml.qnode(dev)\n",
        "def circuit2(phi1, phi2):\n",
        "    qml.RX(phi1, wires=0)\n",
        "    qml.RY(phi2, wires=0)\n",
        "    return qml.expval(qml.PauliZ(0))\n",
        "\n",
        "dcircuit = qml.grad(circuit2, argnum=[0, 1])\n",
        "print(dcircuit(0.54, 0.12))"
      ],
      "execution_count": 22,
      "outputs": [
        {
          "output_type": "stream",
          "text": [
            "(array(-0.51043865), array(-0.1026782))\n"
          ],
          "name": "stdout"
        }
      ]
    },
    {
      "cell_type": "code",
      "metadata": {
        "id": "eI1n4jwjZQwl",
        "colab_type": "code",
        "colab": {
          "base_uri": "https://localhost:8080/",
          "height": 34
        },
        "outputId": "dd8fb98c-cba2-4afc-8423-99186ee7f50b"
      },
      "source": [
        "# define the cost function \n",
        "def cost(var):\n",
        "    return circuit(var)\n",
        "\n",
        "init_params = np.array([np.pi/12, np.pi/12])\n",
        "print(cost(init_params))"
      ],
      "execution_count": 23,
      "outputs": [
        {
          "output_type": "stream",
          "text": [
            "0.9330127018922193\n"
          ],
          "name": "stdout"
        }
      ]
    },
    {
      "cell_type": "code",
      "metadata": {
        "id": "KUDFIcpFZ9hW",
        "colab_type": "code",
        "colab": {
          "base_uri": "https://localhost:8080/",
          "height": 382
        },
        "outputId": "559a1d00-a9f9-45b4-db0c-801a877e3b5b"
      },
      "source": [
        "# initialise the optimizer\n",
        "opt = qml.GradientDescentOptimizer(stepsize=0.05)\n",
        "\n",
        "# set the number of steps\n",
        "steps = 100\n",
        "# set the initial parameter values\n",
        "params = init_params\n",
        "\n",
        "for i in range(steps):\n",
        "    # update the circuit parameters\n",
        "    params = opt.step(cost, params)\n",
        "\n",
        "    if (i + 1) % 5 == 0:\n",
        "        print(\"Cost after step {:5d}: {: .7f}\".format(i + 1, cost(params)))\n",
        "\n",
        "print(\"Optimized rotation angles: {}\".format(params))"
      ],
      "execution_count": 24,
      "outputs": [
        {
          "output_type": "stream",
          "text": [
            "Cost after step     5:  0.8951115\n",
            "Cost after step    10:  0.8393090\n",
            "Cost after step    15:  0.7614356\n",
            "Cost after step    20:  0.6605828\n",
            "Cost after step    25:  0.5420330\n",
            "Cost after step    30:  0.4177844\n",
            "Cost after step    35:  0.3025168\n",
            "Cost after step    40:  0.2072568\n",
            "Cost after step    45:  0.1358817\n",
            "Cost after step    50:  0.0862815\n",
            "Cost after step    55:  0.0536069\n",
            "Cost after step    60:  0.0328385\n",
            "Cost after step    65:  0.0199379\n",
            "Cost after step    70:  0.0120389\n",
            "Cost after step    75:  0.0072450\n",
            "Cost after step    80:  0.0043511\n",
            "Cost after step    85:  0.0026100\n",
            "Cost after step    90:  0.0015644\n",
            "Cost after step    95:  0.0009373\n",
            "Cost after step   100:  0.0005614\n",
            "Optimized rotation angles: [1.54709986 1.54709986]\n"
          ],
          "name": "stdout"
        }
      ]
    },
    {
      "cell_type": "code",
      "metadata": {
        "id": "qCLpD6NVaK5V",
        "colab_type": "code",
        "colab": {
          "base_uri": "https://localhost:8080/",
          "height": 357
        },
        "outputId": "b4d17b3c-df31-49a9-e679-5627c2f34111"
      },
      "source": [
        "# initialise the optimizer\n",
        "opt = qml.QNGOptimizer(stepsize=0.05)\n",
        "\n",
        "# set the number of steps\n",
        "steps = 100\n",
        "# set the initial parameter values\n",
        "params = init_params\n",
        "\n",
        "for i in range(steps):\n",
        "    # update the circuit parameters\n",
        "    params = opt.step(cost, params)\n",
        "\n",
        "    if (i + 1) % 5 == 0:\n",
        "        print(\"Cost after step {:5d}: {: .7f}\".format(i + 1, cost(params)))\n",
        "\n",
        "print(\"Optimized rotation angles: {}\".format(params))"
      ],
      "execution_count": 25,
      "outputs": [
        {
          "output_type": "error",
          "ename": "ValueError",
          "evalue": "ignored",
          "traceback": [
            "\u001b[0;31m---------------------------------------------------------------------------\u001b[0m",
            "\u001b[0;31mValueError\u001b[0m                                Traceback (most recent call last)",
            "\u001b[0;32m<ipython-input-25-54aa4c24f000>\u001b[0m in \u001b[0;36m<module>\u001b[0;34m()\u001b[0m\n\u001b[1;32m      8\u001b[0m \u001b[0;32mfor\u001b[0m \u001b[0mi\u001b[0m \u001b[0;32min\u001b[0m \u001b[0mrange\u001b[0m\u001b[0;34m(\u001b[0m\u001b[0msteps\u001b[0m\u001b[0;34m)\u001b[0m\u001b[0;34m:\u001b[0m\u001b[0;34m\u001b[0m\u001b[0;34m\u001b[0m\u001b[0m\n\u001b[1;32m      9\u001b[0m     \u001b[0;31m# update the circuit parameters\u001b[0m\u001b[0;34m\u001b[0m\u001b[0;34m\u001b[0m\u001b[0;34m\u001b[0m\u001b[0m\n\u001b[0;32m---> 10\u001b[0;31m     \u001b[0mparams\u001b[0m \u001b[0;34m=\u001b[0m \u001b[0mopt\u001b[0m\u001b[0;34m.\u001b[0m\u001b[0mstep\u001b[0m\u001b[0;34m(\u001b[0m\u001b[0mcost\u001b[0m\u001b[0;34m,\u001b[0m \u001b[0mparams\u001b[0m\u001b[0;34m)\u001b[0m\u001b[0;34m\u001b[0m\u001b[0;34m\u001b[0m\u001b[0m\n\u001b[0m\u001b[1;32m     11\u001b[0m \u001b[0;34m\u001b[0m\u001b[0m\n\u001b[1;32m     12\u001b[0m     \u001b[0;32mif\u001b[0m \u001b[0;34m(\u001b[0m\u001b[0mi\u001b[0m \u001b[0;34m+\u001b[0m \u001b[0;36m1\u001b[0m\u001b[0;34m)\u001b[0m \u001b[0;34m%\u001b[0m \u001b[0;36m5\u001b[0m \u001b[0;34m==\u001b[0m \u001b[0;36m0\u001b[0m\u001b[0;34m:\u001b[0m\u001b[0;34m\u001b[0m\u001b[0;34m\u001b[0m\u001b[0m\n",
            "\u001b[0;32m/usr/local/lib/python3.6/dist-packages/pennylane/optimize/qng.py\u001b[0m in \u001b[0;36mstep\u001b[0;34m(self, qnode, x, recompute_tensor)\u001b[0m\n\u001b[1;32m    123\u001b[0m         \u001b[0;31m# pylint: disable=arguments-differ\u001b[0m\u001b[0;34m\u001b[0m\u001b[0;34m\u001b[0m\u001b[0;34m\u001b[0m\u001b[0m\n\u001b[1;32m    124\u001b[0m         \u001b[0;32mif\u001b[0m \u001b[0;32mnot\u001b[0m \u001b[0mhasattr\u001b[0m\u001b[0;34m(\u001b[0m\u001b[0mqnode\u001b[0m\u001b[0;34m,\u001b[0m \u001b[0;34m\"metric_tensor\"\u001b[0m\u001b[0;34m)\u001b[0m\u001b[0;34m:\u001b[0m\u001b[0;34m\u001b[0m\u001b[0;34m\u001b[0m\u001b[0m\n\u001b[0;32m--> 125\u001b[0;31m             \u001b[0;32mraise\u001b[0m \u001b[0mValueError\u001b[0m\u001b[0;34m(\u001b[0m\u001b[0;34m\"Objective function must be encoded as a single QNode\"\u001b[0m\u001b[0;34m)\u001b[0m\u001b[0;34m\u001b[0m\u001b[0;34m\u001b[0m\u001b[0m\n\u001b[0m\u001b[1;32m    126\u001b[0m \u001b[0;34m\u001b[0m\u001b[0m\n\u001b[1;32m    127\u001b[0m         \u001b[0;32mif\u001b[0m \u001b[0mrecompute_tensor\u001b[0m \u001b[0;32mor\u001b[0m \u001b[0mself\u001b[0m\u001b[0;34m.\u001b[0m\u001b[0mmetric_tensor\u001b[0m \u001b[0;32mis\u001b[0m \u001b[0;32mNone\u001b[0m\u001b[0;34m:\u001b[0m\u001b[0;34m\u001b[0m\u001b[0;34m\u001b[0m\u001b[0m\n",
            "\u001b[0;31mValueError\u001b[0m: Objective function must be encoded as a single QNode"
          ]
        }
      ]
    },
    {
      "cell_type": "markdown",
      "metadata": {
        "id": "qwFTXXHaRfcD",
        "colab_type": "text"
      },
      "source": [
        "## Optimize single qubit state\n",
        "\n",
        "Source 1: https://medium.com/mdr-inc/optimizing-target-single-qubit-state-preparation-using-blueqatsdk-and-bayesian-optimization-c5a03319583 \n",
        "\n",
        "Source 2: https://pennylane.ai/qml/demos/tutorial_qubit_rotation.html \n",
        "\n",
      ]
    },
    {
      "cell_type": "code",
      "metadata": {
        "id": "LGD0W14qnjE3",
        "colab_type": "code",
        "colab": {
          "base_uri": "https://localhost:8080/",
          "height": 139
        },
        "outputId": "9faf477e-5432-4492-ec1f-38f5183f0ed9"
      },
      "source": [
        "!pip3 install blueqat"
      ],
      "execution_count": 16,
      "outputs": [
        {
          "output_type": "stream",
          "text": [
            "Collecting blueqat\n",
            "\u001b[?25l  Downloading https://files.pythonhosted.org/packages/f6/73/20f9cff48caee1f69190f2e1ea93c4d7d0a745fc48defb5d3072d8337583/blueqat-0.3.13-py3-none-any.whl (50kB)\n",
            "\r\u001b[K     |██████▌                         | 10kB 21.8MB/s eta 0:00:01\r\u001b[K     |█████████████                   | 20kB 776kB/s eta 0:00:01\r\u001b[K     |███████████████████▍            | 30kB 997kB/s eta 0:00:01\r\u001b[K     |█████████████████████████▉      | 40kB 1.1MB/s eta 0:00:01\r\u001b[K     |████████████████████████████████| 51kB 887kB/s \n",
            "\u001b[?25hRequirement already satisfied: numpy~=1.12 in /usr/local/lib/python3.6/dist-packages (from blueqat) (1.18.2)\n",
            "Requirement already satisfied: scipy>=1.1.0 in /usr/local/lib/python3.6/dist-packages (from blueqat) (1.4.1)\n",
            "Installing collected packages: blueqat\n",
            "Successfully installed blueqat-0.3.13\n"
          ],
          "name": "stdout"
        }
      ]
    },
    {
      "cell_type": "code",
      "metadata": {
        "id": "udFe9bKIQZMQ",
        "colab_type": "code",
        "colab": {
          "base_uri": "https://localhost:8080/",
          "height": 34
        },
        "outputId": "56682666-2b4e-4c67-e588-58159a63e2f1"
      },
      "source": [
        "from blueqat import Circuit\n",
        "\n",
        "a = 0.5\n",
        "b = 0.5\n",
        "sv = Circuit().rx(a)[0].ry(b)[0].run()\n",
        "sv"
      ],
      "execution_count": 22,
      "outputs": [
        {
          "output_type": "execute_result",
          "data": {
            "text/plain": [
              "array([0.94078455+0.j        , 0.22360884-0.25480092j])"
            ]
          },
          "metadata": {
            "tags": []
          },
          "execution_count": 22
        }
      ]
    },
    {
      "cell_type": "markdown",
      "metadata": {
        "id": "Vm9HNRB-SgrT",
        "colab_type": "text"
      },
      "source": [
        "⟨ψ∣Z∣ψ⟩=|α|²−|β|² \n",
        "\n",
        "Hamilitonian Z where parameters a and b are the amplitudes"
      ]
    },
    {
      "cell_type": "code",
      "metadata": {
        "id": "Vin-9sWkQlzg",
        "colab_type": "code",
        "colab": {
          "base_uri": "https://localhost:8080/",
          "height": 34
        },
        "outputId": "c9f0071c-bdc4-4765-dc63-558a3d9acec4"
      },
      "source": [
        "import numpy as np\n",
        "\n",
        "eval = np.square(np.abs(sv[0]))-np.square(np.abs(sv[1]))\n",
        "eval"
      ],
      "execution_count": 23,
      "outputs": [
        {
          "output_type": "execute_result",
          "data": {
            "text/plain": [
              "0.7701511529340693"
            ]
          },
          "metadata": {
            "tags": []
          },
          "execution_count": 23
        }
      ]
    },
    {
      "cell_type": "markdown",
      "metadata": {
        "id": "coNqPPOiSrQI",
        "colab_type": "text"
      },
      "source": [
        "Set the target as Z = -1 and create loss function where loss=(eval−(−1))²=(eval+1)²"
      ]
    },
    {
      "cell_type": "code",
      "metadata": {
        "id": "pvqv6iiuQ1Xd",
        "colab_type": "code",
        "colab": {
          "base_uri": "https://localhost:8080/",
          "height": 34
        },
        "outputId": "a7830128-a678-4f81-a1a1-e791ece3a024"
      },
      "source": [
        "loss = np.square(eval+1)\n",
        "loss"
      ],
      "execution_count": 24,
      "outputs": [
        {
          "output_type": "execute_result",
          "data": {
            "text/plain": [
              "3.1334351042338144"
            ]
          },
          "metadata": {
            "tags": []
          },
          "execution_count": 24
        }
      ]
    },
    {
      "cell_type": "markdown",
      "metadata": {
        "id": "WAMv-rqjTAC2",
        "colab_type": "text"
      },
      "source": [
        "Gradient method shown in article to drive expectation value of pauli Z torwards its target state"
      ]
    },
    {
      "cell_type": "code",
      "metadata": {
        "id": "HCkPCNJ4RLKR",
        "colab_type": "code",
        "colab": {
          "base_uri": "https://localhost:8080/",
          "height": 34
        },
        "outputId": "8b4059aa-0d0f-466d-b619-dc3e7367a5c8"
      },
      "source": [
        "from blueqat import Circuit\n",
        "import numpy as np\n",
        "from hyperopt import hp, tpe, fmin\n",
        "\n",
        "def eval(sv):\n",
        "  return np.square(np.abs(sv[0]))-np.square(np.abs(sv[1]))\n",
        "\n",
        "def gd():\n",
        "  ee = 0.01\n",
        "\n",
        "  aa = 0.2\n",
        "  bb = 0.5\n",
        "\n",
        "  target = -1\n",
        "\n",
        "  for _ in range(50):\n",
        "    c1 = Circuit().rx(aa)[0].rz(bb)[0].run()\n",
        "    d1 = np.square(eval(c1) - target)\n",
        "\n",
        "    c2 = Circuit().rx(aa+ee)[0].rz(bb)[0].run()\n",
        "    d2 = np.square(eval(c2) - target)\n",
        "\n",
        "    c3 = Circuit().rx(aa)[0].rz(bb+ee)[0].run()\n",
        "    d3 = np.square(eval(c3) - target)\n",
        "\n",
        "    aa -= (d2 - d1)/ee #update aa\n",
        "    bb -= (d3 - d1)/ee #update bb\n",
        "\n",
        "  print(eval(Circuit().rx(aa)[0].rz(bb)[0].run()))\n",
        "\n",
        "gd()"
      ],
      "execution_count": 26,
      "outputs": [
        {
          "output_type": "stream",
          "text": [
            "-0.9957138707667237\n"
          ],
          "name": "stdout"
        }
      ]
    }
  ]
}
