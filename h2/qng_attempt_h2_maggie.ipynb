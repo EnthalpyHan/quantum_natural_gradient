{
  "nbformat": 4,
  "nbformat_minor": 0,
  "metadata": {
    "colab": {
      "name": "qng_attempt_h2_maggie",
      "provenance": []
    },
    "kernelspec": {
      "name": "python3",
      "display_name": "Python 3"
    }
  },
  "cells": [
    {
      "cell_type": "code",
      "metadata": {
        "id": "mJXhC6CGnTx2",
        "colab_type": "code",
        "colab": {
          "base_uri": "https://localhost:8080/",
          "height": 539
        },
        "outputId": "4f974c63-4062-4f47-8d47-4ec17d5e8969"
      },
      "source": [
        "!pip install pennylane-sf --upgrade"
      ],
      "execution_count": 1,
      "outputs": [
        {
          "output_type": "stream",
          "text": [
            "Requirement already up-to-date: pennylane-sf in /usr/local/lib/python3.6/dist-packages (0.8.0)\n",
            "Requirement already satisfied, skipping upgrade: strawberryfields>=0.11 in /usr/local/lib/python3.6/dist-packages (from pennylane-sf) (0.13.0)\n",
            "Requirement already satisfied, skipping upgrade: pennylane>=0.6 in /usr/local/lib/python3.6/dist-packages (from pennylane-sf) (0.8.1)\n",
            "Requirement already satisfied, skipping upgrade: sympy>=1.5 in /usr/local/lib/python3.6/dist-packages (from strawberryfields>=0.11->pennylane-sf) (1.5.1)\n",
            "Requirement already satisfied, skipping upgrade: scipy>=1.0.0 in /usr/local/lib/python3.6/dist-packages (from strawberryfields>=0.11->pennylane-sf) (1.4.1)\n",
            "Requirement already satisfied, skipping upgrade: thewalrus>=0.11 in /usr/local/lib/python3.6/dist-packages (from strawberryfields>=0.11->pennylane-sf) (0.12.0)\n",
            "Requirement already satisfied, skipping upgrade: quantum-blackbird>=0.2.3 in /usr/local/lib/python3.6/dist-packages (from strawberryfields>=0.11->pennylane-sf) (0.2.3)\n",
            "Requirement already satisfied, skipping upgrade: numpy>=1.17.4 in /usr/local/lib/python3.6/dist-packages (from strawberryfields>=0.11->pennylane-sf) (1.18.2)\n",
            "Requirement already satisfied, skipping upgrade: python-dateutil>=2.8.0 in /usr/local/lib/python3.6/dist-packages (from strawberryfields>=0.11->pennylane-sf) (2.8.1)\n",
            "Requirement already satisfied, skipping upgrade: networkx>=2.0 in /usr/local/lib/python3.6/dist-packages (from strawberryfields>=0.11->pennylane-sf) (2.4)\n",
            "Requirement already satisfied, skipping upgrade: urllib3>=1.25.3 in /usr/local/lib/python3.6/dist-packages (from strawberryfields>=0.11->pennylane-sf) (1.25.8)\n",
            "Requirement already satisfied, skipping upgrade: requests>=2.22.0 in /usr/local/lib/python3.6/dist-packages (from strawberryfields>=0.11->pennylane-sf) (2.23.0)\n",
            "Requirement already satisfied, skipping upgrade: toml in /usr/local/lib/python3.6/dist-packages (from strawberryfields>=0.11->pennylane-sf) (0.10.0)\n",
            "Requirement already satisfied, skipping upgrade: numba in /usr/local/lib/python3.6/dist-packages (from strawberryfields>=0.11->pennylane-sf) (0.48.0)\n",
            "Requirement already satisfied, skipping upgrade: appdirs in /usr/local/lib/python3.6/dist-packages (from strawberryfields>=0.11->pennylane-sf) (1.4.3)\n",
            "Requirement already satisfied, skipping upgrade: semantic-version==2.6 in /usr/local/lib/python3.6/dist-packages (from pennylane>=0.6->pennylane-sf) (2.6.0)\n",
            "Requirement already satisfied, skipping upgrade: autograd in /usr/local/lib/python3.6/dist-packages (from pennylane>=0.6->pennylane-sf) (1.3)\n",
            "Requirement already satisfied, skipping upgrade: mpmath>=0.19 in /usr/local/lib/python3.6/dist-packages (from sympy>=1.5->strawberryfields>=0.11->pennylane-sf) (1.1.0)\n",
            "Requirement already satisfied, skipping upgrade: dask[delayed] in /usr/local/lib/python3.6/dist-packages (from thewalrus>=0.11->strawberryfields>=0.11->pennylane-sf) (2.12.0)\n",
            "Requirement already satisfied, skipping upgrade: antlr4-python3-runtime>=4.7.2 in /usr/local/lib/python3.6/dist-packages (from quantum-blackbird>=0.2.3->strawberryfields>=0.11->pennylane-sf) (4.8)\n",
            "Requirement already satisfied, skipping upgrade: six>=1.5 in /usr/local/lib/python3.6/dist-packages (from python-dateutil>=2.8.0->strawberryfields>=0.11->pennylane-sf) (1.12.0)\n",
            "Requirement already satisfied, skipping upgrade: decorator>=4.3.0 in /usr/local/lib/python3.6/dist-packages (from networkx>=2.0->strawberryfields>=0.11->pennylane-sf) (4.4.2)\n",
            "Requirement already satisfied, skipping upgrade: certifi>=2017.4.17 in /usr/local/lib/python3.6/dist-packages (from requests>=2.22.0->strawberryfields>=0.11->pennylane-sf) (2020.4.5.1)\n",
            "Requirement already satisfied, skipping upgrade: idna<3,>=2.5 in /usr/local/lib/python3.6/dist-packages (from requests>=2.22.0->strawberryfields>=0.11->pennylane-sf) (2.8)\n",
            "Requirement already satisfied, skipping upgrade: chardet<4,>=3.0.2 in /usr/local/lib/python3.6/dist-packages (from requests>=2.22.0->strawberryfields>=0.11->pennylane-sf) (3.0.4)\n",
            "Requirement already satisfied, skipping upgrade: llvmlite<0.32.0,>=0.31.0dev0 in /usr/local/lib/python3.6/dist-packages (from numba->strawberryfields>=0.11->pennylane-sf) (0.31.0)\n",
            "Requirement already satisfied, skipping upgrade: setuptools in /usr/local/lib/python3.6/dist-packages (from numba->strawberryfields>=0.11->pennylane-sf) (46.1.3)\n",
            "Requirement already satisfied, skipping upgrade: future>=0.15.2 in /usr/local/lib/python3.6/dist-packages (from autograd->pennylane>=0.6->pennylane-sf) (0.16.0)\n",
            "Requirement already satisfied, skipping upgrade: cloudpickle>=0.2.1; extra == \"delayed\" in /usr/local/lib/python3.6/dist-packages (from dask[delayed]->thewalrus>=0.11->strawberryfields>=0.11->pennylane-sf) (1.3.0)\n",
            "Requirement already satisfied, skipping upgrade: toolz>=0.7.3; extra == \"delayed\" in /usr/local/lib/python3.6/dist-packages (from dask[delayed]->thewalrus>=0.11->strawberryfields>=0.11->pennylane-sf) (0.10.0)\n"
          ],
          "name": "stdout"
        }
      ]
    },
    {
      "cell_type": "code",
      "metadata": {
        "id": "Kkwoa45ln2Tt",
        "colab_type": "code",
        "colab": {}
      },
      "source": [
        "import numpy as np\n",
        "import pennylane as qml\n",
        "from pennylane import expval, var"
      ],
      "execution_count": 0,
      "outputs": []
    },
    {
      "cell_type": "code",
      "metadata": {
        "id": "XvqH5eUzoHN7",
        "colab_type": "code",
        "colab": {}
      },
      "source": [
        "dev = qml.device(\"default.qubit\", wires=2)\n",
        "\n",
        "def ansatz(params, wires):\n",
        "    \n",
        "    qml.RY(params[0], wires=0)\n",
        "    qml.RY(params[1], wires=1)\n",
        "    \n",
        "    qml.CNOT(wires=[0,1])\n",
        "    \n",
        "    qml.RY(params[2], wires=0)\n",
        "    qml.RY(params[3], wires=1)"
      ],
      "execution_count": 0,
      "outputs": []
    },
    {
      "cell_type": "code",
      "metadata": {
        "id": "0I8CMVtvoNsB",
        "colab_type": "code",
        "colab": {}
      },
      "source": [
        "alpha = 0.4\n",
        "beta = 0.2\n",
        "coeffs = [alpha, alpha, beta]\n",
        "\n",
        "obs_list = [\n",
        "    qml.PauliZ(0) @ qml.Identity(1),\n",
        "    qml.Identity(0) @ qml.PauliZ(1),\n",
        "    qml.PauliX(0) @ qml.PauliX(1)\n",
        "]\n",
        "\n",
        "qnodes = qml.map(ansatz, obs_list, dev, measure='expval')\n",
        "expval  = qml.dot(coeffs, qnodes)"
      ],
      "execution_count": 0,
      "outputs": []
    },
    {
      "cell_type": "code",
      "metadata": {
        "id": "YutiEaAvoZuI",
        "colab_type": "code",
        "colab": {}
      },
      "source": [
        "step_size = 0.05\n",
        "max_iterations = 400\n",
        "conv_tol = 1e-06\n",
        "\n",
        "print_freq = 20\n",
        "\n",
        "initial_params = np.array([-0.2,-0.2,0,0])"
      ],
      "execution_count": 0,
      "outputs": []
    },
    {
      "cell_type": "code",
      "metadata": {
        "id": "WlU7FbRAuTNl",
        "colab_type": "code",
        "colab": {
          "base_uri": "https://localhost:8080/",
          "height": 191
        },
        "outputId": "85a2691b-1650-4c48-c5f2-e2a50bfdd22a"
      },
      "source": [
        "params = initial_params\n",
        "prev_energy = expval(params)\n",
        "qng_energies_block = []\n",
        "\n",
        "for n in range(max_iterations):\n",
        "    \n",
        "    grad_cost = qml.grad(expval, argnum=[0])\n",
        "    grad_at_point = [float(i) for i in grad_cost(params)[0]] \n",
        "    \n",
        "    params = params - step_size * np.dot(\n",
        "                np.linalg.pinv(qnodes[0].metric_tensor([params])), \n",
        "                grad_at_point)\n",
        "\n",
        "    energy = expval(params)\n",
        "    qng_energies_block.append(energy)\n",
        "    \n",
        "    conv = np.abs(energy - prev_energy)\n",
        "\n",
        "    if n % print_freq == 0:\n",
        "        print('Iteration = {:},  Energy = {:.8f} Ha,  Convergence parameter = {'\n",
        "              ':.8f} Ha'.format(n, energy, conv))\n",
        "\n",
        "    if conv <= conv_tol:\n",
        "        qng_block_steps = n\n",
        "        break\n",
        "\n",
        "    prev_energy = energy\n",
        "\n",
        "print()\n",
        "print('Final convergence parameter = {:.8f} Ha'.format(conv))\n",
        "print('Final value of the ground-state energy = {:.8f} Ha'.format(energy))\n",
        "print()\n",
        "print('Final circuit parameters = \\n', params)\n",
        "print('Number of iterations = ', qng_block_steps)"
      ],
      "execution_count": 25,
      "outputs": [
        {
          "output_type": "stream",
          "text": [
            "Iteration = 0,  Energy = 0.70579155 Ha,  Convergence parameter = 0.03071341 Ha\n",
            "Iteration = 20,  Energy = -0.81912764 Ha,  Convergence parameter = 0.00201111 Ha\n",
            "Iteration = 40,  Energy = -0.82454651 Ha,  Convergence parameter = 0.00001366 Ha\n",
            "\n",
            "Final convergence parameter = 0.00000096 Ha\n",
            "Final value of the ground-state energy = -0.82461564 Ha\n",
            "\n",
            "Final circuit parameters = \n",
            " [-1.62068919 -1.32517619  1.51679689 -1.55267923]\n",
            "Number of iterations =  56\n"
          ],
          "name": "stdout"
        }
      ]
    },
    {
      "cell_type": "code",
      "metadata": {
        "id": "0tbqnFydoo2G",
        "colab_type": "code",
        "colab": {
          "base_uri": "https://localhost:8080/",
          "height": 243
        },
        "outputId": "7725a599-f488-42ab-dedb-403701057bbc"
      },
      "source": [
        "params = initial_params\n",
        "prev_energy = expval(params)\n",
        "qng_energies_diag = []\n",
        "\n",
        "for n in range(max_iterations):\n",
        "    \n",
        "    grad_cost = qml.grad(expval, argnum=[0])\n",
        "    grad_at_point = [float(i) for i in grad_cost(params)[0]] \n",
        "    \n",
        "    params = params - step_size * np.dot(np.linalg.pinv(qnodes[0].metric_tensor([params], diag_approx=True)),\n",
        "                                         grad_at_point)\n",
        "\n",
        "    energy = expval(params)\n",
        "    qng_energies_diag.append(energy)\n",
        "    \n",
        "    conv = np.abs(energy - prev_energy)\n",
        "\n",
        "    if n % print_freq == 0:\n",
        "        print('Iteration = {:},  Energy = {:.8f} Ha,  Convergence parameter = {'\n",
        "              ':.8f} Ha'.format(n, energy, conv))\n",
        "\n",
        "    if conv <= conv_tol:\n",
        "        qng_diag_steps = n\n",
        "        break\n",
        "\n",
        "    prev_energy = energy\n",
        "\n",
        "print()\n",
        "print('Final convergence parameter = {:.8f} Ha'.format(conv))\n",
        "print('Final value of the ground-state energy = {:.8f} Ha'.format(energy))\n",
        "print()\n",
        "print('Final circuit parameters = \\n', params)\n",
        "print('Number of iterations = ', qng_diag_steps)"
      ],
      "execution_count": 26,
      "outputs": [
        {
          "output_type": "stream",
          "text": [
            "Iteration = 0,  Energy = 0.70631920 Ha,  Convergence parameter = 0.03018576 Ha\n",
            "Iteration = 20,  Energy = -0.77461737 Ha,  Convergence parameter = 0.01072920 Ha\n",
            "Iteration = 40,  Energy = -0.82165071 Ha,  Convergence parameter = 0.00035153 Ha\n",
            "Iteration = 60,  Energy = -0.82421542 Ha,  Convergence parameter = 0.00003943 Ha\n",
            "Iteration = 80,  Energy = -0.82455353 Ha,  Convergence parameter = 0.00000619 Ha\n",
            "Iteration = 100,  Energy = -0.82460913 Ha,  Convergence parameter = 0.00000107 Ha\n",
            "\n",
            "Final convergence parameter = 0.00000098 Ha\n",
            "Final value of the ground-state energy = -0.82461012 Ha\n",
            "\n",
            "Final circuit parameters = \n",
            " [-2.7245423  -0.91500545  0.34081939 -0.95760241]\n",
            "Number of iterations =  101\n"
          ],
          "name": "stdout"
        }
      ]
    },
    {
      "cell_type": "code",
      "metadata": {
        "id": "HHx65n3qqhYI",
        "colab_type": "code",
        "colab": {
          "base_uri": "https://localhost:8080/",
          "height": 487
        },
        "outputId": "7db59379-ca0b-4c86-bd66-42621b344f2d"
      },
      "source": [
        "params = initial_params\n",
        "prev_energy = expval(params)\n",
        "vanilla_energies = []\n",
        "\n",
        "for n in range(max_iterations):\n",
        "    \n",
        "    grad_cost = qml.grad(expval, argnum=[0])\n",
        "    grad_at_point = [float(i) for i in grad_cost(params)[0]] \n",
        "    \n",
        "    params = params - step_size * np.dot(step_size, grad_at_point)\n",
        "\n",
        "    energy = expval(params)\n",
        "    vanilla_energies.append(energy)\n",
        "    \n",
        "    conv = np.abs(energy - prev_energy)\n",
        "\n",
        "    if n % print_freq == 0:\n",
        "        print('Iteration = {:},  Energy = {:.8f} Ha,  Convergence parameter = {'\n",
        "              ':.8f} Ha'.format(n, energy, conv))\n",
        "\n",
        "    if conv <= conv_tol:\n",
        "        n = vanilla_steps\n",
        "        break\n",
        "\n",
        "    prev_energy = energy\n",
        "\n",
        "print()\n",
        "print('Final convergence parameter = {:.8f} Ha'.format(conv))\n",
        "print('Final value of the ground-state energy = {:.8f} Ha'.format(energy))\n",
        "print()\n",
        "print('Final circuit parameters = \\n', params)\n",
        "print('Number of iterations = ', n)"
      ],
      "execution_count": 27,
      "outputs": [
        {
          "output_type": "stream",
          "text": [
            "Iteration = 0,  Energy = 0.73615402 Ha,  Convergence parameter = 0.00035095 Ha\n",
            "Iteration = 20,  Energy = 0.72884421 Ha,  Convergence parameter = 0.00037896 Ha\n",
            "Iteration = 40,  Energy = 0.72095359 Ha,  Convergence parameter = 0.00040894 Ha\n",
            "Iteration = 60,  Energy = 0.71244170 Ha,  Convergence parameter = 0.00044099 Ha\n",
            "Iteration = 80,  Energy = 0.70326637 Ha,  Convergence parameter = 0.00047519 Ha\n",
            "Iteration = 100,  Energy = 0.69338388 Ha,  Convergence parameter = 0.00051161 Ha\n",
            "Iteration = 120,  Energy = 0.68274914 Ha,  Convergence parameter = 0.00055031 Ha\n",
            "Iteration = 140,  Energy = 0.67131600 Ha,  Convergence parameter = 0.00059134 Ha\n",
            "Iteration = 160,  Energy = 0.65903751 Ha,  Convergence parameter = 0.00063473 Ha\n",
            "Iteration = 180,  Energy = 0.64586639 Ha,  Convergence parameter = 0.00068049 Ha\n",
            "Iteration = 200,  Energy = 0.63175551 Ha,  Convergence parameter = 0.00072858 Ha\n",
            "Iteration = 220,  Energy = 0.61665844 Ha,  Convergence parameter = 0.00077898 Ha\n",
            "Iteration = 240,  Energy = 0.60053017 Ha,  Convergence parameter = 0.00083158 Ha\n",
            "Iteration = 260,  Energy = 0.58332787 Ha,  Convergence parameter = 0.00088625 Ha\n",
            "Iteration = 280,  Energy = 0.56501176 Ha,  Convergence parameter = 0.00094283 Ha\n",
            "Iteration = 300,  Energy = 0.54554607 Ha,  Convergence parameter = 0.00100108 Ha\n",
            "Iteration = 320,  Energy = 0.52490013 Ha,  Convergence parameter = 0.00106073 Ha\n",
            "Iteration = 340,  Energy = 0.50304947 Ha,  Convergence parameter = 0.00112144 Ha\n",
            "Iteration = 360,  Energy = 0.47997700 Ha,  Convergence parameter = 0.00118281 Ha\n",
            "Iteration = 380,  Energy = 0.45567424 Ha,  Convergence parameter = 0.00124438 Ha\n",
            "\n",
            "Final convergence parameter = 0.00130259 Ha\n",
            "Final value of the ground-state energy = 0.43144809 Ha\n",
            "\n",
            "Final circuit parameters = \n",
            " [-0.7021844  -0.32507269  0.10799845 -0.12055799]\n",
            "Number of iterations =  399\n"
          ],
          "name": "stdout"
        }
      ]
    },
    {
      "cell_type": "code",
      "metadata": {
        "id": "_43nWwkvqHOY",
        "colab_type": "code",
        "colab": {
          "base_uri": "https://localhost:8080/",
          "height": 361
        },
        "outputId": "97101e9d-bf6f-4c44-9a5e-eae2df32a0d0"
      },
      "source": [
        "from matplotlib import pyplot as plt\n",
        "\n",
        "plt.style.use(\"seaborn\")\n",
        "plt.plot(qng_energies_block, label=\"QNG Block Diagonal Approximation\")\n",
        "plt.plot(qng_energies_diag, label=\"QNG Diagonal Approximation\")\n",
        "plt.plot(vanilla_energies, label=\"Vanilla Gradient Descent\")\n",
        "\n",
        "plt.ylabel(\"Energy\")\n",
        "plt.xlabel(\"Optimization steps\")\n",
        "plt.legend()\n",
        "plt.show()"
      ],
      "execution_count": 29,
      "outputs": [
        {
          "output_type": "display_data",
          "data": {
            "image/png": "[encoded data removed]",
            "text/plain": [
              "<Figure size 576x396 with 1 Axes>"
            ]
          },
          "metadata": {
            "tags": []
          }
        }
      ]
    },
    {
      "cell_type": "code",
      "metadata": {
        "id": "QCdqP5ufvoxg",
        "colab_type": "code",
        "colab": {
          "base_uri": "https://localhost:8080/",
          "height": 104
        },
        "outputId": "3f690eec-f9a1-49e5-d12f-39c1ae446726"
      },
      "source": [
        "print('Steps to reach convergence \\n')\n",
        "\n",
        "print('QNG Block Diagonal Approximation: {:}'.format(qng_block_steps))\n",
        "print('QNG Diagonal Approximation: {:}'.format(qng_diag_steps))\n",
        "print('Vanilla Gradient Descent: {:}'.format(n))"
      ],
      "execution_count": 30,
      "outputs": [
        {
          "output_type": "stream",
          "text": [
            "Steps to reach convergence \n",
            "\n",
            "QNG Block Diagonal Approximation: 56\n",
            "QNG Diagonal Approximation: 101\n",
            "Vanilla Gradient Descent: 399\n"
          ],
          "name": "stdout"
        }
      ]
    }
  ]
}