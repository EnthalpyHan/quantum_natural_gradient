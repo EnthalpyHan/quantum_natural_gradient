{
 "cells": [
  {
   "cell_type": "markdown",
   "metadata": {},
   "source": [
    "## Running a VQE Simulation for H2 using pennylane qchem tools."
   ]
  },
  {
   "cell_type": "markdown",
   "metadata": {},
   "source": [
    "Import all necessary pennylane packages, as well as our user-defined run_vqe function, which serves to shorten the notebook & make the code cleaner."
   ]
  },
  {
   "cell_type": "code",
   "execution_count": 2,
   "metadata": {},
   "outputs": [],
   "source": [
    "import sys\n",
    "sys.path.append('../')\n",
    "from run_vqe import *\n",
    "\n",
    "import pennylane as qml\n",
    "import numpy as np"
   ]
  },
  {
   "cell_type": "markdown",
   "metadata": {},
   "source": [
    "Use pennylane's qchem tools to generate our hamiltonian from the h2.xyz file. "
   ]
  },
  {
   "cell_type": "code",
   "execution_count": 3,
   "metadata": {},
   "outputs": [],
   "source": [
    "name = 'h2'\n",
    "geometry = 'h2.xyz'\n",
    "charge = 0\n",
    "multiplicity = 1\n",
    "basis_set = 'sto-3g'\n",
    "\n",
    "hamiltonian, nr_qubits = qml.qchem.generate_hamiltonian(\n",
    "    name,\n",
    "    geometry,\n",
    "    charge,\n",
    "    multiplicity,\n",
    "    basis_set,\n",
    "    n_active_electrons=2,\n",
    "    n_active_orbitals=2,\n",
    "    mapping='jordan_wigner'\n",
    ")"
   ]
  },
  {
   "cell_type": "markdown",
   "metadata": {},
   "source": [
    "Define our device and ansatz"
   ]
  },
  {
   "cell_type": "code",
   "execution_count": 4,
   "metadata": {},
   "outputs": [],
   "source": [
    "dev = qml.device(\"default.qubit\", wires=4)\n",
    "\n",
    "\n",
    "def ansatz(params, wires=[0,1,2,3]):\n",
    "    qml.BasisState(np.array([1, 1, 0, 0]), wires=wires)\n",
    "    for i in wires:\n",
    "        qml.RY(params[i], wires=wires[i])\n",
    "    qml.CNOT(wires=[wires[0], wires[1]])\n",
    "    qml.CNOT(wires=[wires[2], wires[3]])\n",
    "    qml.CNOT(wires=[wires[1], wires[2]])\n",
    "    for i in wires:\n",
    "        qml.RY(params[i+4], wires=wires[i])\n",
    "    qml.CNOT(wires=[wires[0], wires[1]])\n",
    "    qml.CNOT(wires=[wires[2], wires[3]])\n",
    "    qml.CNOT(wires=[wires[1], wires[2]])"
   ]
  },
  {
   "cell_type": "markdown",
   "metadata": {},
   "source": [
    "Create our cost function using pennylane's VQECost function, and initialize all our constants for the upcoming optimization."
   ]
  },
  {
   "cell_type": "code",
   "execution_count": 5,
   "metadata": {},
   "outputs": [],
   "source": [
    "cost = qml.VQECost(ansatz, hamiltonian, dev)\n",
    "init_params = np.random.uniform(low=0, high=2*np.pi, size=8)\n",
    "max_iterations = 500\n",
    "step_size = 0.5\n",
    "conv_tol = 1e-06"
   ]
  },
  {
   "cell_type": "markdown",
   "metadata": {},
   "source": [
    "Run both VQE runs using our user-defined run_vqe function, which takes the arguments cost_fn, max_iterations, inital_params, type of optimizer, and optimization step size. To understand more about how this condensation works check out run_vqe.py located in this folder."
   ]
  },
  {
   "cell_type": "code",
   "execution_count": null,
   "metadata": {},
   "outputs": [
    {
     "name": "stdout",
     "output_type": "stream",
     "text": [
      "Iteration = 0,  Ground-state energy = -0.00012510 Ha,  Convergence parameter = 0.06236854 Ha\n",
      "Iteration = 20,  Ground-state energy = -0.84349828 Ha,  Convergence parameter = 0.01667271 Ha\n",
      "Iteration = 40,  Ground-state energy = -1.06921723 Ha,  Convergence parameter = 0.00566426 Ha\n",
      "Iteration = 60,  Ground-state energy = -1.11251248 Ha,  Convergence parameter = 0.00056631 Ha\n",
      "Iteration = 80,  Ground-state energy = -1.11673460 Ha,  Convergence parameter = 0.00006302 Ha\n",
      "Iteration = 100,  Ground-state energy = -1.11725617 Ha,  Convergence parameter = 0.00000900 Ha\n",
      "Iteration = 120,  Ground-state energy = -1.11733417 Ha,  Convergence parameter = 0.00000142 Ha\n",
      "Iteration = 0,  Ground-state energy = 0.04689008 Ha,  Convergence parameter = 0.01535336 Ha\n",
      "Iteration = 20,  Ground-state energy = -0.30537170 Ha,  Convergence parameter = 0.01771641 Ha\n",
      "Iteration = 40,  Ground-state energy = -0.58885002 Ha,  Convergence parameter = 0.01053864 Ha\n",
      "Iteration = 60,  Ground-state energy = -0.74163312 Ha,  Convergence parameter = 0.00576216 Ha\n",
      "Iteration = 80,  Ground-state energy = -0.83825291 Ha,  Convergence parameter = 0.00426826 Ha\n",
      "Iteration = 100,  Ground-state energy = -0.91656539 Ha,  Convergence parameter = 0.00362552 Ha\n",
      "Iteration = 120,  Ground-state energy = -0.98218533 Ha,  Convergence parameter = 0.00294294 Ha\n",
      "Iteration = 140,  Ground-state energy = -1.03265660 Ha,  Convergence parameter = 0.00213647 Ha\n",
      "Iteration = 160,  Ground-state energy = -1.06724191 Ha,  Convergence parameter = 0.00138414 Ha\n",
      "Iteration = 180,  Ground-state energy = -1.08868044 Ha,  Convergence parameter = 0.00082393 Ha\n",
      "Iteration = 200,  Ground-state energy = -1.10111536 Ha,  Convergence parameter = 0.00046755 Ha\n",
      "Iteration = 220,  Ground-state energy = -1.10809938 Ha,  Convergence parameter = 0.00026084 Ha\n",
      "Iteration = 240,  Ground-state energy = -1.11199756 Ha,  Convergence parameter = 0.00014607 Ha\n",
      "Iteration = 260,  Ground-state energy = -1.11419499 Ha,  Convergence parameter = 0.00008305 Ha\n",
      "Iteration = 280,  Ground-state energy = -1.11545609 Ha,  Convergence parameter = 0.00004817 Ha\n",
      "Iteration = 300,  Ground-state energy = -1.11619471 Ha,  Convergence parameter = 0.00002851 Ha\n",
      "Iteration = 320,  Ground-state energy = -1.11663581 Ha,  Convergence parameter = 0.00001718 Ha\n",
      "Iteration = 340,  Ground-state energy = -1.11690376 Ha,  Convergence parameter = 0.00001052 Ha\n",
      "Iteration = 360,  Ground-state energy = -1.11706882 Ha,  Convergence parameter = 0.00000652 Ha\n",
      "Iteration = 380,  Ground-state energy = -1.11717162 Ha,  Convergence parameter = 0.00000408 Ha\n",
      "Iteration = 400,  Ground-state energy = -1.11723620 Ha,  Convergence parameter = 0.00000257 Ha\n",
      "Iteration = 420,  Ground-state energy = -1.11727703 Ha,  Convergence parameter = 0.00000163 Ha\n"
     ]
    }
   ],
   "source": [
    "qng_run = run_vqe(cost_fn=cost, max_iter=max_iterations, initial_params=init_params, opt='QNGOptimizer', opt_step=0.05, diag_approx=True)\n",
    "vanilla_run = run_vqe(cost_fn=cost, max_iter=max_iterations, initial_params=init_params, opt='GradientDescentOptimizer', opt_step=0.05)"
   ]
  },
  {
   "cell_type": "markdown",
   "metadata": {},
   "source": [
    "All that's left is to plot the results! As expected, the QNG out-perfomed the vanilla gradient descent optimization method. "
   ]
  },
  {
   "cell_type": "code",
   "execution_count": 12,
   "metadata": {},
   "outputs": [
    {
     "data": {
      "image/png": "[encoded data removed]",
      "text/plain": [
       "<Figure size 576x396 with 1 Axes>"
      ]
     },
     "metadata": {},
     "output_type": "display_data"
    }
   ],
   "source": [
    "from matplotlib import pyplot as plt\n",
    "ax = plt.axes()\n",
    "\n",
    "plt.style.use(\"seaborn\")\n",
    "plt.plot(qng_run, color='g', label='QNG')\n",
    "plt.plot(vanilla_run, color='b', label='Vanilla GD')\n",
    "ax.axhline(y = -1.136189454088, label='exact groundstate', color='red')\n",
    "\n",
    "plt.legend(fontsize=15)\n",
    "plt.show()"
   ]
  },
  {
   "cell_type": "code",
   "execution_count": null,
   "metadata": {},
   "outputs": [],
   "source": []
  }
 ],
 "metadata": {
  "kernelspec": {
   "display_name": "Python 3",
   "language": "python",
   "name": "python3"
  },
  "language_info": {
   "codemirror_mode": {
    "name": "ipython",
    "version": 3
   },
   "file_extension": ".py",
   "mimetype": "text/x-python",
   "name": "python",
   "nbconvert_exporter": "python",
   "pygments_lexer": "ipython3",
   "version": "3.7.4"
  }
 },
 "nbformat": 4,
 "nbformat_minor": 2
}
