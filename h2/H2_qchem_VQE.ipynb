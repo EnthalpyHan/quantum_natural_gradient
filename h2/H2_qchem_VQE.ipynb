{
 "cells": [
  {
   "cell_type": "markdown",
   "metadata": {},
   "source": [
    "## Running a VQE Simulation for H2 using pennylane qchem tools."
   ]
  },
  {
   "cell_type": "markdown",
   "metadata": {},
   "source": [
    "Import all necessary pennylane packages, as well as our user-defined run_vqe function, which serves to shorten the notebook & make the code cleaner."
   ]
  },
  {
   "cell_type": "code",
   "execution_count": 1,
   "metadata": {},
   "outputs": [],
   "source": [
    "from run_vqe import run_vqe\n",
    "import pennylane as qml\n",
    "import numpy as np"
   ]
  },
  {
   "cell_type": "markdown",
   "metadata": {},
   "source": [
    "Use pennylane's qchem tools to generate our hamiltonian from the h2.xyz file. "
   ]
  },
  {
   "cell_type": "code",
   "execution_count": 2,
   "metadata": {},
   "outputs": [],
   "source": [
    "name = 'h2'\n",
    "geometry = 'h2.xyz'\n",
    "charge = 0\n",
    "multiplicity = 1\n",
    "basis_set = 'sto-3g'\n",
    "\n",
    "hamiltonian, nr_qubits = qml.qchem.generate_hamiltonian(\n",
    "    name,\n",
    "    geometry,\n",
    "    charge,\n",
    "    multiplicity,\n",
    "    basis_set,\n",
    "    n_active_electrons=2,\n",
    "    n_active_orbitals=2,\n",
    "    mapping='jordan_wigner'\n",
    ")"
   ]
  },
  {
   "cell_type": "markdown",
   "metadata": {},
   "source": [
    "Define our device and ansatz"
   ]
  },
  {
   "cell_type": "code",
   "execution_count": null,
   "metadata": {},
   "outputs": [],
   "source": [
    "dev = qml.device(\"default.qubit\", wires=4)\n",
    "\n",
    "\n",
    "def ansatz(params, wires=[0,1,2,3]):\n",
    "    qml.BasisState(np.array([1, 1, 0, 0]), wires=wires)\n",
    "    for i in wires:\n",
    "        qml.RY(params[i], wires=wires[i])\n",
    "    qml.CNOT(wires=[wires[0], wires[1]])\n",
    "    qml.CNOT(wires=[wires[2], wires[3]])\n",
    "    qml.CNOT(wires=[wires[1], wires[2]])\n",
    "    for i in wires:\n",
    "        qml.RY(params[i+4], wires=wires[i])\n",
    "    qml.CNOT(wires=[wires[0], wires[1]])\n",
    "    qml.CNOT(wires=[wires[2], wires[3]])\n",
    "    qml.CNOT(wires=[wires[1], wires[2]])"
   ]
  },
  {
   "cell_type": "markdown",
   "metadata": {},
   "source": [
    "Create our cost function using pennylane's VQECost function, and initialize all our constants for the upcoming optimization."
   ]
  },
  {
   "cell_type": "code",
   "execution_count": 3,
   "metadata": {},
   "outputs": [],
   "source": [
    "cost = qml.VQECost(ansatz, hamiltonian, dev)\n",
    "init_params = np.random.uniform(low=0, high=2*np.pi, size=8)\n",
    "max_iterations = 500\n",
    "step_size = 0.5\n",
    "conv_tol = 1e-06"
   ]
  },
  {
   "cell_type": "markdown",
   "metadata": {},
   "source": [
    "Run both VQE runs using our user-defined run_vqe function, which takes the arguments cost_fn, max_iterations, inital_params, type of optimizer, and optimization step size. To understand more about how this condensation works check out run_vqe.py located in this folder."
   ]
  },
  {
   "cell_type": "code",
   "execution_count": 4,
   "metadata": {},
   "outputs": [
    {
     "name": "stdout",
     "output_type": "stream",
     "text": [
      "Iteration = 0,  Ground-state energy = 0.14117691 Ha,  Convergence parameter = 0.04330084 Ha\n",
      "Iteration = 20,  Ground-state energy = -0.40116623 Ha,  Convergence parameter = 0.00751024 Ha\n",
      "Iteration = 40,  Ground-state energy = -0.46998801 Ha,  Convergence parameter = 0.00265568 Ha\n",
      "Iteration = 60,  Ground-state energy = -0.59497920 Ha,  Convergence parameter = 0.01198894 Ha\n",
      "Iteration = 80,  Ground-state energy = -0.93868906 Ha,  Convergence parameter = 0.01586578 Ha\n",
      "Iteration = 100,  Ground-state energy = -1.09394016 Ha,  Convergence parameter = 0.00254633 Ha\n",
      "Iteration = 120,  Ground-state energy = -1.11372780 Ha,  Convergence parameter = 0.00032394 Ha\n",
      "Iteration = 140,  Ground-state energy = -1.11664563 Ha,  Convergence parameter = 0.00005853 Ha\n",
      "Iteration = 160,  Ground-state energy = -1.11720470 Ha,  Convergence parameter = 0.00001183 Ha\n",
      "Iteration = 180,  Ground-state energy = -1.11731910 Ha,  Convergence parameter = 0.00000245 Ha\n",
      "Iteration = 0,  Ground-state energy = 0.17374316 Ha,  Convergence parameter = 0.01073459 Ha\n",
      "Iteration = 20,  Ground-state energy = -0.05278706 Ha,  Convergence parameter = 0.01097162 Ha\n",
      "Iteration = 40,  Ground-state energy = -0.23446843 Ha,  Convergence parameter = 0.00713328 Ha\n",
      "Iteration = 60,  Ground-state energy = -0.33900845 Ha,  Convergence parameter = 0.00377164 Ha\n",
      "Iteration = 80,  Ground-state energy = -0.39349469 Ha,  Convergence parameter = 0.00197874 Ha\n",
      "Iteration = 100,  Ground-state energy = -0.42302359 Ha,  Convergence parameter = 0.00112415 Ha\n",
      "Iteration = 120,  Ground-state energy = -0.44091507 Ha,  Convergence parameter = 0.00073853 Ha\n",
      "Iteration = 140,  Ground-state energy = -0.45395355 Ha,  Convergence parameter = 0.00060421 Ha\n",
      "Iteration = 160,  Ground-state energy = -0.46616247 Ha,  Convergence parameter = 0.00064122 Ha\n",
      "Iteration = 180,  Ground-state energy = -0.48082986 Ha,  Convergence parameter = 0.00084559 Ha\n",
      "Iteration = 200,  Ground-state energy = -0.50169083 Ha,  Convergence parameter = 0.00125966 Ha\n",
      "Iteration = 220,  Ground-state energy = -0.53355463 Ha,  Convergence parameter = 0.00194044 Ha\n",
      "Iteration = 240,  Ground-state energy = -0.58195177 Ha,  Convergence parameter = 0.00288922 Ha\n",
      "Iteration = 260,  Ground-state energy = -0.65081121 Ha,  Convergence parameter = 0.00393288 Ha\n",
      "Iteration = 280,  Ground-state energy = -0.73815875 Ha,  Convergence parameter = 0.00467599 Ha\n",
      "Iteration = 300,  Ground-state energy = -0.83355055 Ha,  Convergence parameter = 0.00472897 Ha\n",
      "Iteration = 320,  Ground-state energy = -0.92209323 Ha,  Convergence parameter = 0.00405920 Ha\n",
      "Iteration = 340,  Ground-state energy = -0.99246916 Ha,  Convergence parameter = 0.00300393 Ha\n",
      "Iteration = 360,  Ground-state energy = -1.04141154 Ha,  Convergence parameter = 0.00197232 Ha\n",
      "Iteration = 380,  Ground-state energy = -1.07220613 Ha,  Convergence parameter = 0.00119522 Ha\n",
      "Iteration = 400,  Ground-state energy = -1.09046327 Ha,  Convergence parameter = 0.00069683 Ha\n",
      "Iteration = 420,  Ground-state energy = -1.10105701 Ha,  Convergence parameter = 0.00040423 Ha\n",
      "Iteration = 440,  Ground-state energy = -1.10724292 Ha,  Convergence parameter = 0.00023835 Ha\n",
      "Iteration = 460,  Ground-state energy = -1.11093514 Ha,  Convergence parameter = 0.00014426 Ha\n",
      "Iteration = 480,  Ground-state energy = -1.11319994 Ha,  Convergence parameter = 0.00008973 Ha\n"
     ]
    }
   ],
   "source": [
    "qng_run = run_vqe(cost_fn=cost, max_iter=max_iterations, initial_params=init_params, opt='QNGOptimizer', opt_step=0.05, diag_approx=True)\n",
    "vanilla_run = run_vqe(cost_fn=cost, max_iter=max_iterations, initial_params=init_params, opt='GradientDescentOptimizer', opt_step=0.05)"
   ]
  },
  {
   "cell_type": "markdown",
   "metadata": {},
   "source": [
    "All that's left is to plot the results! As expected, the QNG out-perfomed the vanilla gradient descent optimization method. "
   ]
  },
  {
   "cell_type": "code",
   "execution_count": 10,
   "metadata": {},
   "outputs": [
    {
     "data": {
      "image/png": "[encoded data removed]",
      "text/plain": [
       "<Figure size 576x396 with 1 Axes>"
      ]
     },
     "metadata": {},
     "output_type": "display_data"
    }
   ],
   "source": [
    "from matplotlib import pyplot as plt\n",
    "plt.style.use(\"seaborn\")\n",
    "plt.plot(qng_run, color='g', label='QNG')\n",
    "plt.plot(vanilla_run, color='b', label='Vanilla GD')\n",
    "plt.legend(fontsize=15)\n",
    "plt.show()"
   ]
  }
 ],
 "metadata": {
  "kernelspec": {
   "display_name": "Python 3",
   "language": "python",
   "name": "python3"
  },
  "language_info": {
   "codemirror_mode": {
    "name": "ipython",
    "version": 3
   },
   "file_extension": ".py",
   "mimetype": "text/x-python",
   "name": "python",
   "nbconvert_exporter": "python",
   "pygments_lexer": "ipython3",
   "version": "3.7.4"
  }
 },
 "nbformat": 4,
 "nbformat_minor": 2
}
