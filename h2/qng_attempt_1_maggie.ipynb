{
  "nbformat": 4,
  "nbformat_minor": 0,
  "metadata": {
    "colab": {
      "name": "qng_attempt_1 ",
      "provenance": [],
      "collapsed_sections": []
    },
    "kernelspec": {
      "name": "python3",
      "display_name": "Python 3"
    }
  },
  "cells": [
    {
      "cell_type": "code",
      "metadata": {
        "id": "Iq4LqaN1jLB-",
        "colab_type": "code",
        "outputId": "09215da9-b9d2-4d14-e0fb-bb40e0ebd919",
        "colab": {
          "base_uri": "https://localhost:8080/",
          "height": 417
        }
      },
      "source": [
        "!pip install pennylane-sf --upgrade"
      ],
      "execution_count": 1,
      "outputs": [
        {
          "output_type": "stream",
          "text": [
            
          ],
          "name": "stdout"
        }
      ]
    },
    {
      "cell_type": "code",
      "metadata": {
        "id": "_XxlMDcyjOad",
        "colab_type": "code",
        "colab": {}
      },
      "source": [
        "import numpy as np\n",
        "import pennylane as qml\n",
        "from pennylane import expval, var"
      ],
      "execution_count": 0,
      "outputs": []
    },
    {
      "cell_type": "code",
      "metadata": {
        "id": "ngn7GRo7m6p4",
        "colab_type": "code",
        "colab": {}
      },
      "source": [
        "dev = qml.device(\"default.qubit\", wires=2)\n",
        "\n",
        "def circuit(params, wires):\n",
        "    qml.RY(params[0], wires=0)\n",
        "    qml.RY(params[1], wires=1)\n",
        "\n",
        "    qml.CNOT(wires=[0,1])\n",
        "\n",
        "    qml.RY(params[2], wires=0)\n",
        "    qml.RY(params[3], wires=1)"
      ],
      "execution_count": 0,
      "outputs": []
    },
    {
      "cell_type": "code",
      "metadata": {
        "id": "QYc6OFM9YyCF",
        "colab_type": "code",
        "colab": {}
      },
      "source": [
        "alpha = 0.4\n",
        "beta = 0.2\n",
        "\n",
        "obs_list = [\n",
        "    qml.PauliZ(0) @qml.Identity(1),\n",
        "    qml.Identity(0) @qml.PauliZ(1),\n",
        "    qml.PauliX(0) @qml.PauliX(1)\n",
        "]\n",
        "\n",
        "qnodes = qml.map(circuit, obs_list, dev, measure='expval')\n",
        "expval = qml.dot([alpha, alpha, beta], qnodes)"
      ],
      "execution_count": 0,
      "outputs": []
    },
    {
      "cell_type": "code",
      "metadata": {
        "id": "uKQHiPkcIbXS",
        "colab_type": "code",
        "colab": {}
      },
      "source": [
        "max_iterations = 200\n",
        "conv_tol = 1e-06\n",
        "step_size = 0.05"
      ],
      "execution_count": 0,
      "outputs": []
    },
    {
      "cell_type": "code",
      "metadata": {
        "id": "51x-KniEJ_Fy",
        "colab_type": "code",
        "colab": {
          "base_uri": "https://localhost:8080/",
          "height": 226
        },
        "outputId": "f4429b8f-a59e-43d3-b355-13a2420f4e2f"
      },
      "source": [
        "qng_cost = []\n",
        "opt = qml.QNGOptimizer(stepsize=step_size)\n",
        "\n",
        "params = np.array([-0.2,-0.2,0,0])\n",
        "prev_energy = expval(params)\n",
        "for n in range(max_iterations):\n",
        "\n",
        "    # compute specific gradient of parameters\n",
        "    gradient = qml.grad(expval, argnum=[0])\n",
        "    grad_at_point = [float(i) for i in gradient(params)[0]]\n",
        "\n",
        "    # manual qng step\n",
        "    params = params - step_size * np.dot(\n",
        "                np.linalg.pinv(qnodes[0].metric_tensor([params])), \n",
        "                grad_at_point)\n",
        "\n",
        "    # update parameters\n",
        "    energy = expval(params)\n",
        "    qng_cost.append(energy)\n",
        "\n",
        "    # calculate difference of new energy versus previous energy (ie, convergence)\n",
        "    conv = np.abs(energy - prev_energy)\n",
        "\n",
        "    if n % 20 == 0:\n",
        "        print('Iteration = {:},  Ground-state energy = {:.8f} Ha,  Convergence parameter = {'\n",
        "              ':.8f} Ha'.format(n, energy, conv))\n",
        "\n",
        "    if conv <= conv_tol:\n",
        "        break\n",
        "\n",
        "    prev_energy = energy\n",
        "\n",
        "print()\n",
        "print('Final convergence parameter = {:.8f} Ha'.format(conv))\n",
        "print('Final value of the ground-state energy = {:.8f} Ha'.format(energy))\n",
        "print()\n",
        "print('Final circuit parameters = \\n', params)"
      ],
      "execution_count": 6,
      "outputs": [
        {
          "output_type": "stream",
          "text": [
            "Iteration = 0,  Ground-state energy = 0.76788358 Ha,  Convergence parameter = 0.00835525 Ha\n",
            "Iteration = 20,  Ground-state energy = -0.45259351 Ha,  Convergence parameter = 0.04191113 Ha\n",
            "Iteration = 40,  Ground-state energy = -0.77952721 Ha,  Convergence parameter = 0.00341175 Ha\n",
            "Iteration = 60,  Ground-state energy = -0.79875061 Ha,  Convergence parameter = 0.00016558 Ha\n",
            "Iteration = 80,  Ground-state energy = -0.79987177 Ha,  Convergence parameter = 0.00001460 Ha\n",
            "Iteration = 100,  Ground-state energy = -0.79998451 Ha,  Convergence parameter = 0.00000171 Ha\n",
            "\n",
            "Final convergence parameter = 0.00000091 Ha\n",
            "Final value of the ground-state energy = -0.79999172 Ha\n",
            "\n",
            "Final circuit parameters = \n",
            " [-3.1412811  -1.09122843  0.00716478 -1.09647319]\n"
          ],
          "name": "stdout"
        }
      ]
    },
    {
      "cell_type": "code",
      "metadata": {
        "id": "GtlIBXB_JNz9",
        "colab_type": "code",
        "outputId": "bf74a59c-8dbf-4095-c9a6-c8c4b174f243",
        "colab": {
          "base_uri": "https://localhost:8080/",
          "height": 295
        }
      },
      "source": [
        "params = np.array([-0.2,-0.2,0,0])\n",
        "step_size = 0.05\n",
        "\n",
        "vanilla_cost = []\n",
        "opt = qml.GradientDescentOptimizer(stepsize=step_size)\n",
        "\n",
        "prev_energy = expval(params)\n",
        "for n in range(max_iterations):\n",
        "\n",
        "    # compute gradient for the cost function\n",
        "    gradient = qml.grad(expval, argnum=[0])\n",
        "\n",
        "    # compute specific gradient of parameters\n",
        "    grad_at_point = [float(i) for i in gradient(params)[0]]\n",
        "\n",
        "    # manual qng step\n",
        "    params = params - step_size * np.dot(step_size, grad_at_point)\n",
        "\n",
        "    # update parameters\n",
        "    energy = expval(params)\n",
        "    vanilla_cost.append(energy)\n",
        "\n",
        "    # calculate difference of new energy versus previous energy (ie, convergence)\n",
        "    conv = np.abs(energy - prev_energy)\n",
        "\n",
        "    if n % 20 == 0:\n",
        "        print('Iteration = {:},  Ground-state energy = {:.8f} Ha,  Convergence parameter = {'\n",
        "              ':.8f} Ha'.format(n, energy, conv))\n",
        "\n",
        "    if conv <= conv_tol:\n",
        "        break\n",
        "\n",
        "    prev_energy = energy\n",
        "\n",
        "print()\n",
        "print('Final convergence parameter = {:.8f} Ha'.format(conv))\n",
        "print('Final value of the ground-state energy = {:.8f} Ha'.format(energy))\n",
        "print()\n",
        "print('Final circuit parameters = \\n', params)"
      ],
      "execution_count": 9,
      "outputs": [
        {
          "output_type": "stream",
          "text": [
            "Iteration = 0,  Ground-state energy = 0.77614209 Ha,  Convergence parameter = 0.00009674 Ha\n",
            "Iteration = 20,  Ground-state energy = 0.77412284 Ha,  Convergence parameter = 0.00010488 Ha\n",
            "Iteration = 40,  Ground-state energy = 0.77193393 Ha,  Convergence parameter = 0.00011368 Ha\n",
            "Iteration = 60,  Ground-state energy = 0.76956171 Ha,  Convergence parameter = 0.00012319 Ha\n",
            "Iteration = 80,  Ground-state energy = 0.76699161 Ha,  Convergence parameter = 0.00013344 Ha\n",
            "Iteration = 100,  Ground-state energy = 0.76420802 Ha,  Convergence parameter = 0.00014450 Ha\n",
            "Iteration = 120,  Ground-state energy = 0.76119431 Ha,  Convergence parameter = 0.00015642 Ha\n",
            "Iteration = 140,  Ground-state energy = 0.75793273 Ha,  Convergence parameter = 0.00016925 Ha\n",
            "Iteration = 160,  Ground-state energy = 0.75440446 Ha,  Convergence parameter = 0.00018305 Ha\n",
            "Iteration = 180,  Ground-state energy = 0.75058951 Ha,  Convergence parameter = 0.00019788 Ha\n",
            "\n",
            "Final convergence parameter = 0.00021296 Ha\n",
            "Final value of the ground-state energy = 0.74668055 Ha\n",
            "\n",
            "Final circuit parameters = \n",
            " [-0.29549915 -0.24828673  0.02585832 -0.04951933]\n"
          ],
          "name": "stdout"
        }
      ]
    },
    {
      "cell_type": "code",
      "metadata": {
        "id": "a9aEZDyoiydL",
        "colab_type": "code",
        "colab": {
          "base_uri": "https://localhost:8080/",
          "height": 361
        },
        "outputId": "ced17300-e62c-47e5-c259-792260ff0ffb"
      },
      "source": [
        "from matplotlib import pyplot as plt\n",
        "\n",
        "plt.style.use(\"seaborn\")\n",
        "plt.plot(qng_cost, label=\"Quantum natural gradient descent\")\n",
        "plt.plot(vanilla_cost, label=\"Vanilla gradient descent\")\n",
        "\n",
        "plt.ylabel(\"Energy\")\n",
        "plt.xlabel(\"Optimization steps\")\n",
        "plt.legend()\n",
        "plt.show()"
      ],
      "execution_count": 10,
      "outputs": [
        {
          "output_type": "display_data",
          "data": {
            "image/png": "[encoded data removed]",
            "text/plain": [
              "<Figure size 576x396 with 1 Axes>"
            ]
          },
          "metadata": {
            "tags": []
          }
        }
      ]
    },
    {
      "cell_type": "code",
      "metadata": {
        "id": "wV_421H4jfjQ",
        "colab_type": "code",
        "colab": {}
      },
      "source": [
        ""
      ],
      "execution_count": 0,
      "outputs": []
    }
  ]
}
