{
 "cells": [
  {
   "cell_type": "code",
   "execution_count": 1,
   "metadata": {},
   "outputs": [],
   "source": [
    "%matplotlib inline\n",
    "import matplotlib.pyplot as plt\n",
    "import matplotlib as mpl\n",
    "import numpy as np"
   ]
  },
  {
   "cell_type": "code",
   "execution_count": 20,
   "metadata": {},
   "outputs": [],
   "source": [
    "# Test function\n",
    "f = lambda x, y: np.sqrt(x**2+y**2)"
   ]
  },
  {
   "cell_type": "code",
   "execution_count": 12,
   "metadata": {},
   "outputs": [],
   "source": [
    "# Scan over for two variational parameters\n",
    "\n",
    "# This will be a 10x10 grid\n",
    "ntheta_first, ntheta_second = (10, 10)\n",
    "theta_first = np.linspace(0., 2.*np.pi, ntheta_first)\n",
    "theta_second = np.linspace(0., 2.*np.pi, ntheta_second)\n",
    "theta_firstv, theta_secondv = np.meshgrid(theta_first, theta_second, indexing='ij')"
   ]
  },
  {
   "cell_type": "code",
   "execution_count": 21,
   "metadata": {},
   "outputs": [],
   "source": [
    "fn_values = np.zeros((ntheta_first, ntheta_second))\n",
    "\n",
    "for i in range(ntheta_first):\n",
    "    for j in range(ntheta_second):\n",
    "        fn_values[i, j] = f(theta_firstv[i,j], theta_secondv[i,j])"
   ]
  },
  {
   "cell_type": "code",
   "execution_count": 22,
   "metadata": {},
   "outputs": [
    {
     "data": {
      "image/png": "[encoded data removed]",
      "text/plain": [
       "<Figure size 576x432 with 2 Axes>"
      ]
     },
     "metadata": {},
     "output_type": "display_data"
    }
   ],
   "source": [
    "# Plot landscape\n",
    "plt.style.use(\"seaborn\")\n",
    "fontsize = 18\n",
    "\n",
    "fig, axes = plt.subplots(figsize=(8, 6))\n",
    "cmap = plt.cm.get_cmap(\"RdBu\")\n",
    "contour_plot = plt.contourf(theta_first, theta_second, fn_values, \n",
    "                            extend='both', cmap=cmap)\n",
    "cbar = plt.colorbar(contour_plot,)\n",
    "cbar.ax.set_ylabel(\"Function value\")\n",
    "\n",
    "axes.set_xticks([0., 0.5*np.pi, np.pi, 1.5*np.pi, 2*np.pi])\n",
    "axes.set_yticks([0., 0.5*np.pi, np.pi, 1.5*np.pi, 2*np.pi])\n",
    "\n",
    "axes.set_xticklabels([\"$0$\", r\"$\\frac{1}{2}\\pi$\",\n",
    "                     r\"$\\pi$\", r\"$\\frac{3}{2}\\pi$\", r\"$2\\pi$\"], fontsize=fontsize)\n",
    "axes.set_yticklabels([\"$0$\", r\"$\\frac{1}{2}\\pi$\",\n",
    "                     r\"$\\pi$\", r\"$\\frac{3}{2}\\pi$\", r\"$2\\pi$\"], fontsize=fontsize)\n",
    "plt.xlabel(r'$\\theta_1$', fontsize=fontsize)        \n",
    "plt.ylabel(r'$\\theta_2$', fontsize=fontsize)        \n",
    "\n",
    "axes.set_aspect('equal')\n",
    "\n",
    "plt.tight_layout()"
   ]
  },
  {
   "cell_type": "code",
   "execution_count": null,
   "metadata": {},
   "outputs": [],
   "source": []
  }
 ],
 "metadata": {
  "kernelspec": {
   "display_name": "Python 3",
   "language": "python",
   "name": "python3"
  },
  "language_info": {
   "codemirror_mode": {
    "name": "ipython",
    "version": 3
   },
   "file_extension": ".py",
   "mimetype": "text/x-python",
   "name": "python",
   "nbconvert_exporter": "python",
   "pygments_lexer": "ipython3",
   "version": "3.7.5"
  }
 },
 "nbformat": 4,
 "nbformat_minor": 2
}
