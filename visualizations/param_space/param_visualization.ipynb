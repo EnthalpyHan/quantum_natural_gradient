{
  "nbformat": 4,
  "nbformat_minor": 0,
  "metadata": {
    "colab": {
      "name": "param_visualization",
      "provenance": [],
      "collapsed_sections": []
    },
    "kernelspec": {
      "name": "python3",
      "display_name": "Python 3"
    }
  },
  "cells": [
    {
      "cell_type": "code",
      "metadata": {
        "id": "dnYeVRqimvjd",
        "colab_type": "code",
        "colab": {}
      },
      "source": [
        "!pip install pennylane-sf --upgrade\n",
        "!pip install tensornetwork"
      ],
      "execution_count": 0,
      "outputs": []
    },
    {
      "cell_type": "code",
      "metadata": {
        "id": "EgydvPmecLAN",
        "colab_type": "code",
        "colab": {}
      },
      "source": [
        "import tensorflow as tf\n",
        "import pennylane as qml\n",
        "\n",
        "import scipy as sp\n",
        "\n",
        "%matplotlib inline\n",
        "import matplotlib.pyplot as plt\n",
        "import matplotlib as mpl\n",
        "import numpy as np"
      ],
      "execution_count": 0,
      "outputs": []
    },
    {
      "cell_type": "code",
      "metadata": {
        "id": "_3Jgp1daa5K-",
        "colab_type": "code",
        "colab": {}
      },
      "source": [
        "dev = qml.device('default.qubit', wires=1)\n",
        "\n",
        "def circuit(params, wires=0):\n",
        "  qml.RX(params[0], wires=wires)\n",
        "  qml.RY(params[1], wires=wires)"
      ],
      "execution_count": 0,
      "outputs": []
    },
    {
      "cell_type": "code",
      "metadata": {
        "id": "wP6oboYlbkqo",
        "colab_type": "code",
        "colab": {}
      },
      "source": [
        "coeffs = [1, 1]\n",
        "obs = [qml.PauliX(0), qml.PauliZ(0)]\n",
        "\n",
        "H = qml.Hamiltonian(coeffs, obs)\n",
        "qnodes = qml.map(circuit, obs, dev, measure='expval')\n",
        "cost_fn  = qml.dot(coeffs, qnodes)\n",
        "\n",
        "init_params = np.random.uniform(low=0, high=2*np.pi, size=2)"
      ],
      "execution_count": 0,
      "outputs": []
    },
    {
      "cell_type": "code",
      "metadata": {
        "id": "30j8MaJventS",
        "colab_type": "code",
        "colab": {}
      },
      "source": [
        "step_size = 0.01\n",
        "max_iterations = 500\n",
        "conv_tol = 1e-06\n",
        "print_freq = 20"
      ],
      "execution_count": 0,
      "outputs": []
    },
    {
      "cell_type": "code",
      "metadata": {
        "id": "ZQEWJAcnVUld",
        "colab_type": "code",
        "outputId": "52c69405-6ed9-41c0-e9db-29f2741b5704",
        "colab": {
          "base_uri": "https://localhost:8080/",
          "height": 226
        }
      },
      "source": [
        "params = init_params\n",
        "prev_energy = cost_fn(params)\n",
        "qng_energies_block = []\n",
        "all_params = []\n",
        "\n",
        "for n in range(max_iterations):\n",
        "    \n",
        "    grad_cost = qml.grad(cost_fn, argnum=[0])\n",
        "    grad_at_point = [float(i) for i in grad_cost(params)[0]] \n",
        "    \n",
        "    params = params - step_size * np.dot(\n",
        "                np.linalg.pinv(qnodes[0].metric_tensor([params])), \n",
        "                grad_at_point)\n",
        "    \n",
        "    all_params.append(params)\n",
        "\n",
        "    energy = cost_fn(params)\n",
        "    qng_energies_block.append(energy)\n",
        "    \n",
        "    conv = np.abs(energy - prev_energy)\n",
        "\n",
        "    if n % print_freq == 0:\n",
        "        print('Iteration = {:}'.format(n) ,'Energy = {:.8f} Ha,'.format(energy), 'Convergence parameter = {'\n",
        "              ':.8f} Ha'.format(conv), \"Params\", params)\n",
        "\n",
        "    if conv <= conv_tol:\n",
        "        qng_block_steps = n\n",
        "        break\n",
        "\n",
        "    prev_energy = energy\n",
        "\n",
        "    final_params = params\n",
        "\n",
        "print()\n",
        "print('Final value of the ground-state energy = {:.8f} Ha'.format(energy))\n",
        "print()\n",
        "print('Final params', final_params)\n",
        "print()\n",
        "print('Number of iterations = ', n)"
      ],
      "execution_count": 0,
      "outputs": [
        {
          "output_type": "stream",
          "text": [
            "Iteration = 0 Energy = -0.47880967 Ha, Convergence parameter = 0.07351730 Ha Params [4.01693157 6.05450992]\n",
            "Iteration = 20 Energy = -1.28328777 Ha, Convergence parameter = 0.01531066 Ha Params [3.49651903 6.81388225]\n",
            "Iteration = 40 Energy = -1.40089128 Ha, Convergence parameter = 0.00163652 Ha Params [3.25524387 6.99125703]\n",
            "Iteration = 60 Energy = -1.41291068 Ha, Convergence parameter = 0.00016084 Ha Params [3.17714587 7.04451991]\n",
            "Iteration = 80 Energy = -1.41408665 Ha, Convergence parameter = 0.00001568 Ha Params [3.15268933 7.06107671]\n",
            "Iteration = 100 Energy = -1.41420120 Ha, Convergence parameter = 0.00000153 Ha Params [3.14505532 7.06624114]\n",
            "\n",
            "Final value of the ground-state energy = -1.41420581 Ha\n",
            "\n",
            "Final params [3.1445003  7.06661659]\n",
            "\n",
            "Number of iterations =  104\n"
          ],
          "name": "stdout"
        }
      ]
    },
    {
      "cell_type": "code",
      "metadata": {
        "id": "RJhG5s716iNs",
        "colab_type": "code",
        "colab": {}
      },
      "source": [
        "lst = np.array(all_params)\n",
        "param_1_list = lst[:,0]\n",
        "param_2_list = lst[:,1]"
      ],
      "execution_count": 0,
      "outputs": []
    },
    {
      "cell_type": "code",
      "metadata": {
        "id": "SE0-jkScBYq1",
        "colab_type": "code",
        "outputId": "1b01b731-473a-433c-9a2e-9fdd97990414",
        "colab": {
          "base_uri": "https://localhost:8080/",
          "height": 351
        }
      },
      "source": [
        "import seaborn as sns\n",
        "\n",
        "# Basic 2D density plot\n",
        "sns.set_style(\"darkgrid\")\n",
        "ax = sns.kdeplot(param_1_list, param_2_list, \n",
        "            cmap=\"RdBu\", shade=True, shade_lowest=False, cbar = True)"
      ],
      "execution_count": 38,
      "outputs": [
        {
          "output_type": "display_data",
          "data": {
            "image/png": "[encoded data removed]",
            "text/plain": [
              "<Figure size 576x396 with 2 Axes>"
            ]
          },
          "metadata": {
            "tags": []
          }
        }
      ]
    },
    {
      "cell_type": "code",
      "metadata": {
        "id": "Ve2OqO73LexP",
        "colab_type": "code",
        "colab": {}
      },
      "source": [
        "plt.style.use(\"seaborn\")\n",
        "fontsize = 18\n",
        "\n",
        "n = len(param_1_list)\n",
        "ntheta_first, ntheta_second = (n, n)\n",
        "\n",
        "theta_first = param_1_list\n",
        "theta_second = param_2_list\n",
        "theta_firstv, theta_secondv = np.meshgrid(theta_first, theta_second, indexing='ij')"
      ],
      "execution_count": 0,
      "outputs": []
    },
    {
      "cell_type": "code",
      "metadata": {
        "id": "rIvbm00BMwZR",
        "colab_type": "code",
        "colab": {}
      },
      "source": [
        "#f = lambda x, y: cost_fn"
      ],
      "execution_count": 0,
      "outputs": []
    },
    {
      "cell_type": "code",
      "metadata": {
        "id": "DXnLo9skMrrw",
        "colab_type": "code",
        "colab": {}
      },
      "source": [
        "#fn_values = np.zeros((ntheta_first, ntheta_second))\n",
        "\n",
        "#for i in range(ntheta_first):\n",
        "    #for j in range(ntheta_second):\n",
        "        #fn_values[i, j] = f(theta_firstv[i,j], theta_secondv[i,j])"
      ],
      "execution_count": 0,
      "outputs": []
    },
    {
      "cell_type": "code",
      "metadata": {
        "id": "VQGpFIdw2I7j",
        "colab_type": "code",
        "colab": {
          "base_uri": "https://localhost:8080/",
          "height": 54
        },
        "outputId": "8da328bb-210b-4121-d2df-d342c88e7255"
      },
      "source": [
        "# Function values \n",
        "fn_values = []\n",
        "\n",
        "for i in range (len(param_1_list)):\n",
        "  values = (param_1_list[i], param_2_list[i])\n",
        "  fn_values.append(values)\n",
        "\n",
        "print(fn_values)"
      ],
      "execution_count": 36,
      "outputs": [
        {
          "output_type": "stream",
          "text": [
            "[(4.016931574722159, 6.054509924848165), (3.9939822878995925, 6.129464591296793), (3.968834142006812, 6.198826399819732), (3.9419769738297794, 6.262687458386036), (3.913866400685115, 6.321288318683231), (3.8849128059162537, 6.374961110290382), (3.855476451742138, 6.424084332543756), (3.8258669500127027, 6.4690501559509), (3.796345518802762, 6.5102427186919245), (3.7671288155674905, 6.548025020617506), (3.7383935039515626, 6.582732009152465), (3.7102810111398234, 6.614667836733865), (3.682902151030687, 6.64410575579755), (3.65634143582431, 6.67128956328234), (3.630660992417228, 6.696435862326792), (3.6059040568462155, 6.719736670571709), (3.5820980527835773, 6.741362086934451), (3.5592572777746154, 6.761462850826676), (3.5373852294716377, 6.780172706717821), (3.5164766073159046, 6.797610536257118), (3.496519025255551, 6.813882249784846), (3.477494469549213, 6.829082445928094), (3.459380533311289, 6.84329585678473), (3.4421514566843974, 6.856598600054997), (3.4257789986544513, 6.8690592603939145), (3.4102331637115326, 6.880739821507565), (3.3954828038927882, 6.891696468899891), (3.381496114267529, 6.90198028117939), (3.3682410376602006, 6.911637825743955), (3.355685592359287, 6.920711672638556), (3.3437981347255112, 6.92924083850854), (3.3325475669812485, 6.937261170887911), (3.321903499021844, 6.94480568157648), (3.31183637182362, 6.951904836565799), (3.3023175489171868, 6.958586808857141), (3.2933193814325055, 6.964877699557461), (3.2848152513887356, 6.970801731822455), (3.2767795971827964, 6.976381421521407), (3.269187924612213, 6.981637727909549), (3.2620168062378396, 6.986590187094986), (3.2552438714391503, 6.991257030665651), (3.2488477891288348, 6.9956552914854315), (3.2428082447653774, 6.999800898367746), (3.23710591302416, 7.003708761080708), (3.231722427252339, 7.007392846923403), (3.2266403466341904, 7.010866249931507), (3.2218431218264203, 7.014141253617233), (3.217315059682448, 7.017229388018994), (3.2130412875669374, 7.020141481726501), (3.209007717663355, 7.022887709454128), (3.2052010115951926, 7.025477635656584), (3.201608545613129, 7.027920254614101), (3.198218376543694, 7.030224027357502), (3.1950192086480675, 7.0323969157551565), (3.1920003615010097, 7.034446414042635), (3.189151738968127, 7.036379578040641), (3.1864637993337688, 7.038203052276743), (3.183927526610725, 7.039923095200607), (3.1815344030458643, 7.0415456026603005), (3.17927638282217, 7.043076129788164), (3.177145866946786, 7.044519911428311), (3.175135679306134, 7.045881881223582), (3.173239043862584, 7.047166689467466), (3.171449562962123, 7.048378719815745), (3.1697611967187913, 7.049522104943287), (3.1681682434390055, 7.050600741223213), (3.166665321047154, 7.051618302498491), (3.1652473494727875, 7.05257825300966), (3.16390953395928, 7.05348385953683), (3.1626473492538105, 7.054338202809117), (3.161456524638875, 7.055144188230293), (3.160333029766184, 7.055904555965475), (3.159273061254659, 7.056621890430169), (3.1582730300152657, 7.05729862921981), (3.157329549266584, 7.057937071515094), (3.1564394232062467, 7.058539385995819), (3.155599636304685, 7.059107618293589), (3.1548073431889416, 7.0596436980116435), (3.1540598590856708, 7.060149445338099), (3.1533546507937857, 7.06062657727712), (3.152689328158549, 7.061076713520924), (3.152061636020219, 7.0615013819839865), (3.151469446611651, 7.061902024019481), (3.1509107523804905, 7.0622799993366705), (3.150383659212823, 7.062636590636795), (3.1498863800363015, 7.062973007983936), (3.1494172287818993, 7.063290392926272), (3.148974614684527, 7.063589822382242), (3.1485570369037736, 7.063872312305206), (3.1481630794470274, 7.06413882113943), (3.147791406378185, 7.064390253079398), (3.147440757296044, 7.064627461143765), (3.1471099430673433, 7.064851250074609), (3.1467978418002263, 7.065062379071981), (3.146503395044683, 7.065261564373188), (3.146225604207251, 7.065449481685679), (3.1459635271679756, 7.065626768481905), (3.14571627508826, 7.065794026164011), (3.1454830093989026, 7.0659518221057915), (3.1452629389581794, 7.066100691578894), (3.145055317370408, 7.0662411395698514), (3.144859440455961, 7.066373642494163), (3.144674643864203, 7.066498649813266), (3.1445003008212913, 7.066616585559917), (3.1443358200052405, 7.066727849777187)]\n"
          ],
          "name": "stdout"
        }
      ]
    },
    {
      "cell_type": "code",
      "metadata": {
        "id": "UQXuJQ2J18qU",
        "colab_type": "code",
        "outputId": "d4eba9cd-4972-42e8-9844-af0baab259f5",
        "colab": {
          "base_uri": "https://localhost:8080/",
          "height": 742
        }
      },
      "source": [
        "plt.style.use(\"seaborn\")\n",
        "fontsize = 18\n",
        "\n",
        "fig, axes = plt.subplots(figsize=(8, 6))\n",
        "cmap = plt.cm.get_cmap(\"RdBu\")\n",
        "contour_plot = plt.contourf(theta_first, theta_second, fn_values, \n",
        "                            extend='both', cmap=cmap)\n",
        "cbar = plt.colorbar(contour_plot,)\n",
        "cbar.ax.set_ylabel(\"Function value\")\n",
        "\n",
        "axes.set_xticks([0., 0.5*np.pi, np.pi, 1.5*np.pi, 2*np.pi])\n",
        "axes.set_yticks([0., 0.5*np.pi, np.pi, 1.5*np.pi, 2*np.pi])\n",
        "\n",
        "axes.set_xticklabels([\"$0$\", r\"$\\frac{1}{2}\\pi$\",\n",
        "                     r\"$\\pi$\", r\"$\\frac{3}{2}\\pi$\", r\"$2\\pi$\"], fontsize=fontsize)\n",
        "axes.set_yticklabels([\"$0$\", r\"$\\frac{1}{2}\\pi$\",\n",
        "                     r\"$\\pi$\", r\"$\\frac{3}{2}\\pi$\", r\"$2\\pi$\"], fontsize=fontsize)\n",
        "plt.xlabel(r'$\\theta_1$', fontsize=fontsize)        \n",
        "plt.ylabel(r'$\\theta_2$', fontsize=fontsize)        \n",
        "\n",
        "axes.set_aspect('equal')\n",
        "\n",
        "plt.tight_layout()"
      ],
      "execution_count": 37,
      "outputs": [
        {
          "output_type": "error",
          "ename": "TypeError",
          "evalue": "ignored",
          "traceback": [
            "\u001b[0;31m---------------------------------------------------------------------------\u001b[0m",
            "\u001b[0;31mTypeError\u001b[0m                                 Traceback (most recent call last)",
            "\u001b[0;32m<ipython-input-37-c01366c320cd>\u001b[0m in \u001b[0;36m<module>\u001b[0;34m()\u001b[0m\n\u001b[1;32m      5\u001b[0m \u001b[0mcmap\u001b[0m \u001b[0;34m=\u001b[0m \u001b[0mplt\u001b[0m\u001b[0;34m.\u001b[0m\u001b[0mcm\u001b[0m\u001b[0;34m.\u001b[0m\u001b[0mget_cmap\u001b[0m\u001b[0;34m(\u001b[0m\u001b[0;34m\"RdBu\"\u001b[0m\u001b[0;34m)\u001b[0m\u001b[0;34m\u001b[0m\u001b[0;34m\u001b[0m\u001b[0m\n\u001b[1;32m      6\u001b[0m contour_plot = plt.contourf(theta_first, theta_second, fn_values, \n\u001b[0;32m----> 7\u001b[0;31m                             extend='both', cmap=cmap)\n\u001b[0m\u001b[1;32m      8\u001b[0m \u001b[0mcbar\u001b[0m \u001b[0;34m=\u001b[0m \u001b[0mplt\u001b[0m\u001b[0;34m.\u001b[0m\u001b[0mcolorbar\u001b[0m\u001b[0;34m(\u001b[0m\u001b[0mcontour_plot\u001b[0m\u001b[0;34m,\u001b[0m\u001b[0;34m)\u001b[0m\u001b[0;34m\u001b[0m\u001b[0;34m\u001b[0m\u001b[0m\n\u001b[1;32m      9\u001b[0m \u001b[0mcbar\u001b[0m\u001b[0;34m.\u001b[0m\u001b[0max\u001b[0m\u001b[0;34m.\u001b[0m\u001b[0mset_ylabel\u001b[0m\u001b[0;34m(\u001b[0m\u001b[0;34m\"Function value\"\u001b[0m\u001b[0;34m)\u001b[0m\u001b[0;34m\u001b[0m\u001b[0;34m\u001b[0m\u001b[0m\n",
            "\u001b[0;32m/usr/local/lib/python3.6/dist-packages/matplotlib/pyplot.py\u001b[0m in \u001b[0;36mcontourf\u001b[0;34m(data, *args, **kwargs)\u001b[0m\n\u001b[1;32m   2497\u001b[0m     __ret = gca().contourf(\n\u001b[1;32m   2498\u001b[0m         \u001b[0;34m*\u001b[0m\u001b[0margs\u001b[0m\u001b[0;34m,\u001b[0m \u001b[0;34m**\u001b[0m\u001b[0;34m(\u001b[0m\u001b[0;34m{\u001b[0m\u001b[0;34m\"data\"\u001b[0m\u001b[0;34m:\u001b[0m \u001b[0mdata\u001b[0m\u001b[0;34m}\u001b[0m \u001b[0;32mif\u001b[0m \u001b[0mdata\u001b[0m \u001b[0;32mis\u001b[0m \u001b[0;32mnot\u001b[0m \u001b[0;32mNone\u001b[0m \u001b[0;32melse\u001b[0m \u001b[0;34m{\u001b[0m\u001b[0;34m}\u001b[0m\u001b[0;34m)\u001b[0m\u001b[0;34m,\u001b[0m\u001b[0;34m\u001b[0m\u001b[0;34m\u001b[0m\u001b[0m\n\u001b[0;32m-> 2499\u001b[0;31m         **kwargs)\n\u001b[0m\u001b[1;32m   2500\u001b[0m     \u001b[0;32mif\u001b[0m \u001b[0m__ret\u001b[0m\u001b[0;34m.\u001b[0m\u001b[0m_A\u001b[0m \u001b[0;32mis\u001b[0m \u001b[0;32mnot\u001b[0m \u001b[0;32mNone\u001b[0m\u001b[0;34m:\u001b[0m \u001b[0msci\u001b[0m\u001b[0;34m(\u001b[0m\u001b[0m__ret\u001b[0m\u001b[0;34m)\u001b[0m  \u001b[0;31m# noqa\u001b[0m\u001b[0;34m\u001b[0m\u001b[0;34m\u001b[0m\u001b[0m\n\u001b[1;32m   2501\u001b[0m     \u001b[0;32mreturn\u001b[0m \u001b[0m__ret\u001b[0m\u001b[0;34m\u001b[0m\u001b[0;34m\u001b[0m\u001b[0m\n",
            "\u001b[0;32m/usr/local/lib/python3.6/dist-packages/matplotlib/__init__.py\u001b[0m in \u001b[0;36minner\u001b[0;34m(ax, data, *args, **kwargs)\u001b[0m\n\u001b[1;32m   1563\u001b[0m     \u001b[0;32mdef\u001b[0m \u001b[0minner\u001b[0m\u001b[0;34m(\u001b[0m\u001b[0max\u001b[0m\u001b[0;34m,\u001b[0m \u001b[0;34m*\u001b[0m\u001b[0margs\u001b[0m\u001b[0;34m,\u001b[0m \u001b[0mdata\u001b[0m\u001b[0;34m=\u001b[0m\u001b[0;32mNone\u001b[0m\u001b[0;34m,\u001b[0m \u001b[0;34m**\u001b[0m\u001b[0mkwargs\u001b[0m\u001b[0;34m)\u001b[0m\u001b[0;34m:\u001b[0m\u001b[0;34m\u001b[0m\u001b[0;34m\u001b[0m\u001b[0m\n\u001b[1;32m   1564\u001b[0m         \u001b[0;32mif\u001b[0m \u001b[0mdata\u001b[0m \u001b[0;32mis\u001b[0m \u001b[0;32mNone\u001b[0m\u001b[0;34m:\u001b[0m\u001b[0;34m\u001b[0m\u001b[0;34m\u001b[0m\u001b[0m\n\u001b[0;32m-> 1565\u001b[0;31m             \u001b[0;32mreturn\u001b[0m \u001b[0mfunc\u001b[0m\u001b[0;34m(\u001b[0m\u001b[0max\u001b[0m\u001b[0;34m,\u001b[0m \u001b[0;34m*\u001b[0m\u001b[0mmap\u001b[0m\u001b[0;34m(\u001b[0m\u001b[0msanitize_sequence\u001b[0m\u001b[0;34m,\u001b[0m \u001b[0margs\u001b[0m\u001b[0;34m)\u001b[0m\u001b[0;34m,\u001b[0m \u001b[0;34m**\u001b[0m\u001b[0mkwargs\u001b[0m\u001b[0;34m)\u001b[0m\u001b[0;34m\u001b[0m\u001b[0;34m\u001b[0m\u001b[0m\n\u001b[0m\u001b[1;32m   1566\u001b[0m \u001b[0;34m\u001b[0m\u001b[0m\n\u001b[1;32m   1567\u001b[0m         \u001b[0mbound\u001b[0m \u001b[0;34m=\u001b[0m \u001b[0mnew_sig\u001b[0m\u001b[0;34m.\u001b[0m\u001b[0mbind\u001b[0m\u001b[0;34m(\u001b[0m\u001b[0max\u001b[0m\u001b[0;34m,\u001b[0m \u001b[0;34m*\u001b[0m\u001b[0margs\u001b[0m\u001b[0;34m,\u001b[0m \u001b[0;34m**\u001b[0m\u001b[0mkwargs\u001b[0m\u001b[0;34m)\u001b[0m\u001b[0;34m\u001b[0m\u001b[0;34m\u001b[0m\u001b[0m\n",
            "\u001b[0;32m/usr/local/lib/python3.6/dist-packages/matplotlib/axes/_axes.py\u001b[0m in \u001b[0;36mcontourf\u001b[0;34m(self, *args, **kwargs)\u001b[0m\n\u001b[1;32m   6332\u001b[0m     \u001b[0;32mdef\u001b[0m \u001b[0mcontourf\u001b[0m\u001b[0;34m(\u001b[0m\u001b[0mself\u001b[0m\u001b[0;34m,\u001b[0m \u001b[0;34m*\u001b[0m\u001b[0margs\u001b[0m\u001b[0;34m,\u001b[0m \u001b[0;34m**\u001b[0m\u001b[0mkwargs\u001b[0m\u001b[0;34m)\u001b[0m\u001b[0;34m:\u001b[0m\u001b[0;34m\u001b[0m\u001b[0;34m\u001b[0m\u001b[0m\n\u001b[1;32m   6333\u001b[0m         \u001b[0mkwargs\u001b[0m\u001b[0;34m[\u001b[0m\u001b[0;34m'filled'\u001b[0m\u001b[0;34m]\u001b[0m \u001b[0;34m=\u001b[0m \u001b[0;32mTrue\u001b[0m\u001b[0;34m\u001b[0m\u001b[0;34m\u001b[0m\u001b[0m\n\u001b[0;32m-> 6334\u001b[0;31m         \u001b[0mcontours\u001b[0m \u001b[0;34m=\u001b[0m \u001b[0mmcontour\u001b[0m\u001b[0;34m.\u001b[0m\u001b[0mQuadContourSet\u001b[0m\u001b[0;34m(\u001b[0m\u001b[0mself\u001b[0m\u001b[0;34m,\u001b[0m \u001b[0;34m*\u001b[0m\u001b[0margs\u001b[0m\u001b[0;34m,\u001b[0m \u001b[0;34m**\u001b[0m\u001b[0mkwargs\u001b[0m\u001b[0;34m)\u001b[0m\u001b[0;34m\u001b[0m\u001b[0;34m\u001b[0m\u001b[0m\n\u001b[0m\u001b[1;32m   6335\u001b[0m         \u001b[0mself\u001b[0m\u001b[0;34m.\u001b[0m\u001b[0m_request_autoscale_view\u001b[0m\u001b[0;34m(\u001b[0m\u001b[0;34m)\u001b[0m\u001b[0;34m\u001b[0m\u001b[0;34m\u001b[0m\u001b[0m\n\u001b[1;32m   6336\u001b[0m         \u001b[0;32mreturn\u001b[0m \u001b[0mcontours\u001b[0m\u001b[0;34m\u001b[0m\u001b[0;34m\u001b[0m\u001b[0m\n",
            "\u001b[0;32m/usr/local/lib/python3.6/dist-packages/matplotlib/contour.py\u001b[0m in \u001b[0;36m__init__\u001b[0;34m(self, ax, levels, filled, linewidths, linestyles, alpha, origin, extent, cmap, colors, norm, vmin, vmax, extend, antialiased, *args, **kwargs)\u001b[0m\n\u001b[1;32m    820\u001b[0m         \u001b[0mself\u001b[0m\u001b[0;34m.\u001b[0m\u001b[0m_transform\u001b[0m \u001b[0;34m=\u001b[0m \u001b[0mkwargs\u001b[0m\u001b[0;34m.\u001b[0m\u001b[0mpop\u001b[0m\u001b[0;34m(\u001b[0m\u001b[0;34m'transform'\u001b[0m\u001b[0;34m,\u001b[0m \u001b[0;32mNone\u001b[0m\u001b[0;34m)\u001b[0m\u001b[0;34m\u001b[0m\u001b[0;34m\u001b[0m\u001b[0m\n\u001b[1;32m    821\u001b[0m \u001b[0;34m\u001b[0m\u001b[0m\n\u001b[0;32m--> 822\u001b[0;31m         \u001b[0mkwargs\u001b[0m \u001b[0;34m=\u001b[0m \u001b[0mself\u001b[0m\u001b[0;34m.\u001b[0m\u001b[0m_process_args\u001b[0m\u001b[0;34m(\u001b[0m\u001b[0;34m*\u001b[0m\u001b[0margs\u001b[0m\u001b[0;34m,\u001b[0m \u001b[0;34m**\u001b[0m\u001b[0mkwargs\u001b[0m\u001b[0;34m)\u001b[0m\u001b[0;34m\u001b[0m\u001b[0;34m\u001b[0m\u001b[0m\n\u001b[0m\u001b[1;32m    823\u001b[0m         \u001b[0mself\u001b[0m\u001b[0;34m.\u001b[0m\u001b[0m_process_levels\u001b[0m\u001b[0;34m(\u001b[0m\u001b[0;34m)\u001b[0m\u001b[0;34m\u001b[0m\u001b[0;34m\u001b[0m\u001b[0m\n\u001b[1;32m    824\u001b[0m \u001b[0;34m\u001b[0m\u001b[0m\n",
            "\u001b[0;32m/usr/local/lib/python3.6/dist-packages/matplotlib/contour.py\u001b[0m in \u001b[0;36m_process_args\u001b[0;34m(self, *args, **kwargs)\u001b[0m\n\u001b[1;32m   1417\u001b[0m                 \u001b[0mself\u001b[0m\u001b[0;34m.\u001b[0m\u001b[0m_corner_mask\u001b[0m \u001b[0;34m=\u001b[0m \u001b[0mmpl\u001b[0m\u001b[0;34m.\u001b[0m\u001b[0mrcParams\u001b[0m\u001b[0;34m[\u001b[0m\u001b[0;34m'contour.corner_mask'\u001b[0m\u001b[0;34m]\u001b[0m\u001b[0;34m\u001b[0m\u001b[0;34m\u001b[0m\u001b[0m\n\u001b[1;32m   1418\u001b[0m \u001b[0;34m\u001b[0m\u001b[0m\n\u001b[0;32m-> 1419\u001b[0;31m             \u001b[0mx\u001b[0m\u001b[0;34m,\u001b[0m \u001b[0my\u001b[0m\u001b[0;34m,\u001b[0m \u001b[0mz\u001b[0m \u001b[0;34m=\u001b[0m \u001b[0mself\u001b[0m\u001b[0;34m.\u001b[0m\u001b[0m_contour_args\u001b[0m\u001b[0;34m(\u001b[0m\u001b[0margs\u001b[0m\u001b[0;34m,\u001b[0m \u001b[0mkwargs\u001b[0m\u001b[0;34m)\u001b[0m\u001b[0;34m\u001b[0m\u001b[0;34m\u001b[0m\u001b[0m\n\u001b[0m\u001b[1;32m   1420\u001b[0m \u001b[0;34m\u001b[0m\u001b[0m\n\u001b[1;32m   1421\u001b[0m             \u001b[0m_mask\u001b[0m \u001b[0;34m=\u001b[0m \u001b[0mma\u001b[0m\u001b[0;34m.\u001b[0m\u001b[0mgetmask\u001b[0m\u001b[0;34m(\u001b[0m\u001b[0mz\u001b[0m\u001b[0;34m)\u001b[0m\u001b[0;34m\u001b[0m\u001b[0;34m\u001b[0m\u001b[0m\n",
            "\u001b[0;32m/usr/local/lib/python3.6/dist-packages/matplotlib/contour.py\u001b[0m in \u001b[0;36m_contour_args\u001b[0;34m(self, args, kwargs)\u001b[0m\n\u001b[1;32m   1475\u001b[0m             \u001b[0margs\u001b[0m \u001b[0;34m=\u001b[0m \u001b[0margs\u001b[0m\u001b[0;34m[\u001b[0m\u001b[0;36m1\u001b[0m\u001b[0;34m:\u001b[0m\u001b[0;34m]\u001b[0m\u001b[0;34m\u001b[0m\u001b[0;34m\u001b[0m\u001b[0m\n\u001b[1;32m   1476\u001b[0m         \u001b[0;32melif\u001b[0m \u001b[0mNargs\u001b[0m \u001b[0;34m<=\u001b[0m \u001b[0;36m4\u001b[0m\u001b[0;34m:\u001b[0m\u001b[0;34m\u001b[0m\u001b[0;34m\u001b[0m\u001b[0m\n\u001b[0;32m-> 1477\u001b[0;31m             \u001b[0mx\u001b[0m\u001b[0;34m,\u001b[0m \u001b[0my\u001b[0m\u001b[0;34m,\u001b[0m \u001b[0mz\u001b[0m \u001b[0;34m=\u001b[0m \u001b[0mself\u001b[0m\u001b[0;34m.\u001b[0m\u001b[0m_check_xyz\u001b[0m\u001b[0;34m(\u001b[0m\u001b[0margs\u001b[0m\u001b[0;34m[\u001b[0m\u001b[0;34m:\u001b[0m\u001b[0;36m3\u001b[0m\u001b[0;34m]\u001b[0m\u001b[0;34m,\u001b[0m \u001b[0mkwargs\u001b[0m\u001b[0;34m)\u001b[0m\u001b[0;34m\u001b[0m\u001b[0;34m\u001b[0m\u001b[0m\n\u001b[0m\u001b[1;32m   1478\u001b[0m             \u001b[0margs\u001b[0m \u001b[0;34m=\u001b[0m \u001b[0margs\u001b[0m\u001b[0;34m[\u001b[0m\u001b[0;36m3\u001b[0m\u001b[0;34m:\u001b[0m\u001b[0;34m]\u001b[0m\u001b[0;34m\u001b[0m\u001b[0;34m\u001b[0m\u001b[0m\n\u001b[1;32m   1479\u001b[0m         \u001b[0;32melse\u001b[0m\u001b[0;34m:\u001b[0m\u001b[0;34m\u001b[0m\u001b[0;34m\u001b[0m\u001b[0m\n",
            "\u001b[0;32m/usr/local/lib/python3.6/dist-packages/matplotlib/contour.py\u001b[0m in \u001b[0;36m_check_xyz\u001b[0;34m(self, args, kwargs)\u001b[0m\n\u001b[1;32m   1519\u001b[0m             \u001b[0mny\u001b[0m\u001b[0;34m,\u001b[0m \u001b[0;34m=\u001b[0m \u001b[0my\u001b[0m\u001b[0;34m.\u001b[0m\u001b[0mshape\u001b[0m\u001b[0;34m\u001b[0m\u001b[0;34m\u001b[0m\u001b[0m\n\u001b[1;32m   1520\u001b[0m             \u001b[0;32mif\u001b[0m \u001b[0mnx\u001b[0m \u001b[0;34m!=\u001b[0m \u001b[0mNx\u001b[0m\u001b[0;34m:\u001b[0m\u001b[0;34m\u001b[0m\u001b[0;34m\u001b[0m\u001b[0m\n\u001b[0;32m-> 1521\u001b[0;31m                 raise TypeError(f\"Length of x ({nx}) must match number of \"\n\u001b[0m\u001b[1;32m   1522\u001b[0m                                 f\"columns in z ({Nx})\")\n\u001b[1;32m   1523\u001b[0m             \u001b[0;32mif\u001b[0m \u001b[0mny\u001b[0m \u001b[0;34m!=\u001b[0m \u001b[0mNy\u001b[0m\u001b[0;34m:\u001b[0m\u001b[0;34m\u001b[0m\u001b[0;34m\u001b[0m\u001b[0m\n",
            "\u001b[0;31mTypeError\u001b[0m: Length of x (105) must match number of columns in z (2)"
          ]
        },
        {
          "output_type": "display_data",
          "data": {
            "image/png": "[encoded data removed]",
            "text/plain": [
              "<Figure size 576x432 with 1 Axes>"
            ]
          },
          "metadata": {
            "tags": []
          }
        }
      ]
    }
  ]
}