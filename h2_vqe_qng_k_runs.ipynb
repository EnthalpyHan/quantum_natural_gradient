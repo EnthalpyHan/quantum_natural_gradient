{
 "cells": [
  {
   "cell_type": "code",
   "execution_count": null,
   "metadata": {},
   "outputs": [],
   "source": [
    "%matplotlib inline\n",
    "from matplotlib import pyplot as plt\n",
    "import seaborn as sns\n",
    "\n",
    "import numpy as np\n",
    "\n",
    "import pennylane as qml\n",
    "from pennylane import expval"
   ]
  },
  {
   "cell_type": "code",
   "execution_count": null,
   "metadata": {},
   "outputs": [],
   "source": [
    "dev = qml.device(\"default.qubit\", wires=2)"
   ]
  },
  {
   "cell_type": "code",
   "execution_count": null,
   "metadata": {},
   "outputs": [],
   "source": [
    "alpha = 0.4\n",
    "beta = 0.2\n",
    "\n",
    "coeffs = [alpha, alpha, beta]\n",
    "obs_list = [\n",
    "    qml.PauliZ(0) @ qml.Identity(1),\n",
    "    qml.Identity(0) @ qml.PauliZ(1),\n",
    "    qml.PauliX(0) @ qml.PauliX(1)\n",
    "]"
   ]
  },
  {
   "cell_type": "code",
   "execution_count": null,
   "metadata": {},
   "outputs": [],
   "source": [
    "def circuit(params, wires):\n",
    "    qml.RY(params[0], wires=wires[0])\n",
    "    qml.RY(params[1], wires=wires[1])\n",
    "    \n",
    "    qml.CNOT(wires=wires)\n",
    "    \n",
    "    qml.RY(params[2], wires=wires[0])\n",
    "    qml.RY(params[3], wires=wires[1])"
   ]
  },
  {
   "cell_type": "code",
   "execution_count": null,
   "metadata": {},
   "outputs": [],
   "source": [
    "qnodes = qml.map(circuit, obs_list, dev, measure='expval')\n",
    "energy_expval = qml.dot([alpha, alpha, beta], qnodes)"
   ]
  },
  {
   "cell_type": "markdown",
   "metadata": {},
   "source": [
    "Number of VQE runs"
   ]
  },
  {
   "cell_type": "code",
   "execution_count": null,
   "metadata": {},
   "outputs": [],
   "source": [
    "k_runs = 10 "
   ]
  },
  {
   "cell_type": "code",
   "execution_count": null,
   "metadata": {},
   "outputs": [],
   "source": [
    "step_size = 0.3\n",
    "max_iterations = 50"
   ]
  },
  {
   "cell_type": "markdown",
   "metadata": {},
   "source": [
    "Here, we don't terminate based on energy improvement but run a fixed number of steps (50 in this case). "
   ]
  },
  {
   "cell_type": "code",
   "execution_count": null,
   "metadata": {},
   "outputs": [],
   "source": [
    "# List to store energy histories for all the VQE runs\n",
    "energy_history = []\n",
    "\n",
    "for k in range(k_runs):\n",
    "\n",
    "    # Energy history for a single VQE run\n",
    "    energy_history_single_run = []\n",
    "    \n",
    "    # Randomly initialize parameters\n",
    "    initial_params = np.random.uniform(low=0, high=2*np.pi, size=4).tolist()\n",
    "\n",
    "    params = initial_params\n",
    "    prev_energy = energy_expval(params)\n",
    "    energy_history_single_run.append(prev_energy)\n",
    "\n",
    "    for n in range(max_iterations):\n",
    "\n",
    "        grad_cost = qml.grad(energy_expval, argnum=[0])\n",
    "        grad_at_point = [float(i) for i in grad_cost(params)[0]] \n",
    "\n",
    "        params = params - step_size * np.dot(np.linalg.pinv(qnodes[0].metric_tensor([params])),\n",
    "                                             grad_at_point)\n",
    "\n",
    "        energy = energy_expval(params)\n",
    "\n",
    "        conv = np.abs(energy - prev_energy)\n",
    "\n",
    "        prev_energy = energy\n",
    "        energy_history_single_run.append(prev_energy)\n",
    "        \n",
    "    print('Finished run #{}'.format(k))\n",
    "\n",
    "    energy_history_single_run = np.array(energy_history_single_run)\n",
    "    energy_history.append(energy_history_single_run)"
   ]
  },
  {
   "cell_type": "code",
   "execution_count": null,
   "metadata": {},
   "outputs": [],
   "source": [
    "for i in range(k_runs):\n",
    "    plt.plot(energy_history[i])"
   ]
  },
  {
   "cell_type": "markdown",
   "metadata": {},
   "source": [
    "For plotting standard deviations, check out this Stackoverflow response:\n",
    "\n",
    "https://datascience.stackexchange.com/questions/30913/plots-with-shaded-standard-deviation\n",
    "\n",
    "Check out the documentation for `fill_between()` in matplotlib."
   ]
  },
  {
   "cell_type": "code",
   "execution_count": null,
   "metadata": {},
   "outputs": [],
   "source": [
    "plt.style.use(\"seaborn\")\n",
    "fig = plt.figure(figsize=(6, 5))\n",
    "\n",
    "\n",
    "# ======================= #\n",
    "# Code for plotting here! #\n",
    "# ======================= #\n",
    "\n",
    "\n",
    "plt.xticks(fontsize=14)\n",
    "plt.yticks(fontsize=14)\n",
    "\n",
    "plt.ylabel(\"Energy\", fontsize=18)\n",
    "plt.xlabel(\"Optimization steps\", fontsize=18)\n",
    "\n",
    "plt.tight_layout()"
   ]
  },
  {
   "cell_type": "code",
   "execution_count": null,
   "metadata": {},
   "outputs": [],
   "source": []
  }
 ],
 "metadata": {
  "kernelspec": {
   "display_name": "Python 3",
   "language": "python",
   "name": "python3"
  },
  "language_info": {
   "codemirror_mode": {
    "name": "ipython",
    "version": 3
   },
   "file_extension": ".py",
   "mimetype": "text/x-python",
   "name": "python",
   "nbconvert_exporter": "python",
   "pygments_lexer": "ipython3",
   "version": "3.7.5"
  }
 },
 "nbformat": 4,
 "nbformat_minor": 2
}
