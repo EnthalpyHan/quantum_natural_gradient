{
 "cells": [
  {
   "cell_type": "code",
   "execution_count": 3,
   "metadata": {},
   "outputs": [],
   "source": [
    "import pennylane as qml\n",
    "import tensorflow as tf\n",
    "from pennylane.qnodes import PassthruQNode\n",
    "\n",
    "import scipy as sp\n",
    "\n",
    "%matplotlib inline\n",
    "import matplotlib.pyplot as plt\n",
    "import matplotlib.cm as cm\n",
    "import matplotlib as mpl\n",
    "import numpy as np\n",
    "\n",
    "import qutip as qt\n",
    "from qutip import Bloch, basis"
   ]
  },
  {
   "cell_type": "code",
   "execution_count": null,
   "metadata": {},
   "outputs": [],
   "source": []
  },
  {
   "cell_type": "code",
   "execution_count": 4,
   "metadata": {},
   "outputs": [],
   "source": [
    "dev = qml.device(\"default.qubit\", wires = 1)\n",
    "\n",
    "def circuit(params, wires=0):\n",
    "    qml.RX(params[0], wires=wires)\n",
    "    qml.RY(params[1], wires=wires)\n",
    "\n",
    "qnode = PassthruQNode(circuit, dev)"
   ]
  },
  {
   "cell_type": "code",
   "execution_count": 5,
   "metadata": {},
   "outputs": [],
   "source": [
    "coeffs = [1,1]\n",
    "\n",
    "obs = [qml.PauliX(0), qml.PauliZ(0)]\n",
    "\n",
    "H = qml.Hamiltonian(coeffs, obs)\n",
    "cost_fn = qml.VQECost(circuit, H, dev)"
   ]
  },
  {
   "cell_type": "code",
   "execution_count": 10,
   "metadata": {},
   "outputs": [],
   "source": [
    "init_params = np.array([3.97507603, 3.00854038])"
   ]
  },
  {
   "cell_type": "code",
   "execution_count": 11,
   "metadata": {},
   "outputs": [],
   "source": [
    "from vqe_function_states import run_vqe"
   ]
  },
  {
   "cell_type": "code",
   "execution_count": 13,
   "metadata": {},
   "outputs": [
    {
     "name": "stdout",
     "output_type": "stream",
     "text": [
      "Iteration = 0 Energy = 0.51052556 Ha, Convergence parameter = 0.06664604 Ha State [1.+0.j 0.+0.j]\n",
      "Iteration = 20 Energy = -0.90729965 Ha, Convergence parameter = 0.05006082 Ha State [1.+0.j 0.+0.j]\n",
      "Iteration = 40 Energy = -1.35504644 Ha, Convergence parameter = 0.00713113 Ha State [1.+0.j 0.+0.j]\n",
      "Iteration = 60 Energy = -1.40833787 Ha, Convergence parameter = 0.00072399 Ha State [1.+0.j 0.+0.j]\n",
      "Iteration = 80 Energy = -1.41364035 Ha, Convergence parameter = 0.00007078 Ha State [1.+0.j 0.+0.j]\n",
      "Iteration = 100 Energy = -1.41415774 Ha, Convergence parameter = 0.00000689 Ha State [1.+0.j 0.+0.j]\n",
      "\n",
      "Final value of the ground-state energy = -1.41420585 Ha\n",
      "\n",
      "Final state [1.+0.j 0.+0.j]\n",
      "\n",
      "Number of iterations =  116\n"
     ]
    }
   ],
   "source": [
    "qngd_cost_history, qngd_param_history, qngd_state_history, qngd_steps = run_vqe(cost_fn=cost_fn,\n",
    "                                                                                max_iter=500,\n",
    "                                                                                initial_params=init_params,\n",
    "                                                                                opt='QNGOptimizer',\n",
    "                                                                                opt_step=0.01,\n",
    "                                                                                dev = qml.device('default.qubit', wires=1),\n",
    "                                                                                diag_approx=True)"
   ]
  },
  {
   "cell_type": "code",
   "execution_count": 14,
   "metadata": {},
   "outputs": [
    {
     "name": "stdout",
     "output_type": "stream",
     "text": [
      "Iteration = 0 Energy = 0.56743624 Ha, Convergence parameter = 0.00973536 Ha State [1.+0.j 0.+0.j]\n",
      "Iteration = 20 Energy = 0.38709233 Ha, Convergence parameter = 0.00821261 Ha State [1.+0.j 0.+0.j]\n",
      "Iteration = 40 Energy = 0.24420954 Ha, Convergence parameter = 0.00616395 Ha State [1.+0.j 0.+0.j]\n",
      "Iteration = 60 Energy = 0.14079686 Ha, Convergence parameter = 0.00435028 Ha State [1.+0.j 0.+0.j]\n",
      "Iteration = 80 Energy = 0.06758408 Ha, Convergence parameter = 0.00314443 Ha State [1.+0.j 0.+0.j]\n",
      "Iteration = 100 Energy = 0.01128048 Ha, Convergence parameter = 0.00262544 Ha State [1.+0.j 0.+0.j]\n",
      "Iteration = 120 Energy = -0.04175219 Ha, Convergence parameter = 0.00278160 Ha State [1.+0.j 0.+0.j]\n",
      "Iteration = 140 Energy = -0.10499504 Ha, Convergence parameter = 0.00361450 Ha State [1.+0.j 0.+0.j]\n",
      "Iteration = 160 Energy = -0.19195848 Ha, Convergence parameter = 0.00511056 Ha State [1.+0.j 0.+0.j]\n",
      "Iteration = 180 Energy = -0.31444953 Ha, Convergence parameter = 0.00708743 Ha State [1.+0.j 0.+0.j]\n",
      "Iteration = 200 Energy = -0.47706980 Ha, Convergence parameter = 0.00900220 Ha State [1.+0.j 0.+0.j]\n",
      "Iteration = 220 Energy = -0.66993027 Ha, Convergence parameter = 0.01001574 Ha State [1.+0.j 0.+0.j]\n",
      "Iteration = 240 Energy = -0.86789981 Ha, Convergence parameter = 0.00955105 Ha State [1.+0.j 0.+0.j]\n",
      "Iteration = 260 Energy = -1.04241317 Ha, Convergence parameter = 0.00783834 Ha State [1.+0.j 0.+0.j]\n",
      "Iteration = 280 Energy = -1.17653061 Ha, Convergence parameter = 0.00567546 Ha State [1.+0.j 0.+0.j]\n",
      "Iteration = 300 Energy = -1.26906291 Ha, Convergence parameter = 0.00374812 Ha State [1.+0.j 0.+0.j]\n",
      "Iteration = 320 Energy = -1.32823089 Ha, Convergence parameter = 0.00232769 Ha State [1.+0.j 0.+0.j]\n",
      "Iteration = 340 Energy = -1.36424033 Ha, Convergence parameter = 0.00139097 Ha State [1.+0.j 0.+0.j]\n",
      "Iteration = 360 Energy = -1.38549883 Ha, Convergence parameter = 0.00081221 Ha State [1.+0.j 0.+0.j]\n",
      "Iteration = 380 Energy = -1.39782393 Ha, Convergence parameter = 0.00046788 Ha State [1.+0.j 0.+0.j]\n",
      "Iteration = 400 Energy = -1.40489478 Ha, Convergence parameter = 0.00026743 Ha State [1.+0.j 0.+0.j]\n",
      "Iteration = 420 Energy = -1.40892679 Ha, Convergence parameter = 0.00015217 Ha State [1.+0.j 0.+0.j]\n",
      "Iteration = 440 Energy = -1.41121801 Ha, Convergence parameter = 0.00008637 Ha State [1.+0.j 0.+0.j]\n",
      "Iteration = 460 Energy = -1.41251745 Ha, Convergence parameter = 0.00004895 Ha State [1.+0.j 0.+0.j]\n",
      "Iteration = 480 Energy = -1.41325360 Ha, Convergence parameter = 0.00002772 Ha State [1.+0.j 0.+0.j]\n",
      "\n",
      "Final value of the ground-state energy = -1.41365468 Ha\n",
      "\n",
      "Final state [1.+0.j 0.+0.j]\n",
      "\n",
      "Number of iterations =  499\n"
     ]
    }
   ],
   "source": [
    "gd_cost_history, gd_param_history, gd_state_history, gd_steps = run_vqe(cost_fn=cost_fn,\n",
    "                                                                        max_iter=500,\n",
    "                                                                        initial_params=init_params,\n",
    "                                                                        opt='GradientDescentOptimizer',\n",
    "                                                                        opt_step=0.01,\n",
    "                                                                        dev = qml.device('default.qubit', wires=1),\n",
    "                                                                        diag_approx=False)"
   ]
  },
  {
   "cell_type": "code",
   "execution_count": 15,
   "metadata": {},
   "outputs": [],
   "source": [
    "from visualization_function import plot_params"
   ]
  },
  {
   "cell_type": "code",
   "execution_count": 17,
   "metadata": {},
   "outputs": [
    {
     "data": {
      "image/png": "[encoded data removed]",
      "text/plain": [
       "<Figure size 432x432 with 1 Axes>"
      ]
     },
     "metadata": {
      "needs_background": "light"
     },
     "output_type": "display_data"
    }
   ],
   "source": [
    "plot_params(gd_param_history=gd_param_history,\n",
    "            qngd_param_history=qngd_param_history,\n",
    "            plot_interval=10,\n",
    "            figsize=[6,6],\n",
    "            linewidth=1)"
   ]
  },
  {
   "cell_type": "code",
   "execution_count": 19,
   "metadata": {},
   "outputs": [],
   "source": [
    "from visualization_function import plot_states"
   ]
  },
  {
   "cell_type": "code",
   "execution_count": 20,
   "metadata": {},
   "outputs": [
    {
     "ename": "TypeError",
     "evalue": "plot_states() missing 2 required positional arguments: 'gd_color' and 'qngd_color'",
     "output_type": "error",
     "traceback": [
      "\u001b[0;31m---------------------------------------------------------------------------\u001b[0m",
      "\u001b[0;31mTypeError\u001b[0m                                 Traceback (most recent call last)",
      "\u001b[0;32m<ipython-input-20-fab58aca49f4>\u001b[0m in \u001b[0;36m<module>\u001b[0;34m\u001b[0m\n\u001b[1;32m      3\u001b[0m             \u001b[0mplot_interval\u001b[0m\u001b[0;34m=\u001b[0m\u001b[0;36m10\u001b[0m\u001b[0;34m,\u001b[0m\u001b[0;34m\u001b[0m\u001b[0;34m\u001b[0m\u001b[0m\n\u001b[1;32m      4\u001b[0m             \u001b[0mfigsize\u001b[0m\u001b[0;34m=\u001b[0m\u001b[0;34m[\u001b[0m\u001b[0;36m8\u001b[0m\u001b[0;34m,\u001b[0m\u001b[0;36m8\u001b[0m\u001b[0;34m]\u001b[0m\u001b[0;34m,\u001b[0m\u001b[0;34m\u001b[0m\u001b[0;34m\u001b[0m\u001b[0m\n\u001b[0;32m----> 5\u001b[0;31m             pointsize=50)\n\u001b[0m",
      "\u001b[0;31mTypeError\u001b[0m: plot_states() missing 2 required positional arguments: 'gd_color' and 'qngd_color'"
     ]
    }
   ],
   "source": [
    "plot_states(gd_state_history=gd_state_history,\n",
    "            qngd_state_history=qngd_state_history,\n",
    "            plot_interval=10,\n",
    "            figsize=[8,8],\n",
    "            pointsize=50)"
   ]
  },
  {
   "cell_type": "code",
   "execution_count": null,
   "metadata": {},
   "outputs": [],
   "source": []
  }
 ],
 "metadata": {
  "kernelspec": {
   "display_name": "Python 3",
   "language": "python",
   "name": "python3"
  },
  "language_info": {
   "codemirror_mode": {
    "name": "ipython",
    "version": 3
   },
   "file_extension": ".py",
   "mimetype": "text/x-python",
   "name": "python",
   "nbconvert_exporter": "python",
   "pygments_lexer": "ipython3",
   "version": "3.6.9"
  }
 },
 "nbformat": 4,
 "nbformat_minor": 4
}
