{
  "nbformat": 4,
  "nbformat_minor": 0,
  "metadata": {
    "colab": {
      "name": "qng__attempt_beh2_maggie",
      "provenance": []
    },
    "kernelspec": {
      "name": "python3",
      "display_name": "Python 3"
    }
  },
  "cells": [
    {
      "cell_type": "code",
      "metadata": {
        "id": "cnmtbtq-z40v",
        "colab_type": "code",
        "colab": {
          "base_uri": "https://localhost:8080/",
          "height": 539
        },
        "outputId": "eb176c33-a353-4aff-89c4-bf0bb922688a"
      },
      "source": [
        "!pip install pennylane-qchem"
      ],
      "execution_count": 1,
      "outputs": [
        {
          "output_type": "stream",
          "text": [
            "Requirement already satisfied: pennylane-qchem in /usr/local/lib/python3.6/dist-packages (0.8.0)\n",
            "Requirement already satisfied: openfermion in /usr/local/lib/python3.6/dist-packages (from pennylane-qchem) (0.11.0)\n",
            "Requirement already satisfied: pennylane in /usr/local/lib/python3.6/dist-packages (from pennylane-qchem) (0.8.1)\n",
            "Requirement already satisfied: openfermionpyscf in /usr/local/lib/python3.6/dist-packages (from pennylane-qchem) (0.4)\n",
            "Requirement already satisfied: openfermionpsi4 in /usr/local/lib/python3.6/dist-packages (from pennylane-qchem) (0.4)\n",
            "Requirement already satisfied: networkx in /usr/local/lib/python3.6/dist-packages (from openfermion->pennylane-qchem) (2.4)\n",
            "Requirement already satisfied: pubchempy in /usr/local/lib/python3.6/dist-packages (from openfermion->pennylane-qchem) (1.0.4)\n",
            "Requirement already satisfied: scipy>=1.1.0 in /usr/local/lib/python3.6/dist-packages (from openfermion->pennylane-qchem) (1.4.1)\n",
            "Requirement already satisfied: h5py>=2.8 in /usr/local/lib/python3.6/dist-packages (from openfermion->pennylane-qchem) (2.10.0)\n",
            "Requirement already satisfied: requests~=2.18 in /usr/local/lib/python3.6/dist-packages (from openfermion->pennylane-qchem) (2.21.0)\n",
            "Requirement already satisfied: numpy>=1.11.0 in /usr/local/lib/python3.6/dist-packages (from openfermion->pennylane-qchem) (1.18.2)\n",
            "Requirement already satisfied: semantic-version==2.6 in /usr/local/lib/python3.6/dist-packages (from pennylane->pennylane-qchem) (2.6.0)\n",
            "Requirement already satisfied: appdirs in /usr/local/lib/python3.6/dist-packages (from pennylane->pennylane-qchem) (1.4.3)\n",
            "Requirement already satisfied: toml in /usr/local/lib/python3.6/dist-packages (from pennylane->pennylane-qchem) (0.10.0)\n",
            "Requirement already satisfied: autograd in /usr/local/lib/python3.6/dist-packages (from pennylane->pennylane-qchem) (1.3)\n",
            "Requirement already satisfied: pyscf in /usr/local/lib/python3.6/dist-packages (from openfermionpyscf->pennylane-qchem) (1.7.1)\n",
            "Requirement already satisfied: pytest in /usr/local/lib/python3.6/dist-packages (from openfermionpyscf->pennylane-qchem) (3.6.4)\n",
            "Requirement already satisfied: decorator>=4.3.0 in /usr/local/lib/python3.6/dist-packages (from networkx->openfermion->pennylane-qchem) (4.4.2)\n",
            "Requirement already satisfied: six in /usr/local/lib/python3.6/dist-packages (from h5py>=2.8->openfermion->pennylane-qchem) (1.12.0)\n",
            "Requirement already satisfied: certifi>=2017.4.17 in /usr/local/lib/python3.6/dist-packages (from requests~=2.18->openfermion->pennylane-qchem) (2020.4.5.1)\n",
            "Requirement already satisfied: urllib3<1.25,>=1.21.1 in /usr/local/lib/python3.6/dist-packages (from requests~=2.18->openfermion->pennylane-qchem) (1.24.3)\n",
            "Requirement already satisfied: chardet<3.1.0,>=3.0.2 in /usr/local/lib/python3.6/dist-packages (from requests~=2.18->openfermion->pennylane-qchem) (3.0.4)\n",
            "Requirement already satisfied: idna<2.9,>=2.5 in /usr/local/lib/python3.6/dist-packages (from requests~=2.18->openfermion->pennylane-qchem) (2.8)\n",
            "Requirement already satisfied: future>=0.15.2 in /usr/local/lib/python3.6/dist-packages (from autograd->pennylane->pennylane-qchem) (0.16.0)\n",
            "Requirement already satisfied: pluggy<0.8,>=0.5 in /usr/local/lib/python3.6/dist-packages (from pytest->openfermionpyscf->pennylane-qchem) (0.7.1)\n",
            "Requirement already satisfied: atomicwrites>=1.0 in /usr/local/lib/python3.6/dist-packages (from pytest->openfermionpyscf->pennylane-qchem) (1.3.0)\n",
            "Requirement already satisfied: attrs>=17.4.0 in /usr/local/lib/python3.6/dist-packages (from pytest->openfermionpyscf->pennylane-qchem) (19.3.0)\n",
            "Requirement already satisfied: more-itertools>=4.0.0 in /usr/local/lib/python3.6/dist-packages (from pytest->openfermionpyscf->pennylane-qchem) (8.2.0)\n",
            "Requirement already satisfied: py>=1.5.0 in /usr/local/lib/python3.6/dist-packages (from pytest->openfermionpyscf->pennylane-qchem) (1.8.1)\n",
            "Requirement already satisfied: setuptools in /usr/local/lib/python3.6/dist-packages (from pytest->openfermionpyscf->pennylane-qchem) (46.1.3)\n"
          ],
          "name": "stdout"
        }
      ]
    },
    {
      "cell_type": "code",
      "metadata": {
        "id": "ivfRYFOfz8gi",
        "colab_type": "code",
        "colab": {}
      },
      "source": [
        "import numpy as np\n",
        "import pennylane as qml\n",
        "from pennylane import expval, var, device"
      ],
      "execution_count": 0,
      "outputs": []
    },
    {
      "cell_type": "code",
      "metadata": {
        "id": "vj2hH1Ibz_YS",
        "colab_type": "code",
        "colab": {
          "base_uri": "https://localhost:8080/",
          "height": 1000
        },
        "outputId": "48c725e3-a66c-421f-8388-571519085537"
      },
      "source": [
        "name ='BeH2';charge = 0; multiplicity=1; basis= 'sto-3g'; geometry = 'beh2.xyz';\n",
        "h, nr_qubits = qml.qchem.generate_hamiltonian(\n",
        "    name,\n",
        "    geometry,\n",
        "    charge,\n",
        "    multiplicity,\n",
        "    basis,\n",
        "    mapping='jordan_wigner',\n",
        "    n_active_orbitals=3,\n",
        "    n_active_electrons=2,\n",
        ")\n",
        "print(h, '\\n', nr_qubits)"
      ],
      "execution_count": 3,
      "outputs": [
        {
          "output_type": "stream",
          "text": [
            "(-13.763658581986853) [I0]\n",
            "+ (-0.02049157680747858) [Z0]\n",
            "+ (-9.106018753618769e-07) [Y0 Z1 Y2]\n",
            "+ (-9.106018753618769e-07) [X0 Z1 X2]\n",
            "+ (-0.020491576807478568) [Z1]\n",
            "+ (-9.106018753618776e-07) [Y1 Z2 Y3]\n",
            "+ (-9.106018753618776e-07) [X1 Z2 X3]\n",
            "+ (-0.1618152952732591) [Z2]\n",
            "+ (-0.16181529527325908) [Z3]\n",
            "+ (-0.1731301301411197) [Z4]\n",
            "+ (-0.17313013014111972) [Z5]\n",
            "+ (0.13215881120497855) [Z0 Z1]\n",
            "+ (-1.4048789458790822e-06) [Y0 Y2]\n",
            "+ (-1.4048789458790822e-06) [X0 X2]\n",
            "+ (-1.4048789458790822e-06) [Z0 Y1 Z2 Y3]\n",
            "+ (-1.4048789458790822e-06) [Z0 X1 Z2 X3]\n",
            "+ (0.005697940665217693) [Y0 X1 X2 Y3]\n",
            "+ (-0.005697940665217693) [Y0 Y1 X2 X3]\n",
            "+ (-0.005697940665217693) [X0 X1 Y2 Y3]\n",
            "+ (0.005697940665217693) [X0 Y1 Y2 X3]\n",
            "+ (0.005288945284752739) [Y0 X1 X4 Y5]\n",
            "+ (-0.005288945284752739) [Y0 Y1 X4 X5]\n",
            "+ (-0.005288945284752739) [X0 X1 Y4 Y5]\n",
            "+ (0.005288945284752739) [X0 Y1 Y4 X5]\n",
            "+ (0.09482086680073133) [Z0 Z2]\n",
            "+ (0.10051880746594904) [Z0 Z3]\n",
            "+ (8.803099615617148e-07) [Y0 Z1 Y2 Z3]\n",
            "+ (8.803099615617148e-07) [X0 Z1 X2 Z3]\n",
            "+ (-1.0088527631401527e-06) [Y0 Z1 Z2 X3 X4 Y5]\n",
            "+ (1.0088527631401527e-06) [Y0 Z1 Z2 Y3 X4 X5]\n",
            "+ (1.0088527631401527e-06) [X0 Z1 Z2 X3 Y4 Y5]\n",
            "+ (-1.0088527631401527e-06) [X0 Z1 Z2 Y3 Y4 X5]\n",
            "+ (0.09936067674545618) [Z0 Z4]\n",
            "+ (-1.1990952077584216e-06) [Y0 Z1 Y2 Z4]\n",
            "+ (-1.1990952077584216e-06) [X0 Z1 X2 Z4]\n",
            "+ (0.10464962203020892) [Z0 Z5]\n",
            "+ (-1.9024244461826892e-07) [Y0 Z1 Y2 Z5]\n",
            "+ (-1.9024244461826892e-07) [X0 Z1 X2 Z5]\n",
            "+ (0.10051880746594904) [Z1 Z2]\n",
            "+ (8.803099615617149e-07) [Y1 Y3]\n",
            "+ (8.803099615617149e-07) [X1 X3]\n",
            "+ (1.0088527631401527e-06) [Y1 X2 X4 Y5]\n",
            "+ (1.0088527631401527e-06) [Y1 Y2 Y4 Y5]\n",
            "+ (1.0088527631401527e-06) [X1 X2 X4 X5]\n",
            "+ (1.0088527631401527e-06) [X1 Y2 Y4 X5]\n",
            "+ (0.09482086680073133) [Z1 Z3]\n",
            "+ (0.10464962203020892) [Z1 Z4]\n",
            "+ (-1.9024244461826892e-07) [Y1 Z2 Y3 Z4]\n",
            "+ (-1.9024244461826892e-07) [X1 Z2 X3 Z4]\n",
            "+ (0.09936067674545618) [Z1 Z5]\n",
            "+ (-1.1990952077584216e-06) [Y1 Z2 Y3 Z5]\n",
            "+ (-1.1990952077584216e-06) [X1 Z2 X3 Z5]\n",
            "+ (0.12048493803389737) [Z2 Z3]\n",
            "+ (0.009395388495795852) [Y2 X3 X4 Y5]\n",
            "+ (-0.009395388495795852) [Y2 Y3 X4 X5]\n",
            "+ (-0.009395388495795852) [X2 X3 Y4 Y5]\n",
            "+ (0.009395388495795852) [X2 Y3 Y4 X5]\n",
            "+ (0.09103144757346276) [Z2 Z4]\n",
            "+ (0.10042683606925862) [Z2 Z5]\n",
            "+ (0.10042683606925862) [Z3 Z4]\n",
            "+ (0.09103144757346276) [Z3 Z5]\n",
            "+ (0.11246476027166744) [Z4 Z5] \n",
            " 6\n"
          ],
          "name": "stdout"
        }
      ]
    },
    {
      "cell_type": "code",
      "metadata": {
        "id": "SyYU6j5n2izW",
        "colab_type": "code",
        "colab": {}
      },
      "source": [
        "dev = qml.device(\"default.qubit\", wires=6)\n",
        "\n",
        "def circuit(params, wires=[0,1,2,3,4,5]):\n",
        "    for i in wires:\n",
        "        qml.RY(params[i], wires=wires[i])\n",
        "    qml.CNOT(wires=[wires[0], wires[1]])\n",
        "    qml.CNOT(wires=[wires[2], wires[3]])\n",
        "    qml.CNOT(wires=[wires[4], wires[5]])\n",
        "    qml.CNOT(wires=[wires[1], wires[2]])\n",
        "    qml.CNOT(wires=[wires[3], wires[4]])\n",
        "    for i in wires:\n",
        "        qml.RY(params[i+6], wires=wires[i])\n",
        "    qml.CNOT(wires=[wires[0], wires[1]])\n",
        "    qml.CNOT(wires=[wires[2], wires[3]])\n",
        "    qml.CNOT(wires=[wires[4], wires[5]])\n",
        "    qml.CNOT(wires=[wires[1], wires[2]])\n",
        "    qml.CNOT(wires=[wires[3], wires[4]])"
      ],
      "execution_count": 0,
      "outputs": []
    },
    {
      "cell_type": "code",
      "metadata": {
        "id": "IP3Sk97T2jsi",
        "colab_type": "code",
        "colab": {}
      },
      "source": [
        "qnodes = qml.map(circuit, h.ops, dev, measure='expval')\n",
        "expval = qml.dot([h.coeffs], qnodes)"
      ],
      "execution_count": 0,
      "outputs": []
    },
    {
      "cell_type": "code",
      "metadata": {
        "id": "NOV0TJyW2lKu",
        "colab_type": "code",
        "colab": {}
      },
      "source": [
        "step_size = 0.5\n",
        "max_iterations = 400\n",
        "conv_tol = 1e-06\n",
        "\n",
        "print_freq = 20\n",
        "\n",
        "initial_params = np.random.uniform(low=0, high=2*np.pi, size=12)"
      ],
      "execution_count": 0,
      "outputs": []
    },
    {
      "cell_type": "code",
      "metadata": {
        "id": "bxRw9hlx2m2O",
        "colab_type": "code",
        "colab": {
          "base_uri": "https://localhost:8080/",
          "height": 121
        },
        "outputId": "fc0e7422-9ef5-4a0d-808c-48a9f086aad5"
      },
      "source": [
        "params = initial_params\n",
        "prev_energy = expval(params)\n",
        "qng_energies_block = []\n",
        "\n",
        "for n in range(max_iterations):\n",
        "    \n",
        "    grad_cost = qml.grad(expval, argnum=[0])\n",
        "    grad_at_point = [float(i) for i in grad_cost(params)[0]] \n",
        "    \n",
        "    params = params - step_size * np.dot(\n",
        "                np.linalg.pinv(qnodes[0].metric_tensor([params])), \n",
        "                grad_at_point)\n",
        "\n",
        "    energy = expval(params)\n",
        "    qng_energies_block.append(energy)\n",
        "    \n",
        "    conv = np.abs(energy - prev_energy)\n",
        "\n",
        "    if n % print_freq == 0:\n",
        "        print('Iteration = ', n, 'Energy =', energy, 'Ha', 'Convergence parameter =', conv, 'Ha')\n",
        "\n",
        "    if conv <= conv_tol:\n",
        "        qng_block_steps = n\n",
        "        break\n",
        "\n",
        "    prev_energy = energy\n",
        "\n",
        "print()\n",
        "print('Number of iterations = ', qng_block_steps)"
      ],
      "execution_count": 10,
      "outputs": [
        {
          "output_type": "stream",
          "text": [
            "Iteration =  0 Energy = [-13.8783902] Ha Convergence parameter = [0.12462163] Ha\n",
            "Iteration =  20 Energy = [-14.30085349] Ha Convergence parameter = [0.00320106] Ha\n",
            "Iteration =  40 Energy = [-14.42940571] Ha Convergence parameter = [0.003607] Ha\n",
            "Iteration =  60 Energy = [-14.44315646] Ha Convergence parameter = [2.48881962e-05] Ha\n",
            "\n",
            "Number of iterations =  73\n"
          ],
          "name": "stdout"
        }
      ]
    },
    {
      "cell_type": "code",
      "metadata": {
        "id": "4oS03XSZEfaj",
        "colab_type": "code",
        "colab": {
          "base_uri": "https://localhost:8080/",
          "height": 121
        },
        "outputId": "95c441ce-f8ca-4a30-fbba-aa5850e41394"
      },
      "source": [
        "params = initial_params\n",
        "prev_energy = expval(params)\n",
        "qng_energies_diag = []\n",
        "\n",
        "for n in range(max_iterations):\n",
        "    \n",
        "    grad_cost = qml.grad(expval, argnum=[0])\n",
        "    grad_at_point = [float(i) for i in grad_cost(params)[0]] \n",
        "    \n",
        "    params = params - step_size * np.dot(np.linalg.pinv(qnodes[0].metric_tensor([params], diag_approx=True)),\n",
        "                                         grad_at_point)\n",
        "\n",
        "    energy = expval(params)\n",
        "    qng_energies_diag.append(energy)\n",
        "    \n",
        "    conv = np.abs(energy - prev_energy)\n",
        "\n",
        "    if n % print_freq == 0:\n",
        "        print('Iteration = ', n, 'Energy =', energy, 'Ha', 'Convergence parameter =', conv, 'Ha')\n",
        "\n",
        "    if conv <= conv_tol:\n",
        "        qng_diag_steps = n\n",
        "        break\n",
        "\n",
        "    prev_energy = energy\n",
        "\n",
        "print()\n",
        "print('Number of iterations = ', qng_diag_steps)"
      ],
      "execution_count": 11,
      "outputs": [
        {
          "output_type": "stream",
          "text": [
            "Iteration =  0 Energy = [-13.87983933] Ha Convergence parameter = [0.12607075] Ha\n",
            "Iteration =  20 Energy = [-14.31826493] Ha Convergence parameter = [0.00587662] Ha\n",
            "Iteration =  40 Energy = [-14.44049305] Ha Convergence parameter = [0.00086126] Ha\n",
            "Iteration =  60 Energy = [-14.44322458] Ha Convergence parameter = [4.03084763e-06] Ha\n",
            "\n",
            "Number of iterations =  67\n"
          ],
          "name": "stdout"
        }
      ]
    },
    {
      "cell_type": "code",
      "metadata": {
        "id": "3GPoeHsyKZyG",
        "colab_type": "code",
        "colab": {
          "base_uri": "https://localhost:8080/",
          "height": 400
        },
        "outputId": "abcb7424-04aa-4352-b886-feec74df6fa4"
      },
      "source": [
        "params = initial_params\n",
        "prev_energy = expval(params)\n",
        "vanilla_energies = []\n",
        "\n",
        "for n in range(max_iterations):\n",
        "    \n",
        "    grad_cost = qml.grad(expval, argnum=[0])\n",
        "    grad_at_point = [float(i) for i in grad_cost(params)[0]] \n",
        "    \n",
        "    params = params - step_size * np.dot(step_size, grad_at_point)\n",
        "\n",
        "    energy = expval(params)\n",
        "    vanilla_energies.append(energy)\n",
        "    \n",
        "    conv = np.abs(energy - prev_energy)\n",
        "\n",
        "    if n % print_freq == 0:\n",
        "        print('Iteration = ', n, 'Energy =', energy, 'Ha', 'Convergence parameter =', conv, 'Ha')\n",
        "\n",
        "    if conv <= conv_tol:\n",
        "        break\n",
        "\n",
        "    prev_energy = energy\n",
        "\n",
        "print()\n",
        "print('Number of iterations = ', n)"
      ],
      "execution_count": 12,
      "outputs": [
        {
          "output_type": "stream",
          "text": [
            "Iteration =  0 Energy = [-13.77141755] Ha Convergence parameter = [0.01764898] Ha\n",
            "Iteration =  20 Energy = [-14.05754958] Ha Convergence parameter = [0.01086086] Ha\n",
            "Iteration =  40 Energy = [-14.17790466] Ha Convergence parameter = [0.00311497] Ha\n",
            "Iteration =  60 Energy = [-14.22015892] Ha Convergence parameter = [0.00164251] Ha\n",
            "Iteration =  80 Energy = [-14.24905298] Ha Convergence parameter = [0.00127829] Ha\n",
            "Iteration =  100 Energy = [-14.27066055] Ha Convergence parameter = [0.00090516] Ha\n",
            "Iteration =  120 Energy = [-14.28568894] Ha Convergence parameter = [0.00063751] Ha\n",
            "Iteration =  140 Energy = [-14.29707109] Ha Convergence parameter = [0.00053299] Ha\n",
            "Iteration =  160 Energy = [-14.30810057] Ha Convergence parameter = [0.00059611] Ha\n",
            "Iteration =  180 Energy = [-14.32227985] Ha Convergence parameter = [0.00083753] Ha\n",
            "Iteration =  200 Energy = [-14.34247089] Ha Convergence parameter = [0.00115832] Ha\n",
            "Iteration =  220 Energy = [-14.36754113] Ha Convergence parameter = [0.00129271] Ha\n",
            "Iteration =  240 Energy = [-14.39221383] Ha Convergence parameter = [0.00114178] Ha\n",
            "Iteration =  260 Energy = [-14.41192633] Ha Convergence parameter = [0.00083356] Ha\n",
            "Iteration =  280 Energy = [-14.42529829] Ha Convergence parameter = [0.00052917] Ha\n",
            "Iteration =  300 Energy = [-14.43339911] Ha Convergence parameter = [0.00030735] Ha\n",
            "Iteration =  320 Energy = [-14.437978] Ha Convergence parameter = [0.00016952] Ha\n",
            "Iteration =  340 Energy = [-14.44046579] Ha Convergence parameter = [9.08612471e-05] Ha\n",
            "Iteration =  360 Energy = [-14.44178843] Ha Convergence parameter = [4.79527865e-05] Ha\n",
            "Iteration =  380 Energy = [-14.44248346] Ha Convergence parameter = [2.51010069e-05] Ha\n",
            "\n",
            "Number of iterations =  399\n"
          ],
          "name": "stdout"
        }
      ]
    },
    {
      "cell_type": "code",
      "metadata": {
        "id": "IvM6TYFOXKVV",
        "colab_type": "code",
        "colab": {
          "base_uri": "https://localhost:8080/",
          "height": 361
        },
        "outputId": "c245c850-e425-417f-b9be-01c4fc7b709e"
      },
      "source": [
        "from matplotlib import pyplot as plt\n",
        "\n",
        "plt.style.use(\"seaborn\")\n",
        "plt.plot(qng_energies_block, label=\"QNG Block Diagonal Approximation\")\n",
        "plt.plot(qng_energies_diag, label=\"QNG Diagonal Approximation\")\n",
        "plt.plot(vanilla_energies, label=\"Vanilla Gradient Descent\")\n",
        "\n",
        "plt.ylabel(\"Energy\")\n",
        "plt.xlabel(\"Optimization steps\")\n",
        "plt.legend()\n",
        "plt.show()"
      ],
      "execution_count": 13,
      "outputs": [
        {
          "output_type": "display_data",
          "data": {
            "image/png": "[encoded data removed]",
            "text/plain": [
              "<Figure size 576x396 with 1 Axes>"
            ]
          },
          "metadata": {
            "tags": []
          }
        }
      ]
    }
  ]
}