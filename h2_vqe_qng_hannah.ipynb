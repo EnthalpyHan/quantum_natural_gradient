{
 "cells": [
  {
   "cell_type": "markdown",
   "metadata": {},
   "source": [
    "# VQE using QNG\n",
    "\n",
    "This is a short tutorial on how to implement VQE using quantum natural gradient descent."
   ]
  },
  {
   "cell_type": "code",
   "execution_count": 1,
   "metadata": {},
   "outputs": [],
   "source": [
    "%matplotlib inline\n",
    "from matplotlib import pyplot as plt\n",
    "import seaborn as sns\n",
    "\n",
    "import numpy as np\n",
    "\n",
    "import pennylane as qml\n",
    "from pennylane import expval"
   ]
  },
  {
   "cell_type": "markdown",
   "metadata": {},
   "source": [
    "To run and optimize quantum circuits using Pennylane, we first need to specify a device (simulator or hardware)."
   ]
  },
  {
   "cell_type": "code",
   "execution_count": 2,
   "metadata": {},
   "outputs": [],
   "source": [
    "dev = qml.device(\"default.qubit\", wires=2)"
   ]
  },
  {
   "cell_type": "markdown",
   "metadata": {},
   "source": [
    "The Hamiltonian-of-interest is: \n",
    "\n",
    "$$\n",
    "\\hat{H} = \\alpha (I \\otimes Z + Z \\otimes I) + \\beta (X \\otimes X) \n",
    "$$\n",
    "\n",
    "where $\\alpha = 0.4$ and $\\beta = 0.2$."
   ]
  },
  {
   "cell_type": "code",
   "execution_count": 3,
   "metadata": {},
   "outputs": [],
   "source": [
    "alpha = 0.4\n",
    "beta = 0.2\n",
    "\n",
    "coeffs = [alpha, alpha, beta]\n",
    "obs_list = [\n",
    "    qml.PauliZ(0) @ qml.Identity(1),\n",
    "    qml.Identity(0) @ qml.PauliZ(1),\n",
    "    qml.PauliX(0) @ qml.PauliX(1)\n",
    "]"
   ]
  },
  {
   "cell_type": "markdown",
   "metadata": {},
   "source": [
    "Our ansatz is a simple two-qubit circuit composed of Y rotations and a CNOT gate. There are 4 parameters in total."
   ]
  },
  {
   "cell_type": "code",
   "execution_count": 4,
   "metadata": {},
   "outputs": [],
   "source": [
    "def circuit(params, wires):\n",
    "    qml.RY(params[0], wires=wires[0])\n",
    "    qml.RY(params[1], wires=wires[1])\n",
    "    \n",
    "    qml.CNOT(wires=wires)\n",
    "    \n",
    "    qml.RY(params[2], wires=wires[0])\n",
    "    qml.RY(params[3], wires=wires[1])"
   ]
  },
  {
   "cell_type": "markdown",
   "metadata": {},
   "source": [
    "We are going to create a collection of QNodes (quantum circuits) that can be executed to compute the expectation value of the energy."
   ]
  },
  {
   "cell_type": "code",
   "execution_count": 5,
   "metadata": {},
   "outputs": [],
   "source": [
    "qnodes = qml.map(circuit, obs_list, dev, measure='expval')\n",
    "energy_expval = qml.dot([alpha, alpha, beta], qnodes)"
   ]
  },
  {
   "cell_type": "markdown",
   "metadata": {},
   "source": [
    "Now to set up the optimizer, we will test both vanilla and natural gradient descent methods. First, we set the stepsize, number of iterations, and initial parameters."
   ]
  },
  {
   "cell_type": "code",
   "execution_count": 6,
   "metadata": {},
   "outputs": [],
   "source": [
    "step_size = 0.3\n",
    "max_iterations = 200\n",
    "\n",
    "initial_params = np.random.uniform(low=0, high=2*np.pi, size=4).tolist()\n",
    "\n",
    "conv_tol = 1e-06\n",
    "\n",
    "print_freq = 10"
   ]
  },
  {
   "cell_type": "markdown",
   "metadata": {},
   "source": [
    "We start with the vanilla gradient descent:"
   ]
  },
  {
   "cell_type": "code",
   "execution_count": 7,
   "metadata": {},
   "outputs": [
    {
     "name": "stdout",
     "output_type": "stream",
     "text": [
      "Iteration = 0,  Energy = -0.63032068 Ha,  Convergence parameter = 0.07343203 Ha\n",
      "Iteration = 10,  Energy = -0.77038953 Ha,  Convergence parameter = 0.00320293 Ha\n",
      "Iteration = 20,  Energy = -0.79367774 Ha,  Convergence parameter = 0.00190524 Ha\n",
      "Iteration = 30,  Energy = -0.80910017 Ha,  Convergence parameter = 0.00125522 Ha\n",
      "Iteration = 40,  Energy = -0.81829880 Ha,  Convergence parameter = 0.00066200 Ha\n",
      "Iteration = 50,  Energy = -0.82251771 Ha,  Convergence parameter = 0.00026277 Ha\n",
      "Iteration = 60,  Energy = -0.82401677 Ha,  Convergence parameter = 0.00008358 Ha\n",
      "Iteration = 70,  Energy = -0.82446215 Ha,  Convergence parameter = 0.00002320 Ha\n",
      "Iteration = 80,  Energy = -0.82458126 Ha,  Convergence parameter = 0.00000598 Ha\n",
      "Iteration = 90,  Energy = -0.82461137 Ha,  Convergence parameter = 0.00000148 Ha\n",
      "\n",
      "Final convergence parameter = 0.00000097 Ha\n",
      "Final value of the ground-state energy = -0.82461475 Ha\n",
      "\n",
      "Final circuit parameters = \n",
      " [-0.36020257446336107, 0.8244103517370496, 3.408214529981979, 2.2848554382666606]\n",
      "Number of iterations =  93\n"
     ]
    }
   ],
   "source": [
    "opt = qml.GradientDescentOptimizer(stepsize=step_size)\n",
    "\n",
    "params = initial_params\n",
    "prev_energy = energy_expval(params)\n",
    "gd_energies = [prev_energy]\n",
    "\n",
    "for n in range(max_iterations):\n",
    "    \n",
    "    # Take step\n",
    "    params = opt.step(energy_expval, params)\n",
    "    \n",
    "    # Compute energy\n",
    "    energy = energy_expval(params)\n",
    "    gd_energies.append(energy)\n",
    "    \n",
    "    # Compute difference wrt previous energy (to test termination criterion)\n",
    "    conv = np.abs(energy - prev_energy)\n",
    "\n",
    "    if n % print_freq == 0:\n",
    "        print('Iteration = {:},  Energy = {:.8f} Ha,  Convergence parameter = {'\n",
    "              ':.8f} Ha'.format(n, energy, conv))\n",
    "\n",
    "    if conv <= conv_tol:\n",
    "        gd_nsteps = n\n",
    "        break\n",
    "\n",
    "    prev_energy = energy\n",
    "\n",
    "print()\n",
    "print('Final convergence parameter = {:.8f} Ha'.format(conv))\n",
    "print('Final value of the ground-state energy = {:.8f} Ha'.format(energy))\n",
    "print()\n",
    "print('Final circuit parameters = \\n', params)\n",
    "print('Number of iterations = ', gd_nsteps)"
   ]
  },
  {
   "cell_type": "code",
   "execution_count": null,
   "metadata": {},
   "outputs": [],
   "source": []
  },
  {
   "cell_type": "markdown",
   "metadata": {},
   "source": [
    "Now we look at natural gradient descent. We first look at the block-diagonal approximation then diagonal approximation."
   ]
  },
  {
   "cell_type": "code",
   "execution_count": 8,
   "metadata": {},
   "outputs": [
    {
     "data": {
      "text/plain": [
       "array([[ 0.25      ,  0.        ,  0.        ,  0.        ],\n",
       "       [ 0.        ,  0.25      ,  0.        ,  0.        ],\n",
       "       [ 0.        ,  0.        ,  0.25      , -0.13540187],\n",
       "       [ 0.        ,  0.        , -0.13540187,  0.25      ]])"
      ]
     },
     "execution_count": 8,
     "metadata": {},
     "output_type": "execute_result"
    }
   ],
   "source": [
    "qnodes[0].metric_tensor([initial_params], diag_approx=False)"
   ]
  },
  {
   "cell_type": "code",
   "execution_count": 9,
   "metadata": {},
   "outputs": [
    {
     "name": "stdout",
     "output_type": "stream",
     "text": [
      "Iteration = 0,  Energy = -0.74060322 Ha,  Convergence parameter = 0.18371457 Ha\n",
      "Iteration = 10,  Energy = -0.81565822 Ha,  Convergence parameter = 0.00318043 Ha\n",
      "Iteration = 20,  Energy = -0.82450621 Ha,  Convergence parameter = 0.00007459 Ha\n",
      "\n",
      "Final convergence parameter = 0.00000075 Ha\n",
      "Final value of the ground-state energy = -0.82462003 Ha\n",
      "\n",
      "Final circuit parameters = \n",
      " [-0.39823469  0.89965486  3.45883873  2.20250376]\n",
      "Number of iterations =  29\n"
     ]
    }
   ],
   "source": [
    "params = initial_params\n",
    "prev_energy = energy_expval(params)\n",
    "qngd_energies_block_diag = [prev_energy]\n",
    "\n",
    "for n in range(max_iterations):\n",
    "    \n",
    "    grad_cost = qml.grad(energy_expval, argnum=[0])\n",
    "    grad_at_point = [float(i) for i in grad_cost(params)[0]] \n",
    "    \n",
    "    params = params - step_size * np.dot(np.linalg.pinv(qnodes[0].metric_tensor([params])),\n",
    "                                         grad_at_point)\n",
    "\n",
    "    energy = energy_expval(params)\n",
    "    qngd_energies_block_diag.append(energy)\n",
    "    \n",
    "    conv = np.abs(energy - prev_energy)\n",
    "\n",
    "    if n % print_freq == 0:\n",
    "        print('Iteration = {:},  Energy = {:.8f} Ha,  Convergence parameter = {'\n",
    "              ':.8f} Ha'.format(n, energy, conv))\n",
    "\n",
    "    if conv <= conv_tol:\n",
    "        qngd_block_diag_nsteps = n\n",
    "        break\n",
    "\n",
    "    prev_energy = energy\n",
    "\n",
    "print()\n",
    "print('Final convergence parameter = {:.8f} Ha'.format(conv))\n",
    "print('Final value of the ground-state energy = {:.8f} Ha'.format(energy))\n",
    "print()\n",
    "print('Final circuit parameters = \\n', params)\n",
    "print('Number of iterations = ', qngd_block_diag_nsteps)"
   ]
  },
  {
   "cell_type": "markdown",
   "metadata": {},
   "source": [
    "Lastly, we look at the diagonal approximation."
   ]
  },
  {
   "cell_type": "code",
   "execution_count": 10,
   "metadata": {},
   "outputs": [
    {
     "data": {
      "text/plain": [
       "array([[0.25, 0.  , 0.  , 0.  ],\n",
       "       [0.  , 0.25, 0.  , 0.  ],\n",
       "       [0.  , 0.  , 0.25, 0.  ],\n",
       "       [0.  , 0.  , 0.  , 0.25]])"
      ]
     },
     "execution_count": 10,
     "metadata": {},
     "output_type": "execute_result"
    }
   ],
   "source": [
    "qnodes[0].metric_tensor([initial_params], diag_approx=True)"
   ]
  },
  {
   "cell_type": "code",
   "execution_count": 11,
   "metadata": {},
   "outputs": [
    {
     "name": "stdout",
     "output_type": "stream",
     "text": [
      "Iteration = 0,  Energy = -0.74899316 Ha,  Convergence parameter = 0.19210451 Ha\n",
      "Iteration = 10,  Energy = -0.81985708 Ha,  Convergence parameter = 0.00239982 Ha\n",
      "Iteration = 20,  Energy = -0.82460153 Ha,  Convergence parameter = 0.00001638 Ha\n",
      "\n",
      "Final convergence parameter = 0.00000077 Ha\n",
      "Final value of the ground-state energy = -0.82462023 Ha\n",
      "\n",
      "Final circuit parameters = \n",
      " [-0.37439158  0.85019728  3.42758104  2.25615663]\n",
      "Number of iterations =  25\n"
     ]
    }
   ],
   "source": [
    "params = initial_params\n",
    "prev_energy = energy_expval(params)\n",
    "qngd_energies_diag = [prev_energy]\n",
    "\n",
    "for n in range(max_iterations):\n",
    "    \n",
    "    grad_cost = qml.grad(energy_expval, argnum=[0])\n",
    "    grad_at_point = [float(i) for i in grad_cost(params)[0]] \n",
    "    \n",
    "    params = params - step_size * np.dot(np.linalg.pinv(qnodes[0].metric_tensor([params], diag_approx=True)),\n",
    "                                         grad_at_point)\n",
    "\n",
    "    energy = energy_expval(params)\n",
    "    qngd_energies_diag.append(energy)\n",
    "    \n",
    "    conv = np.abs(energy - prev_energy)\n",
    "\n",
    "    if n % print_freq == 0:\n",
    "        print('Iteration = {:},  Energy = {:.8f} Ha,  Convergence parameter = {'\n",
    "              ':.8f} Ha'.format(n, energy, conv))\n",
    "\n",
    "    if conv <= conv_tol:\n",
    "        qngd_diag_nsteps = n\n",
    "        break\n",
    "\n",
    "    prev_energy = energy\n",
    "\n",
    "print()\n",
    "print('Final convergence parameter = {:.8f} Ha'.format(conv))\n",
    "print('Final value of the ground-state energy = {:.8f} Ha'.format(energy))\n",
    "print()\n",
    "print('Final circuit parameters = \\n', params)\n",
    "print('Number of iterations = ', qngd_diag_nsteps)"
   ]
  },
  {
   "cell_type": "code",
   "execution_count": null,
   "metadata": {},
   "outputs": [],
   "source": []
  },
  {
   "cell_type": "code",
   "execution_count": 12,
   "metadata": {},
   "outputs": [],
   "source": [
    "def compute_metric_tensor(p):\n",
    "    metric = np.array([[0.25, 0, 0.25*np.sin(p[1]), 0],\n",
    "                       [0, 0.25, 0, 0.25*np.cos(params[0])],\n",
    "                       [0.25*np.sin(p[1]), 0, 0.25, -0.25*np.cos(p[1])*np.sin(p[0])],\n",
    "                       [0, 0.25*np.cos(p[0]), -0.25*np.cos(p[1])*np.sin(p[0]), 0.25]])\n",
    "    return metric"
   ]
  },
  {
   "cell_type": "code",
   "execution_count": 13,
   "metadata": {},
   "outputs": [
    {
     "data": {
      "text/plain": [
       "array([[ 0.25      ,  0.        ,  0.16355695,  0.        ],\n",
       "       [ 0.        ,  0.25      ,  0.        ,  0.23268257],\n",
       "       [ 0.16355695,  0.        ,  0.25      , -0.13540187],\n",
       "       [ 0.        ,  0.17449169, -0.13540187,  0.25      ]])"
      ]
     },
     "execution_count": 13,
     "metadata": {},
     "output_type": "execute_result"
    }
   ],
   "source": [
    "compute_metric_tensor(initial_params)"
   ]
  },
  {
   "cell_type": "code",
   "execution_count": 14,
   "metadata": {},
   "outputs": [
    {
     "name": "stdout",
     "output_type": "stream",
     "text": [
      "Iteration = 0,  Energy = -0.78496173 Ha,  Convergence parameter = 0.22807308 Ha\n",
      "Iteration = 10,  Energy = -0.82461897 Ha,  Convergence parameter = 0.00000336 Ha\n",
      "\n",
      "Final convergence parameter = 0.00000051 Ha\n",
      "Final value of the ground-state energy = -0.82462080 Ha\n",
      "\n",
      "Final circuit parameters = \n",
      " [-0.57097593  1.10541653  3.66152038  1.97173747]\n",
      "Number of iterations =  12\n"
     ]
    }
   ],
   "source": [
    "params = initial_params\n",
    "prev_energy = energy_expval(params)\n",
    "qngd_energies_exact = [prev_energy]\n",
    "\n",
    "for n in range(max_iterations):\n",
    "    \n",
    "    grad_cost = qml.grad(energy_expval, argnum=[0])\n",
    "    grad_at_point = [float(i) for i in grad_cost(params)[0]] \n",
    "    \n",
    "    params = params - step_size * np.dot(np.linalg.pinv(compute_metric_tensor(params)),\n",
    "                                         grad_at_point)\n",
    "\n",
    "    energy = energy_expval(params)\n",
    "    qngd_energies_exact.append(energy)\n",
    "    \n",
    "    conv = np.abs(energy - prev_energy)\n",
    "\n",
    "    if n % print_freq == 0:\n",
    "        print('Iteration = {:},  Energy = {:.8f} Ha,  Convergence parameter = {'\n",
    "              ':.8f} Ha'.format(n, energy, conv))\n",
    "\n",
    "    if conv <= conv_tol:\n",
    "        qngd_exact_nsteps = n\n",
    "        break\n",
    "\n",
    "    prev_energy = energy\n",
    "\n",
    "print()\n",
    "print('Final convergence parameter = {:.8f} Ha'.format(conv))\n",
    "print('Final value of the ground-state energy = {:.8f} Ha'.format(energy))\n",
    "print()\n",
    "print('Final circuit parameters = \\n', params)\n",
    "print('Number of iterations = ', qngd_exact_nsteps)"
   ]
  },
  {
   "cell_type": "code",
   "execution_count": null,
   "metadata": {},
   "outputs": [],
   "source": []
  },
  {
   "cell_type": "markdown",
   "metadata": {},
   "source": [
    "Try plotting the results."
   ]
  },
  {
   "cell_type": "code",
   "execution_count": 15,
   "metadata": {},
   "outputs": [],
   "source": [
    "exact_energy = -np.sqrt(4*alpha**2 + beta**2)"
   ]
  },
  {
   "cell_type": "code",
   "execution_count": 16,
   "metadata": {},
   "outputs": [
    {
     "data": {
      "image/png": "[encoded data removed]",
      "text/plain": [
       "<Figure size 576x396 with 1 Axes>"
      ]
     },
     "metadata": {},
     "output_type": "display_data"
    }
   ],
   "source": [
    "plt.style.use(\"seaborn\")\n",
    "fig = plt.figure()\n",
    "plt.plot(gd_energies, \"b\", label=\"Vanilla gradient descent\")\n",
    "plt.plot(qngd_energies_block_diag, \"g\", label=\"QNG descent, block-diag\")\n",
    "plt.plot(qngd_energies_diag, \"k\", label=\"QNG descent, diag\")\n",
    "plt.plot(qngd_energies_exact, \"m\", label=\"QNG descent, exact\")\n",
    "\n",
    "plt.axhline(y=exact_energy, color='r', linestyle='--')\n",
    "\n",
    "plt.xticks(fontsize=14)\n",
    "plt.yticks(fontsize=14)\n",
    "\n",
    "plt.ylabel(\"Energy\", fontsize=18)\n",
    "plt.xlabel(\"Optimization steps\", fontsize=18)\n",
    "plt.legend(fontsize=16)\n",
    "\n",
    "plt.tight_layout()"
   ]
  },
  {
   "cell_type": "code",
   "execution_count": 17,
   "metadata": {},
   "outputs": [
    {
     "name": "stdout",
     "output_type": "stream",
     "text": [
      "N steps\n",
      "=======\n",
      "\n",
      "Vanilla GD.      : 93\n",
      "QNGD, block-diag : 29\n",
      "QNGD, diag       : 25\n",
      "QNGD, exact      : 12\n"
     ]
    }
   ],
   "source": [
    "print('N steps')\n",
    "print('=======\\n')\n",
    "\n",
    "print('Vanilla GD.      : {0:d}'.format(gd_nsteps))\n",
    "print('QNGD, block-diag : {0:d}'.format(qngd_block_diag_nsteps))\n",
    "print('QNGD, diag       : {0:d}'.format(qngd_diag_nsteps))\n",
    "print('QNGD, exact      : {0:d}'.format(qngd_exact_nsteps))"
   ]
  },
  {
   "cell_type": "markdown",
   "metadata": {},
   "source": [
    "Convergence looks good! How about energy error?"
   ]
  },
  {
   "cell_type": "code",
   "execution_count": 18,
   "metadata": {},
   "outputs": [
    {
     "name": "stdout",
     "output_type": "stream",
     "text": [
      "Energy error\n",
      "============\n",
      "\n",
      "Vanilla GD.      : 0.0000063744\n",
      "QNGD, block-diag : 0.0000010927\n",
      "QNGD, diag       : 0.0000008981\n",
      "QNGD, exact      : 0.0000003297\n"
     ]
    }
   ],
   "source": [
    "print('Energy error')\n",
    "print('============\\n')\n",
    "\n",
    "print('Vanilla GD.      : {0:.10f}'.format(np.min(gd_energies) - exact_energy))\n",
    "print('QNGD, block-diag : {0:.10f}'.format(np.min(qngd_energies_block_diag) - exact_energy))\n",
    "print('QNGD, diag       : {0:.10f}'.format(np.min(qngd_energies_diag) - exact_energy))\n",
    "print('QNGD, exact      : {0:.10f}'.format(np.min(qngd_energies_exact) - exact_energy))"
   ]
  },
  {
   "cell_type": "code",
   "execution_count": null,
   "metadata": {},
   "outputs": [],
   "source": []
  },
  {
   "cell_type": "code",
   "execution_count": null,
   "metadata": {},
   "outputs": [],
   "source": []
  }
 ],
 "metadata": {
  "kernelspec": {
   "display_name": "Python 3",
   "language": "python",
   "name": "python3"
  },
  "language_info": {
   "codemirror_mode": {
    "name": "ipython",
    "version": 3
   },
   "file_extension": ".py",
   "mimetype": "text/x-python",
   "name": "python",
   "nbconvert_exporter": "python",
   "pygments_lexer": "ipython3",
   "version": "3.7.5"
  }
 },
 "nbformat": 4,
 "nbformat_minor": 2
}
