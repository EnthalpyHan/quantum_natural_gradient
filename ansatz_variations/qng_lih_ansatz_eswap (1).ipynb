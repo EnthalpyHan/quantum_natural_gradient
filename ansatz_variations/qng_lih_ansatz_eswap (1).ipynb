{
  "nbformat": 4,
  "nbformat_minor": 0,
  "metadata": {
    "colab": {
      "name": "qng_lih_ansatz_eswap",
      "provenance": []
    },
    "kernelspec": {
      "name": "python3",
      "display_name": "Python 3"
    }
  },
  "cells": [
    {
      "cell_type": "code",
      "metadata": {
        "id": "iVNuUjLrrlrK",
        "colab_type": "code",
        "outputId": "ac0d3638-d4a3-47f9-911a-825d14c1c677",
        "colab": {
          "base_uri": "https://localhost:8080/",
          "height": 539
        }
      },
      "source": [
        "!pip install pennylane-qchem"
      ],
      "execution_count": 0,
      "outputs": [
        {
          "output_type": "stream",
          "text": [
            "Requirement already satisfied: pennylane-qchem in /usr/local/lib/python3.6/dist-packages (0.8.0)\n",
            "Requirement already satisfied: openfermionpyscf in /usr/local/lib/python3.6/dist-packages (from pennylane-qchem) (0.4)\n",
            "Requirement already satisfied: pennylane in /usr/local/lib/python3.6/dist-packages (from pennylane-qchem) (0.8.1)\n",
            "Requirement already satisfied: openfermion in /usr/local/lib/python3.6/dist-packages (from pennylane-qchem) (0.11.0)\n",
            "Requirement already satisfied: openfermionpsi4 in /usr/local/lib/python3.6/dist-packages (from pennylane-qchem) (0.4)\n",
            "Requirement already satisfied: pyscf in /usr/local/lib/python3.6/dist-packages (from openfermionpyscf->pennylane-qchem) (1.7.1)\n",
            "Requirement already satisfied: pytest in /usr/local/lib/python3.6/dist-packages (from openfermionpyscf->pennylane-qchem) (3.6.4)\n",
            "Requirement already satisfied: toml in /usr/local/lib/python3.6/dist-packages (from pennylane->pennylane-qchem) (0.10.0)\n",
            "Requirement already satisfied: scipy in /usr/local/lib/python3.6/dist-packages (from pennylane->pennylane-qchem) (1.4.1)\n",
            "Requirement already satisfied: autograd in /usr/local/lib/python3.6/dist-packages (from pennylane->pennylane-qchem) (1.3)\n",
            "Requirement already satisfied: numpy in /usr/local/lib/python3.6/dist-packages (from pennylane->pennylane-qchem) (1.18.2)\n",
            "Requirement already satisfied: semantic-version==2.6 in /usr/local/lib/python3.6/dist-packages (from pennylane->pennylane-qchem) (2.6.0)\n",
            "Requirement already satisfied: networkx in /usr/local/lib/python3.6/dist-packages (from pennylane->pennylane-qchem) (2.4)\n",
            "Requirement already satisfied: appdirs in /usr/local/lib/python3.6/dist-packages (from pennylane->pennylane-qchem) (1.4.3)\n",
            "Requirement already satisfied: pubchempy in /usr/local/lib/python3.6/dist-packages (from openfermion->pennylane-qchem) (1.0.4)\n",
            "Requirement already satisfied: h5py>=2.8 in /usr/local/lib/python3.6/dist-packages (from openfermion->pennylane-qchem) (2.10.0)\n",
            "Requirement already satisfied: requests~=2.18 in /usr/local/lib/python3.6/dist-packages (from openfermion->pennylane-qchem) (2.21.0)\n",
            "Requirement already satisfied: more-itertools>=4.0.0 in /usr/local/lib/python3.6/dist-packages (from pytest->openfermionpyscf->pennylane-qchem) (8.2.0)\n",
            "Requirement already satisfied: atomicwrites>=1.0 in /usr/local/lib/python3.6/dist-packages (from pytest->openfermionpyscf->pennylane-qchem) (1.3.0)\n",
            "Requirement already satisfied: setuptools in /usr/local/lib/python3.6/dist-packages (from pytest->openfermionpyscf->pennylane-qchem) (46.1.3)\n",
            "Requirement already satisfied: pluggy<0.8,>=0.5 in /usr/local/lib/python3.6/dist-packages (from pytest->openfermionpyscf->pennylane-qchem) (0.7.1)\n",
            "Requirement already satisfied: attrs>=17.4.0 in /usr/local/lib/python3.6/dist-packages (from pytest->openfermionpyscf->pennylane-qchem) (19.3.0)\n",
            "Requirement already satisfied: py>=1.5.0 in /usr/local/lib/python3.6/dist-packages (from pytest->openfermionpyscf->pennylane-qchem) (1.8.1)\n",
            "Requirement already satisfied: six>=1.10.0 in /usr/local/lib/python3.6/dist-packages (from pytest->openfermionpyscf->pennylane-qchem) (1.12.0)\n",
            "Requirement already satisfied: future>=0.15.2 in /usr/local/lib/python3.6/dist-packages (from autograd->pennylane->pennylane-qchem) (0.16.0)\n",
            "Requirement already satisfied: decorator>=4.3.0 in /usr/local/lib/python3.6/dist-packages (from networkx->pennylane->pennylane-qchem) (4.4.2)\n",
            "Requirement already satisfied: certifi>=2017.4.17 in /usr/local/lib/python3.6/dist-packages (from requests~=2.18->openfermion->pennylane-qchem) (2020.4.5.1)\n",
            "Requirement already satisfied: chardet<3.1.0,>=3.0.2 in /usr/local/lib/python3.6/dist-packages (from requests~=2.18->openfermion->pennylane-qchem) (3.0.4)\n",
            "Requirement already satisfied: idna<2.9,>=2.5 in /usr/local/lib/python3.6/dist-packages (from requests~=2.18->openfermion->pennylane-qchem) (2.8)\n",
            "Requirement already satisfied: urllib3<1.25,>=1.21.1 in /usr/local/lib/python3.6/dist-packages (from requests~=2.18->openfermion->pennylane-qchem) (1.24.3)\n"
          ],
          "name": "stdout"
        }
      ]
    },
    {
      "cell_type": "code",
      "metadata": {
        "id": "rxYRFx7XshW4",
        "colab_type": "code",
        "colab": {}
      },
      "source": [
        "import numpy as np\n",
        "import pennylane as qml\n",
        "from pennylane import expval, var, device"
      ],
      "execution_count": 0,
      "outputs": []
    },
    {
      "cell_type": "code",
      "metadata": {
        "id": "czN65gjIsnsX",
        "colab_type": "code",
        "outputId": "ca684e37-9e49-4372-8593-da0dec660a05",
        "colab": {
          "base_uri": "https://localhost:8080/",
          "height": 34
        }
      },
      "source": [
        "name ='LiH';charge = 0; multiplicity=1; basis= 'sto-3g'; geometry = 'lih.xyz';\n",
        "h, nr_qubits = qml.qchem.generate_hamiltonian(\n",
        "    name,\n",
        "    geometry,\n",
        "    charge,\n",
        "    multiplicity,\n",
        "    basis,\n",
        "    mapping='jordan_wigner',\n",
        "    n_active_orbitals=3,\n",
        "    n_active_electrons=2,\n",
        ")\n",
        "print(nr_qubits)"
      ],
      "execution_count": 0,
      "outputs": [
        {
          "output_type": "stream",
          "text": [
            "6\n"
          ],
          "name": "stdout"
        }
      ]
    },
    {
      "cell_type": "code",
      "metadata": {
        "id": "7BxgnYedYZwn",
        "colab_type": "code",
        "colab": {}
      },
      "source": [
        "pi = np.pi\n",
        "cos = np.cos\n",
        "sin = np.sin\n",
        "exp = np.exp\n",
        "\n",
        "class eSWAP(qml.operation.Operation):\n",
        "    num_params = 1\n",
        "    num_wires = 2\n",
        "    par_domain = \"R\"\n",
        "    grad_method = \"A\"\n",
        "    \n",
        "    @staticmethod\n",
        "    def _matrix(*params):\n",
        "        \"\"\"Returns the matrix representation of the operator for the\n",
        "        provided parameter values, in the computational basis.\"\"\"\n",
        "        return np.array([[exp(-1j * (params[0]/2)), 0, 0, 0],\n",
        "                         [0, cos(params[0]/ 2), -1j*sin(params[0]/ 2), 0],\n",
        "                         [0, -1j*sin(params[0]/ 2), cos(params[0]/ 2), 0],\n",
        "                         [0, 0, 0, exp(-1j*(params[0]/ 2))]])\n"
      ],
      "execution_count": 0,
      "outputs": []
    },
    {
      "cell_type": "code",
      "metadata": {
        "id": "yq7ts9u1ZQyW",
        "colab_type": "code",
        "colab": {}
      },
      "source": [
        "dev = qml.device(\"default.qubit\", wires=6)\n",
        "dev.operations.update({\"eSWAP\"})\n",
        "\n",
        "def circuit(params, wires=[0,1,2,3,4,5]):\n",
        "    qml.Hadamard(wires=wires[0])\n",
        "    qml.Hadamard(wires=wires[2])\n",
        "    qml.Hadamard(wires=wires[4])\n",
        "\n",
        "    qml.CNOT(wires=[wires[1], wires[0]])\n",
        "    qml.CNOT(wires=[wires[3], wires[2]])\n",
        "    qml.CNOT(wires=[wires[5], wires[4]])\n",
        "\n",
        "    eSWAP(params[0], wires=[wires[1], wires[2]])\n",
        "    eSWAP(params[0], wires=[wires[3], wires[4]])\n",
        "    eSWAP(params[0], wires=[wires[0], wires[5]])\n",
        "    eSWAP(params[0], wires=[wires[0], wires[1]])\n",
        "    eSWAP(params[0], wires=[wires[2], wires[3]])\n",
        "    eSWAP(params[0], wires=[wires[4], wires[5]])\n",
        "\n",
        "    qml.SWAP(wires=[wires[5], wires[4]])\n",
        "    qml.SWAP(wires=[wires[4], wires[3]])\n",
        "    qml.SWAP(wires=[wires[3], wires[2]])\n",
        "    qml.SWAP(wires=[wires[2], wires[1]])\n",
        "    qml.SWAP(wires=[wires[1], wires[0]])"
      ],
      "execution_count": 0,
      "outputs": []
    },
    {
      "cell_type": "code",
      "metadata": {
        "id": "BxnmYxnGZZV0",
        "colab_type": "code",
        "outputId": "0d7e01ca-5aae-4fe3-a816-a0464dda3352",
        "colab": {
          "base_uri": "https://localhost:8080/",
          "height": 34
        }
      },
      "source": [
        "initial_params = np.random.uniform(0, 2*np.pi, 1)\n",
        "\n",
        "qnodes = qml.map(circuit, h.ops, dev, measure='expval')\n",
        "expval = qml.dot([h.coeffs], qnodes)"
      ],
      "execution_count": 0,
      "outputs": [
        {
          "output_type": "stream",
          "text": [
            "[1.01949236]\n"
          ],
          "name": "stdout"
        }
      ]
    },
    {
      "cell_type": "code",
      "metadata": {
        "id": "1ZdeOqirZeuO",
        "colab_type": "code",
        "outputId": "95f02e50-af65-44cb-ac3b-e26afad7bf68",
        "colab": {
          "base_uri": "https://localhost:8080/",
          "height": 34
        }
      },
      "source": [
        "expval(initial_params)"
      ],
      "execution_count": 0,
      "outputs": [
        {
          "output_type": "execute_result",
          "data": {
            "text/plain": [
              "array([-7.23048737])"
            ]
          },
          "metadata": {
            "tags": []
          },
          "execution_count": 14
        }
      ]
    },
    {
      "cell_type": "code",
      "metadata": {
        "id": "D_PnxtNZbBBw",
        "colab_type": "code",
        "outputId": "96353b86-f18f-4cca-9f8b-96b0613f715b",
        "colab": {
          "base_uri": "https://localhost:8080/",
          "height": 328
        }
      },
      "source": [
        ""
      ],
      "execution_count": 0,
      "outputs": [
        {
          "output_type": "error",
          "ename": "QuantumFunctionError",
          "evalue": "ignored",
          "traceback": [
            "\u001b[0;31m---------------------------------------------------------------------------\u001b[0m",
            "\u001b[0;31mQuantumFunctionError\u001b[0m                      Traceback (most recent call last)",
            "\u001b[0;32m<ipython-input-17-47bde2ee0743>\u001b[0m in \u001b[0;36m<module>\u001b[0;34m()\u001b[0m\n\u001b[1;32m      1\u001b[0m \u001b[0mparams\u001b[0m \u001b[0;34m=\u001b[0m \u001b[0minitial_params\u001b[0m\u001b[0;34m\u001b[0m\u001b[0;34m\u001b[0m\u001b[0m\n\u001b[0;32m----> 2\u001b[0;31m \u001b[0mfb_metric\u001b[0m \u001b[0;34m=\u001b[0m \u001b[0;34m(\u001b[0m\u001b[0mqnodes\u001b[0m\u001b[0;34m[\u001b[0m\u001b[0;36m0\u001b[0m\u001b[0;34m]\u001b[0m\u001b[0;34m.\u001b[0m\u001b[0mmetric_tensor\u001b[0m\u001b[0;34m(\u001b[0m\u001b[0;34m[\u001b[0m\u001b[0mparams\u001b[0m\u001b[0;34m]\u001b[0m\u001b[0;34m)\u001b[0m\u001b[0;34m)\u001b[0m\u001b[0;34m\u001b[0m\u001b[0;34m\u001b[0m\u001b[0m\n\u001b[0m",
            "\u001b[0;32m/usr/local/lib/python3.6/dist-packages/pennylane/qnodes/qubit.py\u001b[0m in \u001b[0;36mmetric_tensor\u001b[0;34m(self, args, kwargs, diag_approx, only_construct)\u001b[0m\n\u001b[1;32m    345\u001b[0m \u001b[0;34m\u001b[0m\u001b[0m\n\u001b[1;32m    346\u001b[0m         \u001b[0;32mif\u001b[0m \u001b[0mself\u001b[0m\u001b[0;34m.\u001b[0m\u001b[0m_metric_tensor_subcircuits\u001b[0m \u001b[0;32mis\u001b[0m \u001b[0;32mNone\u001b[0m\u001b[0;34m:\u001b[0m\u001b[0;34m\u001b[0m\u001b[0;34m\u001b[0m\u001b[0m\n\u001b[0;32m--> 347\u001b[0;31m             \u001b[0mself\u001b[0m\u001b[0;34m.\u001b[0m\u001b[0m_construct_metric_tensor\u001b[0m\u001b[0;34m(\u001b[0m\u001b[0mdiag_approx\u001b[0m\u001b[0;34m=\u001b[0m\u001b[0mdiag_approx\u001b[0m\u001b[0;34m)\u001b[0m\u001b[0;34m\u001b[0m\u001b[0;34m\u001b[0m\u001b[0m\n\u001b[0m\u001b[1;32m    348\u001b[0m \u001b[0;34m\u001b[0m\u001b[0m\n\u001b[1;32m    349\u001b[0m         \u001b[0;32mif\u001b[0m \u001b[0monly_construct\u001b[0m\u001b[0;34m:\u001b[0m\u001b[0;34m\u001b[0m\u001b[0;34m\u001b[0m\u001b[0m\n",
            "\u001b[0;32m/usr/local/lib/python3.6/dist-packages/pennylane/qnodes/qubit.py\u001b[0m in \u001b[0;36m_construct_metric_tensor\u001b[0;34m(self, diag_approx)\u001b[0m\n\u001b[1;32m    249\u001b[0m                     raise QuantumFunctionError(\n\u001b[1;32m    250\u001b[0m                         \u001b[0;34m\"Can't generate metric tensor, operation {}\"\u001b[0m\u001b[0;34m\u001b[0m\u001b[0;34m\u001b[0m\u001b[0m\n\u001b[0;32m--> 251\u001b[0;31m                         \u001b[0;34m\"has no defined generator\"\u001b[0m\u001b[0;34m.\u001b[0m\u001b[0mformat\u001b[0m\u001b[0;34m(\u001b[0m\u001b[0mop\u001b[0m\u001b[0;34m)\u001b[0m\u001b[0;34m\u001b[0m\u001b[0;34m\u001b[0m\u001b[0m\n\u001b[0m\u001b[1;32m    252\u001b[0m                     )\n\u001b[1;32m    253\u001b[0m \u001b[0;34m\u001b[0m\u001b[0m\n",
            "\u001b[0;31mQuantumFunctionError\u001b[0m: Can't generate metric tensor, operation eSWAP: 1 params, wires [1, 2]has no defined generator"
          ]
        }
      ]
    }
  ]
}