{
 "cells": [
  {
   "cell_type": "code",
   "execution_count": null,
   "metadata": {},
   "outputs": [],
   "source": [
    "# Import all necessary packages #\n",
    "\n",
    "import pennylane as qml\n",
    "from pennylane.qnodes import PassthruQNode\n",
    "\n",
    "import scipy as sp\n",
    "\n",
    "%matplotlib inline\n",
    "import matplotlib.pyplot as plt\n",
    "import matplotlib.cm as cm\n",
    "import matplotlib as mpl\n",
    "import numpy as np\n",
    "\n",
    "import qutip as qt\n",
    "from qutip import Bloch, basis"
   ]
  },
  {
   "cell_type": "code",
   "execution_count": null,
   "metadata": {},
   "outputs": [],
   "source": [
    "# Import python modules from vqe_function_states #\n",
    "\n",
    "from vqe_function_states import init_cost_fn, run_vqe"
   ]
  },
  {
   "cell_type": "code",
   "execution_count": null,
   "metadata": {},
   "outputs": [],
   "source": [
    "dev_1 = qml.device(\"default.qubit\", wires = 1)\n",
    "\n",
    "def circuit(params, wires=0):\n",
    "    qml.RX(params[0], wires=wires)\n",
    "    qml.RY(params[1], wires=wires)"
   ]
  },
  {
   "cell_type": "code",
   "execution_count": null,
   "metadata": {},
   "outputs": [],
   "source": [
    "# Instantiate the cost function #\n",
    "\n",
    "cost_function = init_cost_fn(dev = dev_1,\n",
    "                             circuit = circuit, \n",
    "                             coeffs = [1,1],\n",
    "                             obs = [qml.PauliX(0), qml.PauliZ(0)])"
   ]
  },
  {
   "cell_type": "code",
   "execution_count": null,
   "metadata": {},
   "outputs": [],
   "source": [
    "init_params = np.array([3.97507603, 3.00854038])    "
   ]
  },
  {
   "cell_type": "code",
   "execution_count": null,
   "metadata": {},
   "outputs": [],
   "source": [
    "# Run VQE iteration for quantum natural gradient descent #\n",
    "\n",
    "qngd_cost_history, qngd_param_history, qngd_state_history, qngd_steps = run_vqe(cost_fn=cost_function,\n",
    "                                                                                max_iter=500,\n",
    "                                                                                initial_params=init_params,\n",
    "                                                                                opt='QNGOptimizer',\n",
    "                                                                                opt_step=0.01,\n",
    "                                                                                dev = dev_1,\n",
    "                                                                                diag_approx=True)"
   ]
  },
  {
   "cell_type": "code",
   "execution_count": null,
   "metadata": {
    "scrolled": true
   },
   "outputs": [],
   "source": [
    "# Run VQE iteration for gradient descent #\n",
    "\n",
    "gd_cost_history, gd_param_history, gd_state_history, gd_steps = run_vqe(cost_fn=cost_function,\n",
    "                                                                        max_iter=500,\n",
    "                                                                        initial_params=init_params,\n",
    "                                                                        opt='GradientDescentOptimizer',\n",
    "                                                                        opt_step=0.01,\n",
    "                                                                        dev = dev_1,\n",
    "                                                                        diag_approx=False)"
   ]
  },
  {
   "cell_type": "code",
   "execution_count": null,
   "metadata": {},
   "outputs": [],
   "source": [
    "# Track energy history for both optimization methods #\n",
    "\n",
    "plt.style.use(\"seaborn\")\n",
    "plt.plot(gd_cost_history, \"b\", label=\"Gradient descent\")\n",
    "plt.plot(qngd_cost_history, \"g\", label=\"Quantum natural gradient descent\")\n",
    "\n",
    "plt.ylabel(\"Cost function value\")\n",
    "plt.xlabel(\"Optimization steps\")\n",
    "plt.legend()\n",
    "plt.show()"
   ]
  },
  {
   "cell_type": "code",
   "execution_count": null,
   "metadata": {},
   "outputs": [],
   "source": [
    "# Import python modules from visualization_function #\n",
    "\n",
    "from visualization_function import plot_params, prepare_plot_states, plot_bloch_sphere"
   ]
  },
  {
   "cell_type": "code",
   "execution_count": null,
   "metadata": {},
   "outputs": [],
   "source": [
    "# Visualize the optimization path in the parameter space using a contour plot #\n",
    "\n",
    "plot_params(gd_param_history=gd_param_history,\n",
    "            qngd_param_history=qngd_param_history,\n",
    "            plot_interval=10,\n",
    "            figsize=[6,6],\n",
    "            linewidth=1)"
   ]
  },
  {
   "cell_type": "code",
   "execution_count": null,
   "metadata": {},
   "outputs": [],
   "source": [
    "# Convert statevectors into coordinates for plotting on the bloch sphere #\n",
    "\n",
    "qngd_x, qngd_y, qngd_z = prepare_plot_states(state_history=qngd_state_history)\n",
    "gd_x, gd_y, gd_z = prepare_plot_states(state_history=gd_state_history)"
   ]
  },
  {
   "cell_type": "code",
   "execution_count": null,
   "metadata": {},
   "outputs": [],
   "source": [
    "# Plot quantum natural gradient descent optimization path on the bloch sphere #\n",
    "\n",
    "plot_bloch_sphere(opt_coords_x=qngd_x, \n",
    "                  opt_coords_y=qngd_y, \n",
    "                  opt_coords_z=qngd_z, \n",
    "                  plot_interval = 10, \n",
    "                  plot_color = 'g'\n",
    "                  figsize = [8,8], \n",
    "                  pointsize = 20)"
   ]
  },
  {
   "cell_type": "code",
   "execution_count": null,
   "metadata": {},
   "outputs": [],
   "source": [
    "# Plot vanilla gradient descent optimization path on the bloch sphere #\n",
    "\n",
    "plot_bloch_sphere(opt_coords_x=gd_x, \n",
    "                  opt_coords_y=gd_y, \n",
    "                  opt_coords_z=gd_z, \n",
    "                  plot_interval = 10, \n",
    "                  plot_interval= 'k'\n",
    "                  figsize = [8,8], \n",
    "                  pointsize = 20)"
   ]
  }
 ],
 "metadata": {
  "kernelspec": {
   "display_name": "Python 3",
   "language": "python",
   "name": "python3"
  },
  "language_info": {
   "codemirror_mode": {
    "name": "ipython",
    "version": 3
   },
   "file_extension": ".py",
   "mimetype": "text/x-python",
   "name": "python",
   "nbconvert_exporter": "python",
   "pygments_lexer": "ipython3",
   "version": "3.8.2"
  }
 },
 "nbformat": 4,
 "nbformat_minor": 4
}
