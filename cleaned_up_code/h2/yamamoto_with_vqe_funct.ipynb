{
 "cells": [
  {
   "cell_type": "code",
   "execution_count": 1,
   "metadata": {},
   "outputs": [],
   "source": [
    "#import packages\n",
    "import numpy as np\n",
    "import pennylane as qml\n",
    "from pennylane import Hamiltonian, VQECost\n",
    "from run_vqe import run_vqe"
   ]
  },
  {
   "cell_type": "code",
   "execution_count": 2,
   "metadata": {},
   "outputs": [],
   "source": [
    "dev = qml.device(\"default.qubit\", wires=2)\n",
    "\n",
    "#create ansatz \n",
    "def ansatz(params, wires):\n",
    "    \n",
    "    #parameterized layer 0\n",
    "    qml.RY(params[0], wires=0)\n",
    "    qml.RY(params[1], wires=1)\n",
    "    \n",
    "    #entanglement\n",
    "    qml.CNOT(wires=[0,1])\n",
    "    \n",
    "    #param layer 1\n",
    "    qml.RY(params[2], wires=0)\n",
    "    qml.RY(params[3], wires=1)\n"
   ]
  },
  {
   "cell_type": "code",
   "execution_count": 3,
   "metadata": {},
   "outputs": [],
   "source": [
    "alpha = 0.4\n",
    "beta = 0.2\n",
    "coeffs = [alpha, alpha, beta]\n",
    "\n",
    "#H2 hamiltonian from Yamamoto 2019\n",
    "obs_list = [\n",
    "    qml.PauliZ(0) @ qml.Identity(1),\n",
    "    qml.Identity(0) @ qml.PauliZ(1),\n",
    "    qml.PauliX(0) @ qml.PauliX(1)\n",
    "]\n",
    "\n",
    "#create qnodes\n",
    "ham = qml.Hamiltonian(coeffs, obs_list)\n",
    "\n",
    "#create cost function\n",
    "cost = VQECost(ansatz, ham, dev)\n",
    "\n",
    "init_params = np.array([-0.2,-0.2,0,0])\n",
    "max_iter = 200\n",
    "step_size = 0.05"
   ]
  },
  {
   "cell_type": "code",
   "execution_count": 4,
   "metadata": {},
   "outputs": [
    {
     "name": "stdout",
     "output_type": "stream",
     "text": [
      "Iteration = 0,  Ground-state energy = 0.70579155 Ha,  Convergence parameter = 0.03071341 Ha\n",
      "Iteration = 20,  Ground-state energy = -0.81912764 Ha,  Convergence parameter = 0.00201111 Ha\n",
      "Iteration = 40,  Ground-state energy = -0.82454651 Ha,  Convergence parameter = 0.00001366 Ha\n",
      "Iteration = 0,  Ground-state energy = 0.72935795 Ha,  Convergence parameter = 0.00714701 Ha\n",
      "Iteration = 20,  Ground-state energy = 0.41356031 Ha,  Convergence parameter = 0.02600043 Ha\n",
      "Iteration = 40,  Ground-state energy = -0.24865113 Ha,  Convergence parameter = 0.03199803 Ha\n",
      "Iteration = 60,  Ground-state energy = -0.65176630 Ha,  Convergence parameter = 0.01061696 Ha\n",
      "Iteration = 80,  Ground-state energy = -0.76504295 Ha,  Convergence parameter = 0.00290410 Ha\n",
      "Iteration = 100,  Ground-state energy = -0.79938512 Ha,  Convergence parameter = 0.00101500 Ha\n",
      "Iteration = 120,  Ground-state energy = -0.81246672 Ha,  Convergence parameter = 0.00042274 Ha\n",
      "Iteration = 140,  Ground-state energy = -0.81822309 Ha,  Convergence parameter = 0.00019724 Ha\n",
      "Iteration = 160,  Ground-state energy = -0.82102602 Ha,  Convergence parameter = 0.00010051 Ha\n",
      "Iteration = 180,  Ground-state energy = -0.82250425 Ha,  Convergence parameter = 0.00005491 Ha\n"
     ]
    }
   ],
   "source": [
    "qng_run = run_vqe(cost, max_iter, init_params, 'QNGOptimizer', step_size, diag_approx=False)\n",
    "vanilla_run = run_vqe(cost, max_iter, init_params, 'GradientDescentOptimizer', step_size)"
   ]
  },
  {
   "cell_type": "code",
   "execution_count": 20,
   "metadata": {},
   "outputs": [
    {
     "data": {
      "image/png": "[encoded data removed]",
      "text/plain": [
       "<Figure size 432x288 with 1 Axes>"
      ]
     },
     "metadata": {
      "needs_background": "light"
     },
     "output_type": "display_data"
    }
   ],
   "source": [
    "from matplotlib import pyplot as plt\n",
    "plt.plot(qng_run, \"black\", label=\"quantum natural gradient descent\")\n",
    "plt.plot(vanilla_run, \"pink\", label=\"vanilla natural gradient descent\")\n",
    "\n",
    "plt.ylabel(\"Energy\")\n",
    "plt.xlabel(\"Step\")\n",
    "plt.legend()\n",
    "plt.show()"
   ]
  },
  {
   "cell_type": "code",
   "execution_count": null,
   "metadata": {},
   "outputs": [],
   "source": []
  },
  {
   "cell_type": "code",
   "execution_count": 107,
   "metadata": {},
   "outputs": [],
   "source": []
  }
 ],
 "metadata": {
  "kernelspec": {
   "display_name": "Python 3",
   "language": "python",
   "name": "python3"
  },
  "language_info": {
   "codemirror_mode": {
    "name": "ipython",
    "version": 3
   },
   "file_extension": ".py",
   "mimetype": "text/x-python",
   "name": "python",
   "nbconvert_exporter": "python",
   "pygments_lexer": "ipython3",
   "version": "3.7.4"
  }
 },
 "nbformat": 4,
 "nbformat_minor": 2
}
