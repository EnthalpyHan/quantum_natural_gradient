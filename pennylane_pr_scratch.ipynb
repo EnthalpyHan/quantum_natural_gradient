{
 "cells": [
  {
   "cell_type": "markdown",
   "metadata": {},
   "source": [
    "# Scratch space for Pull Request (PR) to PennyLane"
   ]
  },
  {
   "cell_type": "code",
   "execution_count": 1,
   "metadata": {},
   "outputs": [],
   "source": [
    "%matplotlib inline\n",
    "from matplotlib import pyplot as plt\n",
    "import seaborn as sns\n",
    "\n",
    "import numpy as np\n",
    "\n",
    "import pennylane as qml\n",
    "from pennylane import expval"
   ]
  },
  {
   "cell_type": "code",
   "execution_count": 2,
   "metadata": {},
   "outputs": [
    {
     "name": "stdout",
     "output_type": "stream",
     "text": [
      "Name: PennyLane\n",
      "Version: 0.9.0.dev0\n",
      "Summary: PennyLane is a Python quantum machine learning library by Xanadu Inc.\n",
      "Home-page: https://github.com/XanaduAI/pennylane\n",
      "Author: None\n",
      "Author-email: None\n",
      "License: Apache License 2.0\n",
      "Location: /Users/hannahsim/repos/pennylane\n",
      "Requires: numpy, scipy, networkx, autograd, toml, appdirs, semantic-version\n",
      "Required-by: PennyLane-Qchem\n",
      "Platform info:           Darwin-18.6.0-x86_64-i386-64bit\n",
      "Python version:          3.7.5\n",
      "Numpy version:           1.17.2\n",
      "Scipy version:           1.2.1\n",
      "Installed devices:\n",
      "- default.gaussian (PennyLane-0.9.0.dev0)\n",
      "- default.qubit (PennyLane-0.9.0.dev0)\n",
      "- default.tensor (PennyLane-0.9.0.dev0)\n",
      "- default.tensor.tf (PennyLane-0.9.0.dev0)\n"
     ]
    }
   ],
   "source": [
    "qml.about()"
   ]
  },
  {
   "cell_type": "code",
   "execution_count": 3,
   "metadata": {},
   "outputs": [],
   "source": [
    "dev = qml.device(\"default.qubit\", wires=2)"
   ]
  },
  {
   "cell_type": "code",
   "execution_count": 23,
   "metadata": {},
   "outputs": [],
   "source": [
    "alpha = 0.4\n",
    "beta = 0.2\n",
    "\n",
    "coeffs = [alpha, alpha, beta]\n",
    "obs_list = [\n",
    "    qml.PauliZ(0) @ qml.Identity(1),\n",
    "    qml.Identity(0) @ qml.PauliZ(1),\n",
    "    qml.PauliX(0) @ qml.PauliX(1)\n",
    "]"
   ]
  },
  {
   "cell_type": "code",
   "execution_count": 17,
   "metadata": {},
   "outputs": [],
   "source": [
    "h = qml.Hamiltonian(coeffs=coeffs, observables=obs_list)"
   ]
  },
  {
   "cell_type": "code",
   "execution_count": 20,
   "metadata": {},
   "outputs": [
    {
     "data": {
      "text/plain": [
       "[Tensor(expval(PauliZ(wires=[0])), Identity(wires=[1])),\n",
       " Tensor(Identity(wires=[0]), expval(PauliZ(wires=[1]))),\n",
       " Tensor(PauliX(wires=[0]), PauliX(wires=[1]))]"
      ]
     },
     "execution_count": 20,
     "metadata": {},
     "output_type": "execute_result"
    }
   ],
   "source": [
    "h.ops"
   ]
  },
  {
   "cell_type": "code",
   "execution_count": 5,
   "metadata": {},
   "outputs": [],
   "source": [
    "def circuit(params, wires):\n",
    "    qml.RY(params[0], wires=wires[0])\n",
    "    qml.RY(params[1], wires=wires[1])\n",
    "    \n",
    "    qml.CNOT(wires=wires)\n",
    "    \n",
    "    qml.RY(params[2], wires=wires[0])\n",
    "    qml.RY(params[3], wires=wires[1])"
   ]
  },
  {
   "cell_type": "code",
   "execution_count": 24,
   "metadata": {},
   "outputs": [],
   "source": [
    "qnodes = qml.map(circuit, obs_list, dev, measure='expval')\n",
    "energy_expval = qml.dot([alpha, alpha, beta], qnodes)"
   ]
  },
  {
   "cell_type": "code",
   "execution_count": 7,
   "metadata": {},
   "outputs": [],
   "source": [
    "step_size = 0.3\n",
    "max_iterations = 200\n",
    "\n",
    "initial_params = np.random.uniform(low=0, high=2*np.pi, size=4).tolist()\n",
    "\n",
    "conv_tol = 1e-06\n",
    "\n",
    "print_freq = 10"
   ]
  },
  {
   "cell_type": "code",
   "execution_count": 10,
   "metadata": {},
   "outputs": [
    {
     "ename": "ValueError",
     "evalue": "Objective function must be encoded as a single QNode",
     "output_type": "error",
     "traceback": [
      "\u001b[0;31m---------------------------------------------------------------------------\u001b[0m",
      "\u001b[0;31mValueError\u001b[0m                                Traceback (most recent call last)",
      "\u001b[0;32m<ipython-input-10-408545fcee70>\u001b[0m in \u001b[0;36m<module>\u001b[0;34m\u001b[0m\n\u001b[1;32m      8\u001b[0m \u001b[0;34m\u001b[0m\u001b[0m\n\u001b[1;32m      9\u001b[0m     \u001b[0;31m# Take step\u001b[0m\u001b[0;34m\u001b[0m\u001b[0;34m\u001b[0m\u001b[0;34m\u001b[0m\u001b[0m\n\u001b[0;32m---> 10\u001b[0;31m     \u001b[0mparams\u001b[0m \u001b[0;34m=\u001b[0m \u001b[0mopt\u001b[0m\u001b[0;34m.\u001b[0m\u001b[0mstep\u001b[0m\u001b[0;34m(\u001b[0m\u001b[0menergy_expval\u001b[0m\u001b[0;34m,\u001b[0m \u001b[0mparams\u001b[0m\u001b[0;34m)\u001b[0m\u001b[0;34m\u001b[0m\u001b[0;34m\u001b[0m\u001b[0m\n\u001b[0m\u001b[1;32m     11\u001b[0m \u001b[0;34m\u001b[0m\u001b[0m\n\u001b[1;32m     12\u001b[0m     \u001b[0;31m# Compute energy\u001b[0m\u001b[0;34m\u001b[0m\u001b[0;34m\u001b[0m\u001b[0;34m\u001b[0m\u001b[0m\n",
      "\u001b[0;32m~/repos/pennylane/pennylane/optimize/qng.py\u001b[0m in \u001b[0;36mstep\u001b[0;34m(self, qnode, x, recompute_tensor)\u001b[0m\n\u001b[1;32m    130\u001b[0m                 \u001b[0mqnode\u001b[0m \u001b[0;34m=\u001b[0m \u001b[0mqnode\u001b[0m\u001b[0;34m[\u001b[0m\u001b[0;36m0\u001b[0m\u001b[0;34m]\u001b[0m\u001b[0;34m\u001b[0m\u001b[0;34m\u001b[0m\u001b[0m\n\u001b[1;32m    131\u001b[0m             \u001b[0;32melse\u001b[0m\u001b[0;34m:\u001b[0m\u001b[0;34m\u001b[0m\u001b[0;34m\u001b[0m\u001b[0m\n\u001b[0;32m--> 132\u001b[0;31m                 \u001b[0;32mraise\u001b[0m \u001b[0mValueError\u001b[0m\u001b[0;34m(\u001b[0m\u001b[0;34m\"Objective function must be encoded as a single QNode\"\u001b[0m\u001b[0;34m)\u001b[0m\u001b[0;34m\u001b[0m\u001b[0;34m\u001b[0m\u001b[0m\n\u001b[0m\u001b[1;32m    133\u001b[0m \u001b[0;34m\u001b[0m\u001b[0m\n\u001b[1;32m    134\u001b[0m         \u001b[0;32mif\u001b[0m \u001b[0mrecompute_tensor\u001b[0m \u001b[0;32mor\u001b[0m \u001b[0mself\u001b[0m\u001b[0;34m.\u001b[0m\u001b[0mmetric_tensor\u001b[0m \u001b[0;32mis\u001b[0m \u001b[0;32mNone\u001b[0m\u001b[0;34m:\u001b[0m\u001b[0;34m\u001b[0m\u001b[0;34m\u001b[0m\u001b[0m\n",
      "\u001b[0;31mValueError\u001b[0m: Objective function must be encoded as a single QNode"
     ]
    }
   ],
   "source": [
    "opt = qml.QNGOptimizer(stepsize=step_size, diag_approx=False, share_ansatz=True)\n",
    "\n",
    "params = initial_params\n",
    "prev_energy = energy_expval(params)\n",
    "ngd_energies = [prev_energy]\n",
    "\n",
    "for n in range(max_iterations):\n",
    "    \n",
    "    # Take step\n",
    "    params = opt.step(energy_expval, params)\n",
    "    \n",
    "    # Compute energy\n",
    "    energy = energy_expval(params)\n",
    "    ngd_energies.append(energy)\n",
    "    \n",
    "    # Compute difference wrt previous energy (to test termination criterion)\n",
    "    conv = np.abs(energy - prev_energy)\n",
    "\n",
    "    if n % print_freq == 0:\n",
    "        print('Iteration = {:},  Energy = {:.8f} Ha,  Convergence parameter = {'\n",
    "              ':.8f} Ha'.format(n, energy, conv))\n",
    "\n",
    "    if conv <= conv_tol:\n",
    "        ngd_nsteps = n\n",
    "        break\n",
    "\n",
    "    prev_energy = energy\n",
    "\n",
    "print()\n",
    "print('Final convergence parameter = {:.8f} Ha'.format(conv))\n",
    "print('Final value of the ground-state energy = {:.8f} Ha'.format(energy))\n",
    "print()\n",
    "print('Final circuit parameters = \\n', params)\n",
    "print('Number of iterations = ', ngd_nsteps)"
   ]
  },
  {
   "cell_type": "code",
   "execution_count": 13,
   "metadata": {},
   "outputs": [
    {
     "data": {
      "text/plain": [
       "function"
      ]
     },
     "execution_count": 13,
     "metadata": {},
     "output_type": "execute_result"
    }
   ],
   "source": [
    "type(energy_expval)"
   ]
  },
  {
   "cell_type": "code",
   "execution_count": null,
   "metadata": {},
   "outputs": [],
   "source": [
    "params = initial_params\n",
    "prev_energy = energy_expval(params)\n",
    "qngd_energies_block_diag = [prev_energy]\n",
    "\n",
    "for n in range(max_iterations):\n",
    "    \n",
    "    grad_cost = qml.grad(energy_expval, argnum=[0])\n",
    "    grad_at_point = [float(i) for i in grad_cost(params)[0]] \n",
    "    \n",
    "    params = params - step_size * np.dot(np.linalg.pinv(qnodes[0].metric_tensor([params])),\n",
    "                                         grad_at_point)\n",
    "\n",
    "    energy = energy_expval(params)\n",
    "    qngd_energies_block_diag.append(energy)\n",
    "    \n",
    "    conv = np.abs(energy - prev_energy)\n",
    "\n",
    "    if n % print_freq == 0:\n",
    "        print('Iteration = {:},  Energy = {:.8f} Ha,  Convergence parameter = {'\n",
    "              ':.8f} Ha'.format(n, energy, conv))\n",
    "\n",
    "    if conv <= conv_tol:\n",
    "        qngd_block_diag_nsteps = n\n",
    "        break\n",
    "\n",
    "    prev_energy = energy\n",
    "\n",
    "print()\n",
    "print('Final convergence parameter = {:.8f} Ha'.format(conv))\n",
    "print('Final value of the ground-state energy = {:.8f} Ha'.format(energy))\n",
    "print()\n",
    "print('Final circuit parameters = \\n', params)\n",
    "print('Number of iterations = ', qngd_block_diag_nsteps)"
   ]
  },
  {
   "cell_type": "code",
   "execution_count": null,
   "metadata": {},
   "outputs": [],
   "source": []
  },
  {
   "cell_type": "code",
   "execution_count": null,
   "metadata": {},
   "outputs": [],
   "source": []
  }
 ],
 "metadata": {
  "kernelspec": {
   "display_name": "Python 3",
   "language": "python",
   "name": "python3"
  },
  "language_info": {
   "codemirror_mode": {
    "name": "ipython",
    "version": 3
   },
   "file_extension": ".py",
   "mimetype": "text/x-python",
   "name": "python",
   "nbconvert_exporter": "python",
   "pygments_lexer": "ipython3",
   "version": "3.7.5"
  }
 },
 "nbformat": 4,
 "nbformat_minor": 2
}
