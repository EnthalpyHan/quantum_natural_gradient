{
 "cells": [
  {
   "cell_type": "markdown",
   "metadata": {},
   "source": [
    "## Exploring the Robustness of the QNG Optimizer"
   ]
  },
  {
   "cell_type": "markdown",
   "metadata": {},
   "source": [
    "From our previous examples we found that the QNG would always out-perform the vanilla gradient descent optimizer. However, we wanted to conduct an experiment in which we test out if this observation will always be the case. To do this, We ran 25 seperate VQE trials for each type of optimization method, using random inital parameters. This way, we can lead to a conclusion that regardless of parameter initialization, the QNG will always out-perform the vanilla gradient descent method."
   ]
  },
  {
   "cell_type": "code",
   "execution_count": 1,
   "metadata": {},
   "outputs": [],
   "source": [
    "from matplotlib import pyplot as plt\n",
    "import seaborn as sns\n",
    "import openfermion\n",
    "\n",
    "import numpy as np\n",
    "\n",
    "import pennylane as qml"
   ]
  },
  {
   "cell_type": "code",
   "execution_count": 2,
   "metadata": {},
   "outputs": [
    {
     "name": "stdout",
     "output_type": "stream",
     "text": [
      "Number of qubits =  4\n"
     ]
    }
   ],
   "source": [
    "#create our molecule using pennylane's qchem tools.\n",
    "name = 'h2'\n",
    "geometry = 'h2.xyz'\n",
    "charge = 0\n",
    "multiplicity = 1\n",
    "basis_set = 'sto-3g'\n",
    "\n",
    "hamiltonian, nr_qubits = qml.qchem.generate_hamiltonian(\n",
    "    name,\n",
    "    geometry,\n",
    "    charge,\n",
    "    multiplicity,\n",
    "    basis_set,\n",
    "    n_active_electrons=2,\n",
    "    n_active_orbitals=2,\n",
    "    mapping='jordan_wigner'\n",
    ")\n",
    "\n",
    "print('Number of qubits = ', nr_qubits)"
   ]
  },
  {
   "cell_type": "code",
   "execution_count": 3,
   "metadata": {},
   "outputs": [],
   "source": [
    "dev = qml.device(\"default.qubit\", wires=4)\n",
    "\n",
    "def ansatz(params, wires=[0,1,2,3]):\n",
    "    for i in wires:\n",
    "        qml.RY(params[i], wires=wires[i])\n",
    "    qml.CNOT(wires=[wires[0], wires[1]])\n",
    "    qml.CNOT(wires=[wires[2], wires[3]])\n",
    "    qml.CNOT(wires=[wires[1], wires[2]])\n",
    "    for i in wires:\n",
    "        qml.RY(params[i+4], wires=wires[i])\n",
    "    qml.CNOT(wires=[wires[0], wires[1]])\n",
    "    qml.CNOT(wires=[wires[2], wires[3]])\n",
    "    qml.CNOT(wires=[wires[1], wires[2]])"
   ]
  },
  {
   "cell_type": "code",
   "execution_count": 4,
   "metadata": {},
   "outputs": [],
   "source": [
    "#create cost function using pennylane tools\n",
    "cost = qml.VQECost(ansatz, hamiltonian, dev)"
   ]
  },
  {
   "cell_type": "markdown",
   "metadata": {},
   "source": [
    "Number of VQE runs"
   ]
  },
  {
   "cell_type": "code",
   "execution_count": 5,
   "metadata": {},
   "outputs": [],
   "source": [
    "k_runs = 25"
   ]
  },
  {
   "cell_type": "code",
   "execution_count": 6,
   "metadata": {},
   "outputs": [],
   "source": [
    "step_size = 0.5\n",
    "max_iterations = 150"
   ]
  },
  {
   "cell_type": "markdown",
   "metadata": {},
   "source": [
    "To ensure that each trial is run fairly, we created a list that holds 25 different random initial parameters. That way, each k'th run for each optimizer will run with the same random inital parameters"
   ]
  },
  {
   "cell_type": "code",
   "execution_count": 9,
   "metadata": {},
   "outputs": [],
   "source": [
    "param_trials = []\n",
    "\n",
    "for i in range(k_runs):\n",
    "    params = np.random.uniform(low=0, high=2*np.pi, size=8).tolist()\n",
    "    param_trials.append(params)"
   ]
  },
  {
   "cell_type": "markdown",
   "metadata": {},
   "source": [
    "Here, we don't terminate based on energy improvement but run a fixed number of steps (150 in this case). "
   ]
  },
  {
   "cell_type": "code",
   "execution_count": null,
   "metadata": {},
   "outputs": [
    {
     "name": "stdout",
     "output_type": "stream",
     "text": [
      "Finished run #0\n"
     ]
    }
   ],
   "source": [
    "# Lists to store energy histories for all the VQE runs\n",
    "energy_history_QNG = []\n",
    "\n",
    "opt = qml.QNGOptimizer(0.05, lam=0.002)\n",
    "\n",
    "for k in range(k_runs):\n",
    "\n",
    "    # Energy history for a single VQE run\n",
    "    energy_history_single_run_QNG = []\n",
    "\n",
    "    # initialize parameters based on param_trials created above\n",
    "    initial_params = param_trials[k]\n",
    "\n",
    "    params = initial_params\n",
    "    prev_energy = cost(params)\n",
    "    energy_history_single_run_QNG.append(prev_energy)\n",
    "\n",
    "    for n in range(max_iterations):\n",
    "\n",
    "        params = opt.step(cost, params)\n",
    "        energy = cost(params)\n",
    "\n",
    "        conv = np.abs(energy - prev_energy)\n",
    "\n",
    "        prev_energy = energy\n",
    "        energy_history_single_run_QNG.append(prev_energy)\n",
    "\n",
    "    if (k) % 5 == 0:\n",
    "        print('Finished run #{}'.format(k))\n",
    "\n",
    "    energy_history_single_run_QNG = np.array(energy_history_single_run_QNG)\n",
    "\n",
    "    energy_history_QNG.append(energy_history_single_run_QNG)"
   ]
  },
  {
   "cell_type": "code",
   "execution_count": null,
   "metadata": {},
   "outputs": [],
   "source": [
    "energy_history_vanilla = []\n",
    "\n",
    "opt = qml.GradientDescentOptimizer(0.05)\n",
    "\n",
    "for k in range(k_runs):\n",
    "\n",
    "    # Energy history for a single VQE run\n",
    "    energy_history_single_run_vanilla = []\n",
    "\n",
    "    # initialize parameters based on param_trials created above\n",
    "    initial_params = param_trials[k]\n",
    "\n",
    "    params = initial_params\n",
    "    prev_energy = cost(params)\n",
    "    energy_history_single_run_vanilla.append(prev_energy)\n",
    "\n",
    "    for n in range(max_iterations):\n",
    "\n",
    "        params = opt.step(cost, params)\n",
    "        energy = cost(params)\n",
    "    \n",
    "        prev_energy = energy\n",
    "        energy_history_single_run_vanilla.append(prev_energy)\n",
    "\n",
    "    if (k) % 5 == 0:\n",
    "        print('Finished run #{}'.format(k))\n",
    "\n",
    "    energy_history_single_run_vanilla = np.array(energy_history_single_run_vanilla)\n",
    "\n",
    "    energy_history_vanilla.append(energy_history_single_run_vanilla)\n"
   ]
  },
  {
   "cell_type": "code",
   "execution_count": null,
   "metadata": {},
   "outputs": [],
   "source": [
    "# Lists to store energy histories for all the VQE runs\n",
    "energy_history_QNG_diag = []\n",
    "\n",
    "opt = qml.QNGOptimizer(0.05, diag_approx=True, lam=0.002)\n",
    "\n",
    "for k in range(k_runs):\n",
    "\n",
    "    # Energy history for a single VQE run\n",
    "    energy_history_single_run_QNG_diag = []\n",
    "\n",
    "    # initialize parameters based on param_trials created above\n",
    "    initial_params = param_trials[k]\n",
    "\n",
    "    params = initial_params\n",
    "    prev_energy = cost(params)\n",
    "    energy_history_single_run_QNG_diag.append(prev_energy)\n",
    "\n",
    "    for n in range(max_iterations):\n",
    "\n",
    "        params = opt.step(cost, params)\n",
    "        energy = cost(params)\n",
    "\n",
    "        conv = np.abs(energy - prev_energy)\n",
    "\n",
    "        prev_energy = energy\n",
    "        energy_history_single_run_QNG_diag.append(prev_energy)\n",
    "\n",
    "    if (k) % 5 == 0:\n",
    "        print('Finished run #{}'.format(k))\n",
    "\n",
    "    energy_history_single_run_QNG_diag = np.array(energy_history_single_run_QNG_diag)\n",
    "\n",
    "    energy_history_QNG_diag.append(energy_history_single_run_QNG_diag)\n"
   ]
  },
  {
   "cell_type": "code",
   "execution_count": null,
   "metadata": {},
   "outputs": [],
   "source": [
    "for i in range(k_runs):\n",
    "    plt.plot(energy_history_QNG[i])\n",
    "\n",
    "print(\"QNG\")\n",
    "plt.show()\n",
    "\n",
    "\n",
    "for i in range(k_runs):\n",
    "    plt.plot(energy_history_QNG_diag[i])\n",
    "\n",
    "print(\"QNG diag. approx.\")\n",
    "plt.show()\n",
    "\n",
    "\n",
    "for i in range(k_runs):\n",
    "    plt.plot(energy_history_vanilla[i])\n",
    "\n",
    "print(\"vanilla\")\n",
    "plt.show()\n"
   ]
  },
  {
   "cell_type": "markdown",
   "metadata": {},
   "source": [
    "To compare the performance of all 3 optimizers, we decided to plot the mean run for all 3 optimizers, and their respective standard deviations.  From the results below, it's clear that regardless of the parameter initializion, both the Block-Diagonal and Diagonal-Approximation QNG runs will out-best the vanilla gradient descent."
   ]
  },
  {
   "cell_type": "code",
   "execution_count": null,
   "metadata": {},
   "outputs": [],
   "source": [
    "%matplotlib inline\n",
    "plt.style.use(\"seaborn\")\n",
    "fig = plt.figure(figsize=(6, 5))\n",
    "\n",
    "ax = plt.axes()\n",
    "ax.set_facecolor(\"white\")\n",
    "\n",
    "'''    PLOTTING STD ---- QNG   '''\n",
    "\n",
    "\n",
    "#needs to be an array for .mean() and .std() to work for some reason\n",
    "energy_hist_QNG = np.asarray(energy_history_QNG)\n",
    "\n",
    "#x values (optimization steps)\n",
    "x = np.arange(max_iterations+1)\n",
    "\n",
    "#calc standard dev. and mean\n",
    "std_qng = energy_hist_QNG.std(axis=0)\n",
    "mean_qng = energy_hist_QNG.mean(axis=0)\n",
    "\n",
    "#plot mean for reference\n",
    "plt.plot(mean_qng, color='blue', label='qng')\n",
    "\n",
    "#plot x values, and fill to +- standard dev\n",
    "plt.fill_between(x, mean_qng-std_qng, mean_qng+std_qng, facecolor='blue', alpha=0.13)\n",
    "\n",
    "plt.xticks(fontsize=14)\n",
    "plt.yticks(fontsize=14)\n",
    "\n",
    "plt.ylabel(\"Energy\", fontsize=18)\n",
    "plt.xlabel(\"Optimization steps\", fontsize=18)\n",
    "\n",
    "plt.tight_layout()\n",
    "\n",
    "\n",
    "'''    PLOTTING STD -- VANILLA GD  '''\n",
    "\n",
    "\n",
    "energy_hist_vanilla = np.asarray(energy_history_vanilla)\n",
    "\n",
    "\n",
    "x = np.arange(max_iterations+1)\n",
    "\n",
    "\n",
    "std_vanilla = energy_hist_vanilla.std(axis=0)\n",
    "mean_vanilla = energy_hist_vanilla.mean(axis=0)\n",
    "\n",
    "\n",
    "plt.plot(mean_vanilla, color='green', label='vanilla gd')\n",
    "\n",
    "\n",
    "plt.fill_between(x, mean_vanilla-std_vanilla, mean_vanilla+std_vanilla, facecolor='green', alpha=0.13,)\n",
    "\n",
    "plt.xticks(fontsize=14)\n",
    "plt.yticks(fontsize=14)\n",
    "\n",
    "plt.ylabel(\"Energy\", fontsize=18)\n",
    "plt.xlabel(\"Optimization steps\", fontsize=18)\n",
    "\n",
    "\n",
    "plt.tight_layout()\n",
    "ax. legend(loc='upper right', frameon=True, fontsize=15)\n",
    "plt.show()\n"
   ]
  },
  {
   "cell_type": "code",
   "execution_count": null,
   "metadata": {},
   "outputs": [],
   "source": []
  }
 ],
 "metadata": {
  "kernelspec": {
   "display_name": "Python 3",
   "language": "python",
   "name": "python3"
  },
  "language_info": {
   "codemirror_mode": {
    "name": "ipython",
    "version": 3
   },
   "file_extension": ".py",
   "mimetype": "text/x-python",
   "name": "python",
   "nbconvert_exporter": "python",
   "pygments_lexer": "ipython3",
   "version": "3.7.4"
  }
 },
 "nbformat": 4,
 "nbformat_minor": 2
}
